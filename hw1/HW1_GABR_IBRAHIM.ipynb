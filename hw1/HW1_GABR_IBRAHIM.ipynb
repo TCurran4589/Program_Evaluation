{
 "cells": [
  {
   "cell_type": "code",
   "execution_count": 1,
   "metadata": {
    "collapsed": true
   },
   "outputs": [],
   "source": [
    "import warnings\n",
    "warnings.filterwarnings(\"ignore\", category=FutureWarning)\n",
    "import pandas as pd\n",
    "import seaborn as sns\n",
    "import matplotlib.pyplot as plt\n",
    "import statsmodels.api as sm\n",
    "from sklearn.preprocessing import LabelEncoder\n",
    "plt.rcParams[\"figure.figsize\"] = (15, 25)\n",
    "plt.rcParams[\"xtick.labelsize\"] = 16\n",
    "plt.rcParams[\"ytick.labelsize\"] = 16\n",
    "plt.rcParams[\"axes.labelsize\"] = 20\n",
    "plt.rcParams['legend.fontsize'] = 20\n",
    "%matplotlib inline"
   ]
  },
  {
   "cell_type": "markdown",
   "metadata": {},
   "source": [
    "# Part I.\n",
    "\n",
    "# Question 1"
   ]
  },
  {
   "cell_type": "code",
   "execution_count": 2,
   "metadata": {},
   "outputs": [
    {
     "data": {
      "text/html": [
       "<div>\n",
       "<style>\n",
       "    .dataframe thead tr:only-child th {\n",
       "        text-align: right;\n",
       "    }\n",
       "\n",
       "    .dataframe thead th {\n",
       "        text-align: left;\n",
       "    }\n",
       "\n",
       "    .dataframe tbody tr th {\n",
       "        vertical-align: top;\n",
       "    }\n",
       "</style>\n",
       "<table border=\"1\" class=\"dataframe\">\n",
       "  <thead>\n",
       "    <tr style=\"text-align: right;\">\n",
       "      <th></th>\n",
       "      <th>Fiscal Year Released</th>\n",
       "      <th>Recidivism Reporting Year</th>\n",
       "      <th>Race - Ethnicity</th>\n",
       "      <th>Sex</th>\n",
       "      <th>Age At Release</th>\n",
       "      <th>Convicting Offense Classification</th>\n",
       "      <th>Convicting Offense Type</th>\n",
       "      <th>Convicting Offense Subtype</th>\n",
       "      <th>Release Type</th>\n",
       "      <th>Main Supervising District</th>\n",
       "      <th>Recidivism - Return to Prison</th>\n",
       "      <th>Recidivism Type</th>\n",
       "      <th>Days to Recidivism</th>\n",
       "      <th>New Conviction Offense Classification</th>\n",
       "      <th>New Conviction Offense Type</th>\n",
       "      <th>New Conviction Offense Sub Type</th>\n",
       "      <th>Part of Target Population</th>\n",
       "    </tr>\n",
       "  </thead>\n",
       "  <tbody>\n",
       "    <tr>\n",
       "      <th>0</th>\n",
       "      <td>2010</td>\n",
       "      <td>2013</td>\n",
       "      <td>White - Non-Hispanic</td>\n",
       "      <td>M</td>\n",
       "      <td>Under 25</td>\n",
       "      <td>D Felony</td>\n",
       "      <td>Violent</td>\n",
       "      <td>Assault</td>\n",
       "      <td>Parole</td>\n",
       "      <td>4JD</td>\n",
       "      <td>Yes</td>\n",
       "      <td>Tech</td>\n",
       "      <td>16.0</td>\n",
       "      <td>NaN</td>\n",
       "      <td>NaN</td>\n",
       "      <td>NaN</td>\n",
       "      <td>Yes</td>\n",
       "    </tr>\n",
       "    <tr>\n",
       "      <th>1</th>\n",
       "      <td>2010</td>\n",
       "      <td>2013</td>\n",
       "      <td>White - Non-Hispanic</td>\n",
       "      <td>M</td>\n",
       "      <td>55 and Older</td>\n",
       "      <td>D Felony</td>\n",
       "      <td>Public Order</td>\n",
       "      <td>OWI</td>\n",
       "      <td>Parole</td>\n",
       "      <td>7JD</td>\n",
       "      <td>Yes</td>\n",
       "      <td>Tech</td>\n",
       "      <td>19.0</td>\n",
       "      <td>NaN</td>\n",
       "      <td>NaN</td>\n",
       "      <td>NaN</td>\n",
       "      <td>Yes</td>\n",
       "    </tr>\n",
       "    <tr>\n",
       "      <th>2</th>\n",
       "      <td>2010</td>\n",
       "      <td>2013</td>\n",
       "      <td>White - Non-Hispanic</td>\n",
       "      <td>M</td>\n",
       "      <td>25-34</td>\n",
       "      <td>D Felony</td>\n",
       "      <td>Property</td>\n",
       "      <td>Burglary</td>\n",
       "      <td>Parole</td>\n",
       "      <td>5JD</td>\n",
       "      <td>Yes</td>\n",
       "      <td>Tech</td>\n",
       "      <td>22.0</td>\n",
       "      <td>NaN</td>\n",
       "      <td>NaN</td>\n",
       "      <td>NaN</td>\n",
       "      <td>Yes</td>\n",
       "    </tr>\n",
       "    <tr>\n",
       "      <th>3</th>\n",
       "      <td>2010</td>\n",
       "      <td>2013</td>\n",
       "      <td>White - Non-Hispanic</td>\n",
       "      <td>M</td>\n",
       "      <td>55 and Older</td>\n",
       "      <td>C Felony</td>\n",
       "      <td>Drug</td>\n",
       "      <td>Trafficking</td>\n",
       "      <td>Parole</td>\n",
       "      <td>8JD</td>\n",
       "      <td>Yes</td>\n",
       "      <td>Tech</td>\n",
       "      <td>25.0</td>\n",
       "      <td>NaN</td>\n",
       "      <td>NaN</td>\n",
       "      <td>NaN</td>\n",
       "      <td>Yes</td>\n",
       "    </tr>\n",
       "    <tr>\n",
       "      <th>4</th>\n",
       "      <td>2010</td>\n",
       "      <td>2013</td>\n",
       "      <td>Black - Non-Hispanic</td>\n",
       "      <td>M</td>\n",
       "      <td>25-34</td>\n",
       "      <td>D Felony</td>\n",
       "      <td>Drug</td>\n",
       "      <td>Trafficking</td>\n",
       "      <td>Parole</td>\n",
       "      <td>3JD</td>\n",
       "      <td>Yes</td>\n",
       "      <td>Tech</td>\n",
       "      <td>26.0</td>\n",
       "      <td>NaN</td>\n",
       "      <td>NaN</td>\n",
       "      <td>NaN</td>\n",
       "      <td>Yes</td>\n",
       "    </tr>\n",
       "  </tbody>\n",
       "</table>\n",
       "</div>"
      ],
      "text/plain": [
       "   Fiscal Year Released  Recidivism Reporting Year      Race - Ethnicity Sex  \\\n",
       "0                  2010                       2013  White - Non-Hispanic   M   \n",
       "1                  2010                       2013  White - Non-Hispanic   M   \n",
       "2                  2010                       2013  White - Non-Hispanic   M   \n",
       "3                  2010                       2013  White - Non-Hispanic   M   \n",
       "4                  2010                       2013  Black - Non-Hispanic   M   \n",
       "\n",
       "  Age At Release  Convicting Offense Classification Convicting Offense Type  \\\n",
       "0        Under 25                          D Felony                 Violent   \n",
       "1    55 and Older                          D Felony            Public Order   \n",
       "2           25-34                          D Felony                Property   \n",
       "3    55 and Older                          C Felony                    Drug   \n",
       "4           25-34                          D Felony                    Drug   \n",
       "\n",
       "  Convicting Offense Subtype Release Type Main Supervising District  \\\n",
       "0                    Assault       Parole                       4JD   \n",
       "1                        OWI       Parole                       7JD   \n",
       "2                   Burglary       Parole                       5JD   \n",
       "3                Trafficking       Parole                       8JD   \n",
       "4                Trafficking       Parole                       3JD   \n",
       "\n",
       "  Recidivism - Return to Prison Recidivism Type  Days to Recidivism  \\\n",
       "0                           Yes            Tech                16.0   \n",
       "1                           Yes            Tech                19.0   \n",
       "2                           Yes            Tech                22.0   \n",
       "3                           Yes            Tech                25.0   \n",
       "4                           Yes            Tech                26.0   \n",
       "\n",
       "  New Conviction Offense Classification New Conviction Offense Type  \\\n",
       "0                                   NaN                         NaN   \n",
       "1                                   NaN                         NaN   \n",
       "2                                   NaN                         NaN   \n",
       "3                                   NaN                         NaN   \n",
       "4                                   NaN                         NaN   \n",
       "\n",
       "  New Conviction Offense Sub Type Part of Target Population  \n",
       "0                             NaN                       Yes  \n",
       "1                             NaN                       Yes  \n",
       "2                             NaN                       Yes  \n",
       "3                             NaN                       Yes  \n",
       "4                             NaN                       Yes  "
      ]
     },
     "execution_count": 2,
     "metadata": {},
     "output_type": "execute_result"
    }
   ],
   "source": [
    "data = pd.read_csv(\"3-Year_Recidivism_for_Offenders_Released_from_Prison.csv\")\n",
    "data.head()"
   ]
  },
  {
   "cell_type": "code",
   "execution_count": 3,
   "metadata": {
    "scrolled": true
   },
   "outputs": [
    {
     "data": {
      "text/html": [
       "<div>\n",
       "<style>\n",
       "    .dataframe thead tr:only-child th {\n",
       "        text-align: right;\n",
       "    }\n",
       "\n",
       "    .dataframe thead th {\n",
       "        text-align: left;\n",
       "    }\n",
       "\n",
       "    .dataframe tbody tr th {\n",
       "        vertical-align: top;\n",
       "    }\n",
       "</style>\n",
       "<table border=\"1\" class=\"dataframe\">\n",
       "  <thead>\n",
       "    <tr style=\"text-align: right;\">\n",
       "      <th></th>\n",
       "      <th>Recidivism - Return to Prison</th>\n",
       "      <th>Y</th>\n",
       "      <th>Part of Target Population</th>\n",
       "      <th>D</th>\n",
       "    </tr>\n",
       "  </thead>\n",
       "  <tbody>\n",
       "    <tr>\n",
       "      <th>21641</th>\n",
       "      <td>No</td>\n",
       "      <td>0</td>\n",
       "      <td>Yes</td>\n",
       "      <td>1</td>\n",
       "    </tr>\n",
       "    <tr>\n",
       "      <th>21642</th>\n",
       "      <td>Yes</td>\n",
       "      <td>1</td>\n",
       "      <td>Yes</td>\n",
       "      <td>1</td>\n",
       "    </tr>\n",
       "    <tr>\n",
       "      <th>21643</th>\n",
       "      <td>No</td>\n",
       "      <td>0</td>\n",
       "      <td>No</td>\n",
       "      <td>0</td>\n",
       "    </tr>\n",
       "    <tr>\n",
       "      <th>21644</th>\n",
       "      <td>No</td>\n",
       "      <td>0</td>\n",
       "      <td>No</td>\n",
       "      <td>0</td>\n",
       "    </tr>\n",
       "    <tr>\n",
       "      <th>21645</th>\n",
       "      <td>Yes</td>\n",
       "      <td>1</td>\n",
       "      <td>Yes</td>\n",
       "      <td>1</td>\n",
       "    </tr>\n",
       "  </tbody>\n",
       "</table>\n",
       "</div>"
      ],
      "text/plain": [
       "      Recidivism - Return to Prison  Y Part of Target Population  D\n",
       "21641                            No  0                       Yes  1\n",
       "21642                           Yes  1                       Yes  1\n",
       "21643                            No  0                        No  0\n",
       "21644                            No  0                        No  0\n",
       "21645                           Yes  1                       Yes  1"
      ]
     },
     "execution_count": 3,
     "metadata": {},
     "output_type": "execute_result"
    }
   ],
   "source": [
    "encoder = LabelEncoder()\n",
    "data['Y'] = encoder.fit_transform(data['Recidivism - Return to Prison'])\n",
    "data['D'] = encoder.fit_transform(data['Part of Target Population'])\n",
    "data[['Recidivism - Return to Prison', 'Y', 'Part of Target Population', 'D']].tail()"
   ]
  },
  {
   "cell_type": "markdown",
   "metadata": {},
   "source": [
    "# Question 2"
   ]
  },
  {
   "cell_type": "code",
   "execution_count": 4,
   "metadata": {},
   "outputs": [
    {
     "data": {
      "text/html": [
       "<div>\n",
       "<style>\n",
       "    .dataframe thead tr:only-child th {\n",
       "        text-align: right;\n",
       "    }\n",
       "\n",
       "    .dataframe thead th {\n",
       "        text-align: left;\n",
       "    }\n",
       "\n",
       "    .dataframe tbody tr th {\n",
       "        vertical-align: top;\n",
       "    }\n",
       "</style>\n",
       "<table border=\"1\" class=\"dataframe\">\n",
       "  <thead>\n",
       "    <tr style=\"text-align: right;\">\n",
       "      <th></th>\n",
       "      <th>Y</th>\n",
       "    </tr>\n",
       "    <tr>\n",
       "      <th>D</th>\n",
       "      <th></th>\n",
       "    </tr>\n",
       "  </thead>\n",
       "  <tbody>\n",
       "    <tr>\n",
       "      <th>0</th>\n",
       "      <td>10178</td>\n",
       "    </tr>\n",
       "    <tr>\n",
       "      <th>1</th>\n",
       "      <td>11468</td>\n",
       "    </tr>\n",
       "  </tbody>\n",
       "</table>\n",
       "</div>"
      ],
      "text/plain": [
       "       Y\n",
       "D       \n",
       "0  10178\n",
       "1  11468"
      ]
     },
     "execution_count": 4,
     "metadata": {},
     "output_type": "execute_result"
    }
   ],
   "source": [
    "data.groupby('D').count()['Y'].reset_index().set_index(\"D\")"
   ]
  },
  {
   "cell_type": "markdown",
   "metadata": {},
   "source": [
    "$Pr(Participant) = Pr(D = 1) = \\frac{11468}{21646} = 0.5297976531460779$\n",
    "\n",
    "\n",
    "$Pr(Not Participant) = Pr(D = 0) = 1 - Pr(D = 1) = 0.47020234685392215$"
   ]
  },
  {
   "cell_type": "code",
   "execution_count": 5,
   "metadata": {},
   "outputs": [
    {
     "data": {
      "text/html": [
       "<div>\n",
       "<style>\n",
       "    .dataframe thead tr:only-child th {\n",
       "        text-align: right;\n",
       "    }\n",
       "\n",
       "    .dataframe thead th {\n",
       "        text-align: left;\n",
       "    }\n",
       "\n",
       "    .dataframe tbody tr th {\n",
       "        vertical-align: top;\n",
       "    }\n",
       "</style>\n",
       "<table border=\"1\" class=\"dataframe\">\n",
       "  <thead>\n",
       "    <tr style=\"text-align: right;\">\n",
       "      <th></th>\n",
       "      <th>D</th>\n",
       "    </tr>\n",
       "    <tr>\n",
       "      <th>Y</th>\n",
       "      <th></th>\n",
       "    </tr>\n",
       "  </thead>\n",
       "  <tbody>\n",
       "    <tr>\n",
       "      <th>0</th>\n",
       "      <td>14619</td>\n",
       "    </tr>\n",
       "    <tr>\n",
       "      <th>1</th>\n",
       "      <td>7027</td>\n",
       "    </tr>\n",
       "  </tbody>\n",
       "</table>\n",
       "</div>"
      ],
      "text/plain": [
       "       D\n",
       "Y       \n",
       "0  14619\n",
       "1   7027"
      ]
     },
     "execution_count": 5,
     "metadata": {},
     "output_type": "execute_result"
    }
   ],
   "source": [
    "data.groupby('Y').count()['D'].reset_index().set_index(\"Y\")"
   ]
  },
  {
   "cell_type": "markdown",
   "metadata": {},
   "source": [
    "$E(Recidivist) = Pr(Recidivist) = Pr(Y = 1) = \\frac{7027}{21646} = 0.32463272660075765$"
   ]
  },
  {
   "cell_type": "code",
   "execution_count": 6,
   "metadata": {
    "scrolled": true
   },
   "outputs": [
    {
     "data": {
      "text/html": [
       "<div>\n",
       "<style>\n",
       "    .dataframe thead tr:only-child th {\n",
       "        text-align: right;\n",
       "    }\n",
       "\n",
       "    .dataframe thead th {\n",
       "        text-align: left;\n",
       "    }\n",
       "\n",
       "    .dataframe tbody tr th {\n",
       "        vertical-align: top;\n",
       "    }\n",
       "</style>\n",
       "<table border=\"1\" class=\"dataframe\">\n",
       "  <thead>\n",
       "    <tr style=\"text-align: right;\">\n",
       "      <th></th>\n",
       "      <th>D</th>\n",
       "    </tr>\n",
       "    <tr>\n",
       "      <th>Y</th>\n",
       "      <th></th>\n",
       "    </tr>\n",
       "  </thead>\n",
       "  <tbody>\n",
       "    <tr>\n",
       "      <th>0</th>\n",
       "      <td>7131</td>\n",
       "    </tr>\n",
       "    <tr>\n",
       "      <th>1</th>\n",
       "      <td>4337</td>\n",
       "    </tr>\n",
       "  </tbody>\n",
       "</table>\n",
       "</div>"
      ],
      "text/plain": [
       "      D\n",
       "Y      \n",
       "0  7131\n",
       "1  4337"
      ]
     },
     "execution_count": 6,
     "metadata": {},
     "output_type": "execute_result"
    }
   ],
   "source": [
    "subset = data[['Y','D']]\n",
    "subset[subset['D'] == 1].groupby('Y').count()"
   ]
  },
  {
   "cell_type": "markdown",
   "metadata": {},
   "source": [
    "$\\frac{7137}{11474} = 0.6220149904131079$\n",
    "\n",
    "\n",
    "$\\frac{4337}{11474} = 0.37798500958689213$\n",
    "\n",
    "\n",
    "$$E[Recidivist | Participant] = E[Y | D = 1] = 0 \\cdot 0.6220149904131079 + 1 \\cdot 0.37798500958689213 = 0.37798500958689213$$"
   ]
  },
  {
   "cell_type": "code",
   "execution_count": 7,
   "metadata": {},
   "outputs": [
    {
     "data": {
      "text/html": [
       "<div>\n",
       "<style>\n",
       "    .dataframe thead tr:only-child th {\n",
       "        text-align: right;\n",
       "    }\n",
       "\n",
       "    .dataframe thead th {\n",
       "        text-align: left;\n",
       "    }\n",
       "\n",
       "    .dataframe tbody tr th {\n",
       "        vertical-align: top;\n",
       "    }\n",
       "</style>\n",
       "<table border=\"1\" class=\"dataframe\">\n",
       "  <thead>\n",
       "    <tr style=\"text-align: right;\">\n",
       "      <th></th>\n",
       "      <th>D</th>\n",
       "    </tr>\n",
       "    <tr>\n",
       "      <th>Y</th>\n",
       "      <th></th>\n",
       "    </tr>\n",
       "  </thead>\n",
       "  <tbody>\n",
       "    <tr>\n",
       "      <th>0</th>\n",
       "      <td>7488</td>\n",
       "    </tr>\n",
       "    <tr>\n",
       "      <th>1</th>\n",
       "      <td>2690</td>\n",
       "    </tr>\n",
       "  </tbody>\n",
       "</table>\n",
       "</div>"
      ],
      "text/plain": [
       "      D\n",
       "Y      \n",
       "0  7488\n",
       "1  2690"
      ]
     },
     "execution_count": 7,
     "metadata": {},
     "output_type": "execute_result"
    }
   ],
   "source": [
    "subset = data[['Y','D']]\n",
    "subset[subset['D'] == 0].groupby('Y').count()"
   ]
  },
  {
   "cell_type": "markdown",
   "metadata": {},
   "source": [
    "$\\frac{7488}{10178} = 0.7357044606012969$\n",
    "\n",
    "\n",
    "$\\frac{2690}{10178} = 0.2642955393987031$\n",
    "\n",
    "\n",
    "$$E[Recidivist | Not Participant] = E[Y | D = 0] = 0 \\cdot 0.7357044606012969 + 1 \\cdot 0.2642955393987031 = 0.2642955393987031$$"
   ]
  },
  {
   "cell_type": "code",
   "execution_count": 8,
   "metadata": {},
   "outputs": [
    {
     "data": {
      "text/plain": [
       "21646"
      ]
     },
     "execution_count": 8,
     "metadata": {},
     "output_type": "execute_result"
    }
   ],
   "source": [
    "data.shape[0]"
   ]
  },
  {
   "cell_type": "markdown",
   "metadata": {},
   "source": [
    "$N = 21646$"
   ]
  },
  {
   "cell_type": "markdown",
   "metadata": {},
   "source": [
    "# Question 3"
   ]
  },
  {
   "cell_type": "markdown",
   "metadata": {},
   "source": [
    "$\\hat{\\Delta}^{ATE}_{N} = 0.37798500958689213 - 0.2642955393987031 = 0.11368947018818903$"
   ]
  },
  {
   "cell_type": "markdown",
   "metadata": {},
   "source": [
    "# Question 4"
   ]
  },
  {
   "cell_type": "markdown",
   "metadata": {},
   "source": [
    "This suggests that participating in the program causes recidivism!\n",
    "\n",
    "The underlying assumptions are:\n",
    "\n",
    "- $E(Y_{1i}) = E[Y_{1i}|D=1]$\n",
    "\n",
    "\n",
    "- $E(Y_{0i}) = E[Y_{0i}|D=0]$\n"
   ]
  },
  {
   "cell_type": "markdown",
   "metadata": {},
   "source": [
    "# Question 5\n",
    "\n",
    "Let's bound the impacts:\n",
    "\n",
    "$E(Y_{1i}) = Pr(D=1) \\cdot E[Y_{1i}|D=1] + Pr(D=0) \\cdot E[Y_{1i}|D=0]$\n",
    "\n",
    "The missing counter factual is: $E[Y_{1i}|D=0]$\n",
    "\n",
    "This term represents: The expected value of those who were treatment (in reality) had they not been treated.\n",
    "\n",
    "In simple terms: What would have happened to the people who were treated had they not been treated.\n",
    "\n",
    "This is something that we cannot observe - hence, it is the missing counterfactual."
   ]
  },
  {
   "cell_type": "markdown",
   "metadata": {},
   "source": [
    "# Question 6\n",
    "\n",
    "$E(Y_{1i})^{UB} = 0.5297976531460779 \\cdot 0.37798500958689213 + 0.47020234685392215 \\cdot 1 = 0.6704579178574553$\n",
    "\n",
    "$E(Y_{1i})^{LB} = 0.5297976531460779 \\cdot 0.37798500958689213 + 0.47020234685392215 \\cdot 0 = 0.2002555710035332$"
   ]
  },
  {
   "cell_type": "markdown",
   "metadata": {},
   "source": [
    "# Question 7"
   ]
  },
  {
   "cell_type": "markdown",
   "metadata": {},
   "source": [
    "$E(Y_{1i}) = Pr(D=1) \\cdot E[Y_{0i}|D=1] + Pr(D=0) \\cdot E[Y_{0i}|D=0]$\n",
    "\n",
    "The missing counter factual is: $E[Y_{0i}|D=1]$\n",
    "\n",
    "This term represents: The expected value of those who did not recieve treatment (in reality) had they been treated.\n",
    "\n",
    "In other words, what would have happened to those who were not treated, had they been treated - this is something we cannot observe, hence it is the counter factual!"
   ]
  },
  {
   "cell_type": "markdown",
   "metadata": {},
   "source": [
    "# Question 8\n",
    "\n",
    "$E(Y_{0i})^{UB} = 0.5297976531460779 \\cdot 1 + 0.47020234685392215 \\cdot 0.2642955393987031 = 0.6540700360343713$\n",
    "\n",
    "$E(Y_{0i})^{LB} = 0.5297976531460779 \\cdot 0 + 0.47020234685392215 \\cdot 0.2642955393987031 = 0.12427238288829344$"
   ]
  },
  {
   "cell_type": "markdown",
   "metadata": {},
   "source": [
    "# Question 9\n",
    "\n",
    "$ATE^{UB} = E(Y_{1i})^{UB} - E(Y_{0i})^{LB} = 0.6704579178574553 - 0.12427238288829344 = 0.5461855349691619$\n",
    "\n",
    "\n",
    "$ATE^{LB} = E(Y_{1i})^{LB} - E(Y_{0i})^{UB} = 0.2002555710035332 - 0.6540700360343713 = -0.4538144650308381$\n",
    "\n",
    "The bound is $(-0.454, 0.546)$\n",
    "\n",
    "The naive estimator is within this range"
   ]
  },
  {
   "cell_type": "code",
   "execution_count": 9,
   "metadata": {},
   "outputs": [
    {
     "data": {
      "text/plain": [
       "True"
      ]
     },
     "execution_count": 9,
     "metadata": {},
     "output_type": "execute_result"
    }
   ],
   "source": [
    "bounds = list(np.arange(-0.454, 0.546, 0.001))\n",
    "bounds = [round(i, 3) for i in bounds]\n",
    "0.114 in bounds"
   ]
  },
  {
   "cell_type": "markdown",
   "metadata": {},
   "source": [
    "The no-assumptions bound, $(-0.454, 0.546)$, tells us that without assumptions the data is just not very informative - the treatment effect could reduce recidivism by about 50% or increase it by about 50%.\n",
    "\n",
    "Manski bounds make no assumptions about the counter-factual probabilities.\n",
    "\n",
    "A downside of bounding, at least in this manner, is that the interval is so large that it is essentially useless."
   ]
  },
  {
   "cell_type": "markdown",
   "metadata": {},
   "source": [
    "# Part II"
   ]
  },
  {
   "cell_type": "code",
   "execution_count": 10,
   "metadata": {},
   "outputs": [
    {
     "data": {
      "text/html": [
       "<div>\n",
       "<style>\n",
       "    .dataframe thead tr:only-child th {\n",
       "        text-align: right;\n",
       "    }\n",
       "\n",
       "    .dataframe thead th {\n",
       "        text-align: left;\n",
       "    }\n",
       "\n",
       "    .dataframe tbody tr th {\n",
       "        vertical-align: top;\n",
       "    }\n",
       "</style>\n",
       "<table border=\"1\" class=\"dataframe\">\n",
       "  <thead>\n",
       "    <tr style=\"text-align: right;\">\n",
       "      <th></th>\n",
       "      <th>household_id</th>\n",
       "      <th>job_earnings</th>\n",
       "      <th>head_gender</th>\n",
       "      <th>head_age</th>\n",
       "      <th>head_schooling</th>\n",
       "      <th>tot_members</th>\n",
       "      <th>men</th>\n",
       "      <th>women</th>\n",
       "      <th>age12_64</th>\n",
       "      <th>workers</th>\n",
       "      <th>loc_size</th>\n",
       "    </tr>\n",
       "  </thead>\n",
       "  <tbody>\n",
       "    <tr>\n",
       "      <th>0</th>\n",
       "      <td>100003801.0</td>\n",
       "      <td>100696.703125</td>\n",
       "      <td>1</td>\n",
       "      <td>33</td>\n",
       "      <td>10</td>\n",
       "      <td>2</td>\n",
       "      <td>1</td>\n",
       "      <td>1</td>\n",
       "      <td>2</td>\n",
       "      <td>2</td>\n",
       "      <td>1</td>\n",
       "    </tr>\n",
       "    <tr>\n",
       "      <th>1</th>\n",
       "      <td>100003802.0</td>\n",
       "      <td>144157.156250</td>\n",
       "      <td>1</td>\n",
       "      <td>29</td>\n",
       "      <td>10</td>\n",
       "      <td>2</td>\n",
       "      <td>1</td>\n",
       "      <td>1</td>\n",
       "      <td>2</td>\n",
       "      <td>2</td>\n",
       "      <td>1</td>\n",
       "    </tr>\n",
       "    <tr>\n",
       "      <th>2</th>\n",
       "      <td>100003803.0</td>\n",
       "      <td>82622.953125</td>\n",
       "      <td>1</td>\n",
       "      <td>47</td>\n",
       "      <td>10</td>\n",
       "      <td>6</td>\n",
       "      <td>2</td>\n",
       "      <td>4</td>\n",
       "      <td>3</td>\n",
       "      <td>1</td>\n",
       "      <td>1</td>\n",
       "    </tr>\n",
       "    <tr>\n",
       "      <th>3</th>\n",
       "      <td>100003804.0</td>\n",
       "      <td>34672.109375</td>\n",
       "      <td>2</td>\n",
       "      <td>29</td>\n",
       "      <td>11</td>\n",
       "      <td>3</td>\n",
       "      <td>0</td>\n",
       "      <td>3</td>\n",
       "      <td>3</td>\n",
       "      <td>2</td>\n",
       "      <td>1</td>\n",
       "    </tr>\n",
       "    <tr>\n",
       "      <th>4</th>\n",
       "      <td>100003805.0</td>\n",
       "      <td>42295.070312</td>\n",
       "      <td>1</td>\n",
       "      <td>55</td>\n",
       "      <td>10</td>\n",
       "      <td>2</td>\n",
       "      <td>2</td>\n",
       "      <td>0</td>\n",
       "      <td>2</td>\n",
       "      <td>1</td>\n",
       "      <td>1</td>\n",
       "    </tr>\n",
       "  </tbody>\n",
       "</table>\n",
       "</div>"
      ],
      "text/plain": [
       "   household_id   job_earnings  head_gender  head_age  head_schooling  \\\n",
       "0   100003801.0  100696.703125            1        33              10   \n",
       "1   100003802.0  144157.156250            1        29              10   \n",
       "2   100003803.0   82622.953125            1        47              10   \n",
       "3   100003804.0   34672.109375            2        29              11   \n",
       "4   100003805.0   42295.070312            1        55              10   \n",
       "\n",
       "   tot_members  men  women  age12_64  workers  loc_size  \n",
       "0            2    1      1         2        2         1  \n",
       "1            2    1      1         2        2         1  \n",
       "2            6    2      4         3        1         1  \n",
       "3            3    0      3         3        2         1  \n",
       "4            2    2      0         2        1         1  "
      ]
     },
     "execution_count": 10,
     "metadata": {},
     "output_type": "execute_result"
    }
   ],
   "source": [
    "data = pd.read_stata(\"ENIGH.dta\")\n",
    "data.head()"
   ]
  },
  {
   "cell_type": "markdown",
   "metadata": {},
   "source": [
    "# Question 1"
   ]
  },
  {
   "cell_type": "code",
   "execution_count": 11,
   "metadata": {
    "scrolled": true
   },
   "outputs": [
    {
     "data": {
      "text/html": [
       "<div>\n",
       "<style>\n",
       "    .dataframe thead tr:only-child th {\n",
       "        text-align: right;\n",
       "    }\n",
       "\n",
       "    .dataframe thead th {\n",
       "        text-align: left;\n",
       "    }\n",
       "\n",
       "    .dataframe tbody tr th {\n",
       "        vertical-align: top;\n",
       "    }\n",
       "</style>\n",
       "<table border=\"1\" class=\"dataframe\">\n",
       "  <thead>\n",
       "    <tr style=\"text-align: right;\">\n",
       "      <th></th>\n",
       "      <th>head_gender</th>\n",
       "      <th>head_male</th>\n",
       "    </tr>\n",
       "  </thead>\n",
       "  <tbody>\n",
       "    <tr>\n",
       "      <th>0</th>\n",
       "      <td>1</td>\n",
       "      <td>1</td>\n",
       "    </tr>\n",
       "    <tr>\n",
       "      <th>1</th>\n",
       "      <td>1</td>\n",
       "      <td>1</td>\n",
       "    </tr>\n",
       "    <tr>\n",
       "      <th>2</th>\n",
       "      <td>1</td>\n",
       "      <td>1</td>\n",
       "    </tr>\n",
       "    <tr>\n",
       "      <th>3</th>\n",
       "      <td>2</td>\n",
       "      <td>0</td>\n",
       "    </tr>\n",
       "    <tr>\n",
       "      <th>4</th>\n",
       "      <td>1</td>\n",
       "      <td>1</td>\n",
       "    </tr>\n",
       "  </tbody>\n",
       "</table>\n",
       "</div>"
      ],
      "text/plain": [
       "   head_gender  head_male\n",
       "0            1          1\n",
       "1            1          1\n",
       "2            1          1\n",
       "3            2          0\n",
       "4            1          1"
      ]
     },
     "execution_count": 11,
     "metadata": {},
     "output_type": "execute_result"
    }
   ],
   "source": [
    "data[\"head_male\"] = data[\"head_gender\"].apply(lambda x: 1 if x == 1 else 0)\n",
    "data[[\"head_gender\", \"head_male\"]].head()"
   ]
  },
  {
   "cell_type": "markdown",
   "metadata": {},
   "source": [
    "### a."
   ]
  },
  {
   "cell_type": "code",
   "execution_count": 12,
   "metadata": {},
   "outputs": [
    {
     "data": {
      "text/plain": [
       "1    0.738405\n",
       "0    0.261595\n",
       "Name: head_male, dtype: float64"
      ]
     },
     "execution_count": 12,
     "metadata": {},
     "output_type": "execute_result"
    }
   ],
   "source": [
    "data['head_male'].value_counts()/data.shape[0]"
   ]
  },
  {
   "cell_type": "markdown",
   "metadata": {},
   "source": [
    "73.8% of households with a male head and 26.2% with female head"
   ]
  },
  {
   "cell_type": "markdown",
   "metadata": {},
   "source": [
    "### b.\n",
    "\n",
    "$Pr(Male\\ Head) = 0.738$\n",
    "\n",
    "$Pr(Not\\ Male \\ Head) = 0.262$\n",
    "\n",
    "$E(Job \\ Earnings) = \\$23,115.943359375$\n",
    "\n",
    "$E(Job \\ Earnings \\ | \\  Male \\ Head) = \\$24,621.771484375$\n",
    "\n",
    "$E(Job \\ Earnings \\ | \\ Not\\ Male \\ Head) = \\$18,864.951171875$\n",
    "\n",
    "$N = 70,311$\n",
    "\n",
    "Naive Estimate is $\\$5,756.82$"
   ]
  },
  {
   "cell_type": "code",
   "execution_count": 13,
   "metadata": {},
   "outputs": [
    {
     "data": {
      "text/plain": [
       "70311"
      ]
     },
     "execution_count": 13,
     "metadata": {},
     "output_type": "execute_result"
    }
   ],
   "source": [
    "# Number of rows\n",
    "data.shape[0]"
   ]
  },
  {
   "cell_type": "code",
   "execution_count": 14,
   "metadata": {},
   "outputs": [
    {
     "data": {
      "text/plain": [
       "23115.943359375"
      ]
     },
     "execution_count": 14,
     "metadata": {},
     "output_type": "execute_result"
    }
   ],
   "source": [
    "#Mean Job Earnings\n",
    "data['job_earnings'].mean()"
   ]
  },
  {
   "cell_type": "code",
   "execution_count": 15,
   "metadata": {},
   "outputs": [
    {
     "data": {
      "text/plain": [
       "24621.771484375"
      ]
     },
     "execution_count": 15,
     "metadata": {},
     "output_type": "execute_result"
    }
   ],
   "source": [
    "#Mean Job Earnings of Male Headed Households only\n",
    "data[data['head_male'] == 1]['job_earnings'].mean()"
   ]
  },
  {
   "cell_type": "code",
   "execution_count": 16,
   "metadata": {},
   "outputs": [
    {
     "data": {
      "text/plain": [
       "18864.951171875"
      ]
     },
     "execution_count": 16,
     "metadata": {},
     "output_type": "execute_result"
    }
   ],
   "source": [
    "#Mean Job Earnings of Female Headed Households only\n",
    "data[data['head_male'] == 0]['job_earnings'].mean()"
   ]
  },
  {
   "cell_type": "code",
   "execution_count": 17,
   "metadata": {},
   "outputs": [
    {
     "data": {
      "text/plain": [
       "5756.8203125"
      ]
     },
     "execution_count": 17,
     "metadata": {},
     "output_type": "execute_result"
    }
   ],
   "source": [
    "naive_estimate = 24621.771484375 - 18864.951171875\n",
    "naive_estimate"
   ]
  },
  {
   "cell_type": "code",
   "execution_count": 18,
   "metadata": {
    "scrolled": true
   },
   "outputs": [
    {
     "name": "stdout",
     "output_type": "stream",
     "text": [
      "                            OLS Regression Results                            \n",
      "==============================================================================\n",
      "Dep. Variable:                      y   R-squared:                       0.006\n",
      "Model:                            OLS   Adj. R-squared:                  0.006\n",
      "Method:                 Least Squares   F-statistic:                     412.3\n",
      "Date:                Wed, 24 Jan 2018   Prob (F-statistic):           2.12e-91\n",
      "Time:                        16:05:27   Log-Likelihood:            -8.3139e+05\n",
      "No. Observations:               70311   AIC:                         1.663e+06\n",
      "Df Residuals:                   70309   BIC:                         1.663e+06\n",
      "Df Model:                           1                                         \n",
      "Covariance Type:            nonrobust                                         \n",
      "==============================================================================\n",
      "                 coef    std err          t      P>|t|      [0.025      0.975]\n",
      "------------------------------------------------------------------------------\n",
      "const       1.886e+04    243.623     77.435      0.000    1.84e+04    1.93e+04\n",
      "x1          5756.7569    283.511     20.305      0.000    5201.075    6312.439\n",
      "==============================================================================\n",
      "Omnibus:                   128580.377   Durbin-Watson:                   1.668\n",
      "Prob(Omnibus):                  0.000   Jarque-Bera (JB):       1104979903.554\n",
      "Skew:                          12.844   Prob(JB):                         0.00\n",
      "Kurtosis:                     616.608   Cond. No.                         3.68\n",
      "==============================================================================\n",
      "\n",
      "Warnings:\n",
      "[1] Standard Errors assume that the covariance matrix of the errors is correctly specified.\n"
     ]
    }
   ],
   "source": [
    "# Regress job_earnings on all features\n",
    "treatment = data['head_male'].values\n",
    "X = sm.add_constant(treatment)\n",
    "y = data['job_earnings'].values\n",
    "\n",
    "model = sm.OLS(y, X)\n",
    "results = model.fit()\n",
    "print(results.summary())"
   ]
  },
  {
   "cell_type": "code",
   "execution_count": 19,
   "metadata": {},
   "outputs": [
    {
     "data": {
      "text/plain": [
       "5756.7568505249183"
      ]
     },
     "execution_count": 19,
     "metadata": {},
     "output_type": "execute_result"
    }
   ],
   "source": [
    "treatment_coef = results.params[-1]\n",
    "treatment_coef"
   ]
  },
  {
   "cell_type": "markdown",
   "metadata": {},
   "source": [
    "The naive estimate and the bivariate regression are in agreement - this is expected.\n",
    "\n",
    "We can interpret this result as: Male Headed households, on average, earn $5,756 more than Female Headed households.\n",
    "\n",
    "The underlying assumptions are:\n",
    "\n",
    "- The Naive estimator is only correct when there are **no** selection problems.\n",
    "\n",
    "\n",
    "- $E(Y_{1i}) = E[Y_{1i}|D=1]$ \n",
    "\n",
    "\n",
    "- $E(Y_{0i}) = E[Y_{0i}|D=0]$\n",
    "\n",
    "If we are to take the naive estimate at face value, it seems that having a male headed household, causes higher job earnings."
   ]
  },
  {
   "cell_type": "markdown",
   "metadata": {},
   "source": [
    "# Question 2\n",
    "\n",
    "### a."
   ]
  },
  {
   "cell_type": "code",
   "execution_count": 20,
   "metadata": {
    "collapsed": true
   },
   "outputs": [],
   "source": [
    "def encode_schooling(val):\n",
    "    no_college = list(range(2,9))\n",
    "    if val == 1:\n",
    "        return np.nan\n",
    "    elif val in no_college:\n",
    "        return 0\n",
    "    else:\n",
    "        return 1\n",
    "    \n",
    "data['head_college'] = data['head_schooling'].apply(lambda x: encode_schooling(x))"
   ]
  },
  {
   "cell_type": "code",
   "execution_count": 21,
   "metadata": {
    "scrolled": true
   },
   "outputs": [
    {
     "data": {
      "text/html": [
       "<div>\n",
       "<style>\n",
       "    .dataframe thead tr:only-child th {\n",
       "        text-align: right;\n",
       "    }\n",
       "\n",
       "    .dataframe thead th {\n",
       "        text-align: left;\n",
       "    }\n",
       "\n",
       "    .dataframe tbody tr th {\n",
       "        vertical-align: top;\n",
       "    }\n",
       "</style>\n",
       "<table border=\"1\" class=\"dataframe\">\n",
       "  <thead>\n",
       "    <tr style=\"text-align: right;\">\n",
       "      <th></th>\n",
       "      <th>head_schooling</th>\n",
       "      <th>head_college</th>\n",
       "    </tr>\n",
       "  </thead>\n",
       "  <tbody>\n",
       "    <tr>\n",
       "      <th>0</th>\n",
       "      <td>10</td>\n",
       "      <td>1.0</td>\n",
       "    </tr>\n",
       "    <tr>\n",
       "      <th>1</th>\n",
       "      <td>10</td>\n",
       "      <td>1.0</td>\n",
       "    </tr>\n",
       "    <tr>\n",
       "      <th>2</th>\n",
       "      <td>10</td>\n",
       "      <td>1.0</td>\n",
       "    </tr>\n",
       "    <tr>\n",
       "      <th>3</th>\n",
       "      <td>11</td>\n",
       "      <td>1.0</td>\n",
       "    </tr>\n",
       "    <tr>\n",
       "      <th>4</th>\n",
       "      <td>10</td>\n",
       "      <td>1.0</td>\n",
       "    </tr>\n",
       "  </tbody>\n",
       "</table>\n",
       "</div>"
      ],
      "text/plain": [
       "   head_schooling  head_college\n",
       "0              10           1.0\n",
       "1              10           1.0\n",
       "2              10           1.0\n",
       "3              11           1.0\n",
       "4              10           1.0"
      ]
     },
     "execution_count": 21,
     "metadata": {},
     "output_type": "execute_result"
    }
   ],
   "source": [
    "data[[\"head_schooling\",\"head_college\"]].head()"
   ]
  },
  {
   "cell_type": "code",
   "execution_count": 22,
   "metadata": {},
   "outputs": [
    {
     "data": {
      "text/html": [
       "<div>\n",
       "<style>\n",
       "    .dataframe thead tr:only-child th {\n",
       "        text-align: right;\n",
       "    }\n",
       "\n",
       "    .dataframe thead th {\n",
       "        text-align: left;\n",
       "    }\n",
       "\n",
       "    .dataframe tbody tr th {\n",
       "        vertical-align: top;\n",
       "    }\n",
       "</style>\n",
       "<table border=\"1\" class=\"dataframe\">\n",
       "  <thead>\n",
       "    <tr style=\"text-align: right;\">\n",
       "      <th></th>\n",
       "      <th>head_schooling</th>\n",
       "      <th>head_college</th>\n",
       "    </tr>\n",
       "  </thead>\n",
       "  <tbody>\n",
       "    <tr>\n",
       "      <th>70306</th>\n",
       "      <td>3</td>\n",
       "      <td>0.0</td>\n",
       "    </tr>\n",
       "    <tr>\n",
       "      <th>70307</th>\n",
       "      <td>1</td>\n",
       "      <td>NaN</td>\n",
       "    </tr>\n",
       "    <tr>\n",
       "      <th>70308</th>\n",
       "      <td>3</td>\n",
       "      <td>0.0</td>\n",
       "    </tr>\n",
       "    <tr>\n",
       "      <th>70309</th>\n",
       "      <td>9</td>\n",
       "      <td>1.0</td>\n",
       "    </tr>\n",
       "    <tr>\n",
       "      <th>70310</th>\n",
       "      <td>5</td>\n",
       "      <td>0.0</td>\n",
       "    </tr>\n",
       "  </tbody>\n",
       "</table>\n",
       "</div>"
      ],
      "text/plain": [
       "       head_schooling  head_college\n",
       "70306               3           0.0\n",
       "70307               1           NaN\n",
       "70308               3           0.0\n",
       "70309               9           1.0\n",
       "70310               5           0.0"
      ]
     },
     "execution_count": 22,
     "metadata": {},
     "output_type": "execute_result"
    }
   ],
   "source": [
    "data[[\"head_schooling\",\"head_college\"]].tail()"
   ]
  },
  {
   "cell_type": "markdown",
   "metadata": {},
   "source": [
    "### b.\n",
    "\n",
    "While it is harder to see outright via the boxplot, the histogram clearly shows differences between households.\n",
    "\n",
    "Furthermore, close inspection of the boxplot shows that make houeholds have a far greater number of points classified as outliers than female headed households.\n",
    "\n",
    "Furthermore, it is important to not be fooled by the lining up of the kernel density estimations as we are dealing with discrete variables. Rather, it is important to notes that female headed households spike between 0 and 1 household members between the ages 12-64. Male headed households spike at 2,4 and 5 household members between the ages 12-64."
   ]
  },
  {
   "cell_type": "code",
   "execution_count": 23,
   "metadata": {},
   "outputs": [
    {
     "data": {
      "image/png": "[encoded data removed]",
      "text/plain": [
       "<matplotlib.figure.Figure at 0x11389b748>"
      ]
     },
     "metadata": {},
     "output_type": "display_data"
    }
   ],
   "source": [
    "fig, ax = plt.subplots()\n",
    "fig.set_size_inches(11.7, 8.27)\n",
    "sns.boxplot(x=data[\"head_male\"], y=data['head_age'], width=0.2, ax=ax)\n",
    "plt.ylabel(\"Age of Household Head\")\n",
    "plt.xlabel(\"0.0 : Female, 1.0: Male\");"
   ]
  },
  {
   "cell_type": "code",
   "execution_count": 24,
   "metadata": {},
   "outputs": [
    {
     "data": {
      "image/png": "[encoded data removed]",
      "text/plain": [
       "<matplotlib.figure.Figure at 0x1080c3a58>"
      ]
     },
     "metadata": {},
     "output_type": "display_data"
    }
   ],
   "source": [
    "g = sns.FacetGrid(data, hue=\"head_male\", size=8, aspect=2)\n",
    "g = g.map(sns.distplot, \"age12_64\").add_legend()\n",
    "plt.ylabel(\"Density\")\n",
    "plt.xlabel(\"# Household Members Aged 12-64\")\n",
    "plt.ylim((0,1.35));"
   ]
  },
  {
   "cell_type": "markdown",
   "metadata": {},
   "source": [
    "### c.\n",
    "\n",
    "63.5% of households in the dataset are in urban settings. 36.5% of households in the dataset are in rural settings.\n",
    "\n",
    "The percentage of emale headed households is higher in urban settings (18.3%) compared to rural settings (7.8%)"
   ]
  },
  {
   "cell_type": "code",
   "execution_count": 25,
   "metadata": {
    "collapsed": true
   },
   "outputs": [],
   "source": [
    "def encode_urban(val):\n",
    "    urban = list(range(1,4))\n",
    "    if val in urban:\n",
    "        return 1\n",
    "    else:\n",
    "        return 0\n",
    "data['urban'] = data['loc_size'].apply(lambda x: encode_urban(x))"
   ]
  },
  {
   "cell_type": "code",
   "execution_count": 26,
   "metadata": {},
   "outputs": [
    {
     "data": {
      "text/plain": [
       "1    0.63542\n",
       "0    0.36458\n",
       "Name: urban, dtype: float64"
      ]
     },
     "execution_count": 26,
     "metadata": {},
     "output_type": "execute_result"
    }
   ],
   "source": [
    "data['urban'].value_counts()/data.shape[0]"
   ]
  },
  {
   "cell_type": "code",
   "execution_count": 27,
   "metadata": {},
   "outputs": [
    {
     "data": {
      "text/plain": [
       "1    0.183314\n",
       "0    0.078281\n",
       "Name: urban, dtype: float64"
      ]
     },
     "execution_count": 27,
     "metadata": {},
     "output_type": "execute_result"
    }
   ],
   "source": [
    "data[data['head_male'] == 0.0]['urban'].value_counts()/data.shape[0]"
   ]
  },
  {
   "cell_type": "markdown",
   "metadata": {},
   "source": [
    "### d.\n",
    "\n",
    "When inspecting the regression outputs below, we find that every bivariate regressions returns a statistically significant difference. Now, the coefficients are quite small, that is why we may not be able to see the differences via exploratory plots.\n",
    "\n",
    "There are significant differences in households headed by men and women."
   ]
  },
  {
   "cell_type": "code",
   "execution_count": 28,
   "metadata": {
    "scrolled": true
   },
   "outputs": [
    {
     "name": "stdout",
     "output_type": "stream",
     "text": [
      "Here are the results of regressing head_age on head_male: \n",
      "\n",
      "                            OLS Regression Results                            \n",
      "==============================================================================\n",
      "Dep. Variable:                      y   R-squared:                       0.019\n",
      "Model:                            OLS   Adj. R-squared:                  0.019\n",
      "Method:                 Least Squares   F-statistic:                     1345.\n",
      "Date:                Wed, 24 Jan 2018   Prob (F-statistic):          9.45e-292\n",
      "Time:                        16:05:28   Log-Likelihood:            -2.9399e+05\n",
      "No. Observations:               70311   AIC:                         5.880e+05\n",
      "Df Residuals:                   70309   BIC:                         5.880e+05\n",
      "Df Model:                           1                                         \n",
      "Covariance Type:            nonrobust                                         \n",
      "==============================================================================\n",
      "                 coef    std err          t      P>|t|      [0.025      0.975]\n",
      "------------------------------------------------------------------------------\n",
      "const         52.6466      0.117    450.819      0.000      52.418      52.875\n",
      "x1            -4.9846      0.136    -36.678      0.000      -5.251      -4.718\n",
      "==============================================================================\n",
      "Omnibus:                     2606.288   Durbin-Watson:                   1.800\n",
      "Prob(Omnibus):                  0.000   Jarque-Bera (JB):             2285.726\n",
      "Skew:                           0.379   Prob(JB):                         0.00\n",
      "Kurtosis:                       2.547   Cond. No.                         3.68\n",
      "==============================================================================\n",
      "\n",
      "Warnings:\n",
      "[1] Standard Errors assume that the covariance matrix of the errors is correctly specified.\n",
      "\n",
      "Here are the results of regressing head_college on head_male: \n",
      "\n",
      "                            OLS Regression Results                            \n",
      "==============================================================================\n",
      "Dep. Variable:                      y   R-squared:                       0.001\n",
      "Model:                            OLS   Adj. R-squared:                  0.001\n",
      "Method:                 Least Squares   F-statistic:                     37.04\n",
      "Date:                Wed, 24 Jan 2018   Prob (F-statistic):           1.17e-09\n",
      "Time:                        16:05:28   Log-Likelihood:                -23666.\n",
      "No. Observations:               64923   AIC:                         4.734e+04\n",
      "Df Residuals:                   64921   BIC:                         4.735e+04\n",
      "Df Model:                           1                                         \n",
      "Covariance Type:            nonrobust                                         \n",
      "==============================================================================\n",
      "                 coef    std err          t      P>|t|      [0.025      0.975]\n",
      "------------------------------------------------------------------------------\n",
      "const          0.1271      0.003     46.637      0.000       0.122       0.132\n",
      "x1             0.0192      0.003      6.086      0.000       0.013       0.025\n",
      "==============================================================================\n",
      "Omnibus:                    23123.351   Durbin-Watson:                   1.574\n",
      "Prob(Omnibus):                  0.000   Jarque-Bera (JB):            59199.583\n",
      "Skew:                           2.056   Prob(JB):                         0.00\n",
      "Kurtosis:                       5.231   Cond. No.                         3.76\n",
      "==============================================================================\n",
      "\n",
      "Warnings:\n",
      "[1] Standard Errors assume that the covariance matrix of the errors is correctly specified.\n",
      "\n",
      "Here are the results of regressing tot_members on head_male: \n",
      "\n",
      "                            OLS Regression Results                            \n",
      "==============================================================================\n",
      "Dep. Variable:                      y   R-squared:                       0.025\n",
      "Model:                            OLS   Adj. R-squared:                  0.025\n",
      "Method:                 Least Squares   F-statistic:                     1784.\n",
      "Date:                Wed, 24 Jan 2018   Prob (F-statistic):               0.00\n",
      "Time:                        16:05:28   Log-Likelihood:            -1.4180e+05\n",
      "No. Observations:               70311   AIC:                         2.836e+05\n",
      "Df Residuals:                   70309   BIC:                         2.836e+05\n",
      "Df Model:                           1                                         \n",
      "Covariance Type:            nonrobust                                         \n",
      "==============================================================================\n",
      "                 coef    std err          t      P>|t|      [0.025      0.975]\n",
      "------------------------------------------------------------------------------\n",
      "const          3.1779      0.013    237.056      0.000       3.152       3.204\n",
      "x1             0.6590      0.016     42.240      0.000       0.628       0.690\n",
      "==============================================================================\n",
      "Omnibus:                    12544.944   Durbin-Watson:                   1.875\n",
      "Prob(Omnibus):                  0.000   Jarque-Bera (JB):            31377.440\n",
      "Skew:                           0.994   Prob(JB):                         0.00\n",
      "Kurtosis:                       5.599   Cond. No.                         3.68\n",
      "==============================================================================\n",
      "\n",
      "Warnings:\n",
      "[1] Standard Errors assume that the covariance matrix of the errors is correctly specified.\n",
      "\n",
      "Here are the results of regressing men on head_male: \n",
      "\n",
      "                            OLS Regression Results                            \n",
      "==============================================================================\n",
      "Dep. Variable:                      y   R-squared:                       0.100\n",
      "Model:                            OLS   Adj. R-squared:                  0.100\n",
      "Method:                 Least Squares   F-statistic:                     7851.\n",
      "Date:                Wed, 24 Jan 2018   Prob (F-statistic):               0.00\n",
      "Time:                        16:05:28   Log-Likelihood:            -1.0635e+05\n",
      "No. Observations:               70311   AIC:                         2.127e+05\n",
      "Df Residuals:                   70309   BIC:                         2.127e+05\n",
      "Df Model:                           1                                         \n",
      "Covariance Type:            nonrobust                                         \n",
      "==============================================================================\n",
      "                 coef    std err          t      P>|t|      [0.025      0.975]\n",
      "------------------------------------------------------------------------------\n",
      "const          1.1747      0.008    145.080      0.000       1.159       1.191\n",
      "x1             0.8349      0.009     88.605      0.000       0.816       0.853\n",
      "==============================================================================\n",
      "Omnibus:                    15581.833   Durbin-Watson:                   1.924\n",
      "Prob(Omnibus):                  0.000   Jarque-Bera (JB):            36316.175\n",
      "Skew:                           1.251   Prob(JB):                         0.00\n",
      "Kurtosis:                       5.477   Cond. No.                         3.68\n",
      "==============================================================================\n",
      "\n",
      "Warnings:\n",
      "[1] Standard Errors assume that the covariance matrix of the errors is correctly specified.\n",
      "\n",
      "Here are the results of regressing women on head_male: \n",
      "\n",
      "                            OLS Regression Results                            \n",
      "==============================================================================\n",
      "Dep. Variable:                      y   R-squared:                       0.004\n",
      "Model:                            OLS   Adj. R-squared:                  0.004\n",
      "Method:                 Least Squares   F-statistic:                     291.3\n",
      "Date:                Wed, 24 Jan 2018   Prob (F-statistic):           3.58e-65\n",
      "Time:                        16:05:28   Log-Likelihood:            -1.1265e+05\n",
      "No. Observations:               70311   AIC:                         2.253e+05\n",
      "Df Residuals:                   70309   BIC:                         2.253e+05\n",
      "Df Model:                           1                                         \n",
      "Covariance Type:            nonrobust                                         \n",
      "==============================================================================\n",
      "                 coef    std err          t      P>|t|      [0.025      0.975]\n",
      "------------------------------------------------------------------------------\n",
      "const          2.0033      0.009    226.186      0.000       1.986       2.021\n",
      "x1            -0.1759      0.010    -17.066      0.000      -0.196      -0.156\n",
      "==============================================================================\n",
      "Omnibus:                    11862.181   Durbin-Watson:                   1.919\n",
      "Prob(Omnibus):                  0.000   Jarque-Bera (JB):            23783.439\n",
      "Skew:                           1.027   Prob(JB):                         0.00\n",
      "Kurtosis:                       4.974   Cond. No.                         3.68\n",
      "==============================================================================\n",
      "\n",
      "Warnings:\n",
      "[1] Standard Errors assume that the covariance matrix of the errors is correctly specified.\n",
      "\n",
      "Here are the results of regressing age12_64 on head_male: \n",
      "\n",
      "                            OLS Regression Results                            \n",
      "==============================================================================\n",
      "Dep. Variable:                      y   R-squared:                       0.022\n",
      "Model:                            OLS   Adj. R-squared:                  0.022\n",
      "Method:                 Least Squares   F-statistic:                     1546.\n",
      "Date:                Wed, 24 Jan 2018   Prob (F-statistic):               0.00\n",
      "Time:                        16:05:28   Log-Likelihood:            -1.2693e+05\n",
      "No. Observations:               70311   AIC:                         2.539e+05\n",
      "Df Residuals:                   70309   BIC:                         2.539e+05\n",
      "Df Model:                           1                                         \n",
      "Covariance Type:            nonrobust                                         \n",
      "==============================================================================\n",
      "                 coef    std err          t      P>|t|      [0.025      0.975]\n",
      "------------------------------------------------------------------------------\n",
      "const          2.1999      0.011    202.753      0.000       2.179       2.221\n",
      "x1             0.4965      0.013     39.322      0.000       0.472       0.521\n",
      "==============================================================================\n",
      "Omnibus:                     6017.355   Durbin-Watson:                   1.921\n",
      "Prob(Omnibus):                  0.000   Jarque-Bera (JB):             9079.821\n",
      "Skew:                           0.671   Prob(JB):                         0.00\n",
      "Kurtosis:                       4.139   Cond. No.                         3.68\n",
      "==============================================================================\n",
      "\n",
      "Warnings:\n",
      "[1] Standard Errors assume that the covariance matrix of the errors is correctly specified.\n",
      "\n",
      "Here are the results of regressing workers on head_male: \n",
      "\n",
      "                            OLS Regression Results                            \n",
      "==============================================================================\n",
      "Dep. Variable:                      y   R-squared:                       0.018\n",
      "Model:                            OLS   Adj. R-squared:                  0.018\n",
      "Method:                 Least Squares   F-statistic:                     1276.\n",
      "Date:                Wed, 24 Jan 2018   Prob (F-statistic):          6.77e-277\n",
      "Time:                        16:05:28   Log-Likelihood:            -1.0446e+05\n",
      "No. Observations:               70311   AIC:                         2.089e+05\n",
      "Df Residuals:                   70309   BIC:                         2.089e+05\n",
      "Df Model:                           1                                         \n",
      "Covariance Type:            nonrobust                                         \n",
      "==============================================================================\n",
      "                 coef    std err          t      P>|t|      [0.025      0.975]\n",
      "------------------------------------------------------------------------------\n",
      "const          1.4526      0.008    184.267      0.000       1.437       1.468\n",
      "x1             0.3276      0.009     35.716      0.000       0.310       0.346\n",
      "==============================================================================\n",
      "Omnibus:                    13028.127   Durbin-Watson:                   1.888\n",
      "Prob(Omnibus):                  0.000   Jarque-Bera (JB):            29165.527\n",
      "Skew:                           1.071   Prob(JB):                         0.00\n",
      "Kurtosis:                       5.316   Cond. No.                         3.68\n",
      "==============================================================================\n",
      "\n",
      "Warnings:\n",
      "[1] Standard Errors assume that the covariance matrix of the errors is correctly specified.\n",
      "\n",
      "Here are the results of regressing urban on head_male: \n",
      "\n",
      "                            OLS Regression Results                            \n",
      "==============================================================================\n",
      "Dep. Variable:                      y   R-squared:                       0.007\n",
      "Model:                            OLS   Adj. R-squared:                  0.007\n",
      "Method:                 Least Squares   F-statistic:                     462.0\n",
      "Date:                Wed, 24 Jan 2018   Prob (F-statistic):          3.77e-102\n",
      "Time:                        16:05:28   Log-Likelihood:                -48123.\n",
      "No. Observations:               70311   AIC:                         9.625e+04\n",
      "Df Residuals:                   70309   BIC:                         9.627e+04\n",
      "Df Model:                           1                                         \n",
      "Covariance Type:            nonrobust                                         \n",
      "==============================================================================\n",
      "                 coef    std err          t      P>|t|      [0.025      0.975]\n",
      "------------------------------------------------------------------------------\n",
      "const          0.7008      0.004    198.099      0.000       0.694       0.708\n",
      "x1            -0.0885      0.004    -21.494      0.000      -0.097      -0.080\n",
      "==============================================================================\n",
      "Omnibus:                     3170.580   Durbin-Watson:                   0.017\n",
      "Prob(Omnibus):                  0.000   Jarque-Bera (JB):            11728.199\n",
      "Skew:                          -0.556   Prob(JB):                         0.00\n",
      "Kurtosis:                       1.337   Cond. No.                         3.68\n",
      "==============================================================================\n",
      "\n",
      "Warnings:\n",
      "[1] Standard Errors assume that the covariance matrix of the errors is correctly specified.\n",
      "\n"
     ]
    }
   ],
   "source": [
    "def bivariate_regressions(data, treatment_col, y_col):\n",
    "    treatment = data[treatment_col].values\n",
    "    X = sm.add_constant(treatment)\n",
    "    y = data[y_col].values\n",
    "    model = sm.OLS(y, X, missing='drop')\n",
    "    results = model.fit()\n",
    "    print(f\"Here are the results of regressing {y_col} on {treatment_col}: \")\n",
    "    print()\n",
    "    print(results.summary())\n",
    "    print()\n",
    "\n",
    "for y in [\"head_age\",\"head_college\",\"tot_members\",\"men\", \"women\", \"age12_64\", \n",
    "          \"workers\", \"urban\"]:\n",
    "    bivariate_regressions(data, \"head_male\", y)"
   ]
  },
  {
   "cell_type": "markdown",
   "metadata": {},
   "source": [
    "### e.\n",
    "\n",
    "Yes, since we have statistically significance in every bivariate regression, we can say that the naive estimator is biased. Furthermore, all of the features tested in the bivariate regression should be included in the multivariate regression formulation in order to control for their effects."
   ]
  },
  {
   "cell_type": "markdown",
   "metadata": {},
   "source": [
    "### f. "
   ]
  },
  {
   "cell_type": "code",
   "execution_count": 29,
   "metadata": {
    "collapsed": true
   },
   "outputs": [],
   "source": [
    "data[\"men_share\"] = data['men']/data['tot_members']"
   ]
  },
  {
   "cell_type": "code",
   "execution_count": 30,
   "metadata": {},
   "outputs": [
    {
     "name": "stdout",
     "output_type": "stream",
     "text": [
      "                            OLS Regression Results                            \n",
      "==============================================================================\n",
      "Dep. Variable:                      y   R-squared:                       0.117\n",
      "Model:                            OLS   Adj. R-squared:                  0.117\n",
      "Method:                 Least Squares   F-statistic:                     2148.\n",
      "Date:                Wed, 24 Jan 2018   Prob (F-statistic):               0.00\n",
      "Time:                        16:05:28   Log-Likelihood:            -7.6548e+05\n",
      "No. Observations:               64923   AIC:                         1.531e+06\n",
      "Df Residuals:                   64918   BIC:                         1.531e+06\n",
      "Df Model:                           4                                         \n",
      "Covariance Type:            nonrobust                                         \n",
      "==============================================================================\n",
      "                 coef    std err          t      P>|t|      [0.025      0.975]\n",
      "------------------------------------------------------------------------------\n",
      "const       9747.0951    360.706     27.022      0.000    9040.110    1.05e+04\n",
      "x1          5799.6153    323.056     17.952      0.000    5166.426    6432.805\n",
      "x2          2.753e+04    368.119     74.788      0.000    2.68e+04    2.83e+04\n",
      "x3          9284.9952    270.360     34.343      0.000    8755.090    9814.901\n",
      "x4           341.0096    573.422      0.595      0.552    -782.899    1464.918\n",
      "==============================================================================\n",
      "Omnibus:                   124628.681   Durbin-Watson:                   1.825\n",
      "Prob(Omnibus):                  0.000   Jarque-Bera (JB):       1509237078.694\n",
      "Skew:                          14.260   Prob(JB):                         0.00\n",
      "Kurtosis:                     749.394   Cond. No.                         7.60\n",
      "==============================================================================\n",
      "\n",
      "Warnings:\n",
      "[1] Standard Errors assume that the covariance matrix of the errors is correctly specified.\n"
     ]
    }
   ],
   "source": [
    "features = [\"head_male\", \"head_college\", \"urban\", \"men_share\"]\n",
    "\n",
    "X = sm.add_constant(data[features].values)\n",
    "y = data['job_earnings'].values\n",
    "model = sm.OLS(y, X, missing='drop')\n",
    "results = model.fit()\n",
    "print(results.summary())"
   ]
  },
  {
   "cell_type": "markdown",
   "metadata": {},
   "source": [
    "### g.\n",
    "\n",
    "The average treatment effect is $\\$5799.6153$.\n",
    "\n",
    "This ATE is about $\\$42.7$ greater than our naive estimate - as such, it is different to the naive estimate\n",
    "\n",
    "An interesting finding is that the share of men in a household is not statistically significant with regards to job earnings of a household. This is interesting as our analysis shows that there is a difference between houeholds headed by men over women. However, it seems that other than having a male head of house (1 man), additional men do not contribute to wealth earnings."
   ]
  },
  {
   "cell_type": "code",
   "execution_count": 31,
   "metadata": {},
   "outputs": [
    {
     "data": {
      "text/plain": [
       "5799.6153393454952"
      ]
     },
     "execution_count": 31,
     "metadata": {},
     "output_type": "execute_result"
    }
   ],
   "source": [
    "average_treatment_effect = results.params[1]\n",
    "average_treatment_effect"
   ]
  },
  {
   "cell_type": "code",
   "execution_count": 32,
   "metadata": {},
   "outputs": [
    {
     "data": {
      "text/plain": [
       "-42.795026845495158"
      ]
     },
     "execution_count": 32,
     "metadata": {},
     "output_type": "execute_result"
    }
   ],
   "source": [
    "naive_estimate - average_treatment_effect"
   ]
  },
  {
   "cell_type": "markdown",
   "metadata": {},
   "source": [
    "# Question 3\n",
    "\n",
    "### a.\n",
    "\n",
    "The naive estimate is $\\$5756.822265625$"
   ]
  },
  {
   "cell_type": "code",
   "execution_count": 33,
   "metadata": {},
   "outputs": [
    {
     "data": {
      "text/html": [
       "<div>\n",
       "<style>\n",
       "    .dataframe thead tr:only-child th {\n",
       "        text-align: right;\n",
       "    }\n",
       "\n",
       "    .dataframe thead th {\n",
       "        text-align: left;\n",
       "    }\n",
       "\n",
       "    .dataframe tbody tr th {\n",
       "        vertical-align: top;\n",
       "    }\n",
       "</style>\n",
       "<table border=\"1\" class=\"dataframe\">\n",
       "  <thead>\n",
       "    <tr style=\"text-align: right;\">\n",
       "      <th></th>\n",
       "      <th>household_id</th>\n",
       "      <th>job_earnings</th>\n",
       "      <th>head_male</th>\n",
       "      <th>head_age</th>\n",
       "      <th>tot_members</th>\n",
       "      <th>age12_64</th>\n",
       "      <th>workers</th>\n",
       "      <th>head_college</th>\n",
       "      <th>rural</th>\n",
       "    </tr>\n",
       "  </thead>\n",
       "  <tbody>\n",
       "    <tr>\n",
       "      <th>0</th>\n",
       "      <td>1.801747e+09</td>\n",
       "      <td>0.000000</td>\n",
       "      <td>1.0</td>\n",
       "      <td>59.0</td>\n",
       "      <td>8.0</td>\n",
       "      <td>4.0</td>\n",
       "      <td>5.0</td>\n",
       "      <td>0.0</td>\n",
       "      <td>1.0</td>\n",
       "    </tr>\n",
       "    <tr>\n",
       "      <th>1</th>\n",
       "      <td>1.700536e+09</td>\n",
       "      <td>9880.429688</td>\n",
       "      <td>0.0</td>\n",
       "      <td>34.0</td>\n",
       "      <td>11.0</td>\n",
       "      <td>5.0</td>\n",
       "      <td>4.0</td>\n",
       "      <td>1.0</td>\n",
       "      <td>1.0</td>\n",
       "    </tr>\n",
       "    <tr>\n",
       "      <th>2</th>\n",
       "      <td>1.606071e+09</td>\n",
       "      <td>5869.549805</td>\n",
       "      <td>0.0</td>\n",
       "      <td>55.0</td>\n",
       "      <td>12.0</td>\n",
       "      <td>4.0</td>\n",
       "      <td>7.0</td>\n",
       "      <td>1.0</td>\n",
       "      <td>1.0</td>\n",
       "    </tr>\n",
       "    <tr>\n",
       "      <th>3</th>\n",
       "      <td>1.603798e+09</td>\n",
       "      <td>61770.441406</td>\n",
       "      <td>1.0</td>\n",
       "      <td>69.0</td>\n",
       "      <td>9.0</td>\n",
       "      <td>5.0</td>\n",
       "      <td>4.0</td>\n",
       "      <td>0.0</td>\n",
       "      <td>1.0</td>\n",
       "    </tr>\n",
       "    <tr>\n",
       "      <th>4</th>\n",
       "      <td>7.621170e+08</td>\n",
       "      <td>10736.299805</td>\n",
       "      <td>1.0</td>\n",
       "      <td>39.0</td>\n",
       "      <td>7.0</td>\n",
       "      <td>4.0</td>\n",
       "      <td>3.0</td>\n",
       "      <td>0.0</td>\n",
       "      <td>1.0</td>\n",
       "    </tr>\n",
       "  </tbody>\n",
       "</table>\n",
       "</div>"
      ],
      "text/plain": [
       "   household_id  job_earnings  head_male  head_age  tot_members  age12_64  \\\n",
       "0  1.801747e+09      0.000000        1.0      59.0          8.0       4.0   \n",
       "1  1.700536e+09   9880.429688        0.0      34.0         11.0       5.0   \n",
       "2  1.606071e+09   5869.549805        0.0      55.0         12.0       4.0   \n",
       "3  1.603798e+09  61770.441406        1.0      69.0          9.0       5.0   \n",
       "4  7.621170e+08  10736.299805        1.0      39.0          7.0       4.0   \n",
       "\n",
       "   workers  head_college  rural  \n",
       "0      5.0           0.0    1.0  \n",
       "1      4.0           1.0    1.0  \n",
       "2      7.0           1.0    1.0  \n",
       "3      4.0           0.0    1.0  \n",
       "4      3.0           0.0    1.0  "
      ]
     },
     "execution_count": 33,
     "metadata": {},
     "output_type": "execute_result"
    }
   ],
   "source": [
    "data = pd.read_stata(\"Randomburg.dta\")\n",
    "data.head()"
   ]
  },
  {
   "cell_type": "code",
   "execution_count": 34,
   "metadata": {},
   "outputs": [
    {
     "data": {
      "text/plain": [
       "24621.755859375"
      ]
     },
     "execution_count": 34,
     "metadata": {},
     "output_type": "execute_result"
    }
   ],
   "source": [
    "#Mean Job Earnings of Male Headed Households only\n",
    "male_earnings = data[data['head_male'] == 1]['job_earnings'].mean()\n",
    "male_earnings"
   ]
  },
  {
   "cell_type": "code",
   "execution_count": 35,
   "metadata": {},
   "outputs": [
    {
     "data": {
      "text/plain": [
       "18864.93359375"
      ]
     },
     "execution_count": 35,
     "metadata": {},
     "output_type": "execute_result"
    }
   ],
   "source": [
    "#Mean Job Earnings of Female Headed Households only\n",
    "female_earnings = data[data['head_male'] == 0]['job_earnings'].mean()\n",
    "female_earnings"
   ]
  },
  {
   "cell_type": "code",
   "execution_count": 36,
   "metadata": {},
   "outputs": [
    {
     "data": {
      "text/plain": [
       "5756.822265625"
      ]
     },
     "execution_count": 36,
     "metadata": {},
     "output_type": "execute_result"
    }
   ],
   "source": [
    "naive_estimate = male_earnings - female_earnings\n",
    "naive_estimate"
   ]
  },
  {
   "cell_type": "markdown",
   "metadata": {},
   "source": [
    "### b.\n",
    "\n",
    "None of the bivariate regressions were statistically significant, as such, households headed by men and women are similar."
   ]
  },
  {
   "cell_type": "code",
   "execution_count": 37,
   "metadata": {
    "scrolled": true
   },
   "outputs": [
    {
     "name": "stdout",
     "output_type": "stream",
     "text": [
      "Here are the results of regressing head_age on head_male: \n",
      "\n",
      "                            OLS Regression Results                            \n",
      "==============================================================================\n",
      "Dep. Variable:                      y   R-squared:                       0.000\n",
      "Model:                            OLS   Adj. R-squared:                  0.000\n",
      "Method:                 Least Squares   F-statistic:                     2.090\n",
      "Date:                Wed, 24 Jan 2018   Prob (F-statistic):              0.148\n",
      "Time:                        16:05:29   Log-Likelihood:            -2.9101e+05\n",
      "No. Observations:               70311   AIC:                         5.820e+05\n",
      "Df Residuals:                   70309   BIC:                         5.820e+05\n",
      "Df Model:                           1                                         \n",
      "Covariance Type:            nonrobust                                         \n",
      "==============================================================================\n",
      "                 coef    std err          t      P>|t|      [0.025      0.975]\n",
      "------------------------------------------------------------------------------\n",
      "const         48.7592      0.112    435.654      0.000      48.540      48.979\n",
      "x1             0.1883      0.130      1.446      0.148      -0.067       0.444\n",
      "==============================================================================\n",
      "Omnibus:                      585.310   Durbin-Watson:                   1.998\n",
      "Prob(Omnibus):                  0.000   Jarque-Bera (JB):              532.212\n",
      "Skew:                           0.172   Prob(JB):                    2.70e-116\n",
      "Kurtosis:                       2.749   Cond. No.                         3.68\n",
      "==============================================================================\n",
      "\n",
      "Warnings:\n",
      "[1] Standard Errors assume that the covariance matrix of the errors is correctly specified.\n",
      "\n",
      "Here are the results of regressing tot_members on head_male: \n",
      "\n",
      "                            OLS Regression Results                            \n",
      "==============================================================================\n",
      "Dep. Variable:                      y   R-squared:                       0.000\n",
      "Model:                            OLS   Adj. R-squared:                 -0.000\n",
      "Method:                 Least Squares   F-statistic:                   0.05890\n",
      "Date:                Wed, 24 Jan 2018   Prob (F-statistic):              0.808\n",
      "Time:                        16:05:29   Log-Likelihood:            -1.4175e+05\n",
      "No. Observations:               70311   AIC:                         2.835e+05\n",
      "Df Residuals:                   70309   BIC:                         2.835e+05\n",
      "Df Model:                           1                                         \n",
      "Covariance Type:            nonrobust                                         \n",
      "==============================================================================\n",
      "                 coef    std err          t      P>|t|      [0.025      0.975]\n",
      "------------------------------------------------------------------------------\n",
      "const          9.1788      0.013    685.144      0.000       9.153       9.205\n",
      "x1             0.0038      0.016      0.245      0.807      -0.027       0.034\n",
      "==============================================================================\n",
      "Omnibus:                      493.919   Durbin-Watson:                   2.000\n",
      "Prob(Omnibus):                  0.000   Jarque-Bera (JB):              452.424\n",
      "Skew:                           0.158   Prob(JB):                     5.72e-99\n",
      "Kurtosis:                       2.768   Cond. No.                         3.68\n",
      "==============================================================================\n",
      "\n",
      "Warnings:\n",
      "[1] Standard Errors assume that the covariance matrix of the errors is correctly specified.\n",
      "\n",
      "Here are the results of regressing age12_64 on head_male: \n",
      "\n",
      "                            OLS Regression Results                            \n",
      "==============================================================================\n",
      "Dep. Variable:                      y   R-squared:                       0.000\n",
      "Model:                            OLS   Adj. R-squared:                  0.000\n",
      "Method:                 Least Squares   F-statistic:                     2.233\n",
      "Date:                Wed, 24 Jan 2018   Prob (F-statistic):              0.135\n",
      "Time:                        16:05:29   Log-Likelihood:            -1.2636e+05\n",
      "No. Observations:               70311   AIC:                         2.527e+05\n",
      "Df Residuals:                   70309   BIC:                         2.527e+05\n",
      "Df Model:                           1                                         \n",
      "Covariance Type:            nonrobust                                         \n",
      "==============================================================================\n",
      "                 coef    std err          t      P>|t|      [0.025      0.975]\n",
      "------------------------------------------------------------------------------\n",
      "const          5.0362      0.011    467.924      0.000       5.015       5.057\n",
      "x1             0.0187      0.013      1.495      0.135      -0.006       0.043\n",
      "==============================================================================\n",
      "Omnibus:                    10699.001   Durbin-Watson:                   2.006\n",
      "Prob(Omnibus):                  0.000   Jarque-Bera (JB):            16320.400\n",
      "Skew:                           1.164   Prob(JB):                         0.00\n",
      "Kurtosis:                       3.389   Cond. No.                         3.68\n",
      "==============================================================================\n",
      "\n",
      "Warnings:\n",
      "[1] Standard Errors assume that the covariance matrix of the errors is correctly specified.\n",
      "\n",
      "Here are the results of regressing workers on head_male: \n",
      "\n",
      "                            OLS Regression Results                            \n",
      "==============================================================================\n",
      "Dep. Variable:                      y   R-squared:                       0.000\n",
      "Model:                            OLS   Adj. R-squared:                  0.000\n",
      "Method:                 Least Squares   F-statistic:                     2.004\n",
      "Date:                Wed, 24 Jan 2018   Prob (F-statistic):              0.157\n",
      "Time:                        16:05:29   Log-Likelihood:            -1.0083e+05\n",
      "No. Observations:               70311   AIC:                         2.017e+05\n",
      "Df Residuals:                   70309   BIC:                         2.017e+05\n",
      "Df Model:                           1                                         \n",
      "Covariance Type:            nonrobust                                         \n",
      "==============================================================================\n",
      "                 coef    std err          t      P>|t|      [0.025      0.975]\n",
      "------------------------------------------------------------------------------\n",
      "const          4.2505      0.007    567.791      0.000       4.236       4.265\n",
      "x1            -0.0123      0.009     -1.415      0.157      -0.029       0.005\n",
      "==============================================================================\n",
      "Omnibus:                     2102.811   Durbin-Watson:                   1.999\n",
      "Prob(Omnibus):                  0.000   Jarque-Bera (JB):             2202.753\n",
      "Skew:                           0.416   Prob(JB):                         0.00\n",
      "Kurtosis:                       2.754   Cond. No.                         3.68\n",
      "==============================================================================\n",
      "\n",
      "Warnings:\n",
      "[1] Standard Errors assume that the covariance matrix of the errors is correctly specified.\n",
      "\n",
      "Here are the results of regressing head_college on head_male: \n",
      "\n",
      "                            OLS Regression Results                            \n",
      "==============================================================================\n",
      "Dep. Variable:                      y   R-squared:                       0.000\n",
      "Model:                            OLS   Adj. R-squared:                  0.000\n",
      "Method:                 Least Squares   F-statistic:                     1.432\n",
      "Date:                Wed, 24 Jan 2018   Prob (F-statistic):              0.231\n",
      "Time:                        16:05:29   Log-Likelihood:                -51030.\n",
      "No. Observations:               70311   AIC:                         1.021e+05\n",
      "Df Residuals:                   70309   BIC:                         1.021e+05\n",
      "Df Model:                           1                                         \n",
      "Covariance Type:            nonrobust                                         \n",
      "==============================================================================\n",
      "                 coef    std err          t      P>|t|      [0.025      0.975]\n",
      "------------------------------------------------------------------------------\n",
      "const          0.5038      0.004    136.645      0.000       0.497       0.511\n",
      "x1            -0.0051      0.004     -1.195      0.232      -0.014       0.003\n",
      "==============================================================================\n",
      "Omnibus:                        0.000   Durbin-Watson:                   2.009\n",
      "Prob(Omnibus):                  1.000   Jarque-Bera (JB):            11717.548\n",
      "Skew:                           0.000   Prob(JB):                         0.00\n",
      "Kurtosis:                       1.000   Cond. No.                         3.68\n",
      "==============================================================================\n",
      "\n",
      "Warnings:\n",
      "[1] Standard Errors assume that the covariance matrix of the errors is correctly specified.\n",
      "\n"
     ]
    },
    {
     "name": "stdout",
     "output_type": "stream",
     "text": [
      "Here are the results of regressing rural on head_male: \n",
      "\n",
      "                            OLS Regression Results                            \n",
      "==============================================================================\n",
      "Dep. Variable:                      y   R-squared:                       0.000\n",
      "Model:                            OLS   Adj. R-squared:                 -0.000\n",
      "Method:                 Least Squares   F-statistic:                    0.6104\n",
      "Date:                Wed, 24 Jan 2018   Prob (F-statistic):              0.435\n",
      "Time:                        16:05:29   Log-Likelihood:                -51031.\n",
      "No. Observations:               70311   AIC:                         1.021e+05\n",
      "Df Residuals:                   70309   BIC:                         1.021e+05\n",
      "Df Model:                           1                                         \n",
      "Covariance Type:            nonrobust                                         \n",
      "==============================================================================\n",
      "                 coef    std err          t      P>|t|      [0.025      0.975]\n",
      "------------------------------------------------------------------------------\n",
      "const          0.4975      0.004    134.948      0.000       0.490       0.505\n",
      "x1             0.0033      0.004      0.779      0.436      -0.005       0.012\n",
      "==============================================================================\n",
      "Omnibus:                        0.000   Durbin-Watson:                   0.000\n",
      "Prob(Omnibus):                  1.000   Jarque-Bera (JB):            11718.096\n",
      "Skew:                           0.000   Prob(JB):                         0.00\n",
      "Kurtosis:                       1.000   Cond. No.                         3.68\n",
      "==============================================================================\n",
      "\n",
      "Warnings:\n",
      "[1] Standard Errors assume that the covariance matrix of the errors is correctly specified.\n",
      "\n"
     ]
    }
   ],
   "source": [
    "for y in [\"head_age\", \"tot_members\", \"age12_64\", \n",
    "          \"workers\", \"head_college\", \"rural\"]:\n",
    "    bivariate_regressions(data, \"head_male\", y)"
   ]
  },
  {
   "cell_type": "markdown",
   "metadata": {},
   "source": [
    "### c.\n",
    "\n",
    "Since all of the bivariate regressions were statistically insignificant, the naive estimator is unbiased. That is to say, in this case, we do not have a selection problem."
   ]
  },
  {
   "cell_type": "markdown",
   "metadata": {},
   "source": [
    "### d."
   ]
  },
  {
   "cell_type": "code",
   "execution_count": 38,
   "metadata": {},
   "outputs": [
    {
     "name": "stdout",
     "output_type": "stream",
     "text": [
      "                            OLS Regression Results                            \n",
      "==============================================================================\n",
      "Dep. Variable:                      y   R-squared:                       0.006\n",
      "Model:                            OLS   Adj. R-squared:                  0.006\n",
      "Method:                 Least Squares   F-statistic:                     59.45\n",
      "Date:                Wed, 24 Jan 2018   Prob (F-statistic):           1.48e-85\n",
      "Time:                        16:05:29   Log-Likelihood:            -8.3138e+05\n",
      "No. Observations:               70311   AIC:                         1.663e+06\n",
      "Df Residuals:                   70303   BIC:                         1.663e+06\n",
      "Df Model:                           7                                         \n",
      "Covariance Type:            nonrobust                                         \n",
      "==============================================================================\n",
      "                 coef    std err          t      P>|t|      [0.025      0.975]\n",
      "------------------------------------------------------------------------------\n",
      "const       1.816e+04   1048.932     17.316      0.000    1.61e+04    2.02e+04\n",
      "x1          5757.3496    283.533     20.306      0.000    5201.626    6313.073\n",
      "x2            -6.4943      8.209     -0.791      0.429     -22.585       9.596\n",
      "x3            61.1657     68.583      0.892      0.372     -73.258     195.589\n",
      "x4            36.2460     85.370      0.425      0.671    -131.079     203.571\n",
      "x5             2.0618    122.738      0.017      0.987    -238.504     242.627\n",
      "x6           239.7231    249.220      0.962      0.336    -248.748     728.194\n",
      "x7           291.1172    249.216      1.168      0.243    -197.346     779.580\n",
      "==============================================================================\n",
      "Omnibus:                   128572.415   Durbin-Watson:                   1.997\n",
      "Prob(Omnibus):                  0.000   Jarque-Bera (JB):       1104344127.773\n",
      "Skew:                          12.842   Prob(JB):                         0.00\n",
      "Kurtosis:                     616.431   Cond. No.                         443.\n",
      "==============================================================================\n",
      "\n",
      "Warnings:\n",
      "[1] Standard Errors assume that the covariance matrix of the errors is correctly specified.\n"
     ]
    }
   ],
   "source": [
    "features = data.columns[2:]\n",
    "\n",
    "X = sm.add_constant(data[features].values)\n",
    "y = data['job_earnings'].values\n",
    "model = sm.OLS(y, X, missing='drop')\n",
    "results = model.fit()\n",
    "print(results.summary())"
   ]
  },
  {
   "cell_type": "markdown",
   "metadata": {},
   "source": [
    "## e.\n",
    "\n",
    "The treatment effect is $\\$5,757.35$. This is a difference of $-\\$0.53$ - that is to say the treatment effect and the naive estimate are almost identical. This is consistent with our findings that we do not have a selection problem with this dataset. As such, the naive estimate **should** be similar to the calculated treatment effect.\n"
   ]
  },
  {
   "cell_type": "code",
   "execution_count": 39,
   "metadata": {},
   "outputs": [
    {
     "data": {
      "text/plain": [
       "-0.52732227120031894"
      ]
     },
     "execution_count": 39,
     "metadata": {},
     "output_type": "execute_result"
    }
   ],
   "source": [
    "treatment_effect = results.params[1]\n",
    "naive_estimate - treatment_effect"
   ]
  },
  {
   "cell_type": "code",
   "execution_count": null,
   "metadata": {
    "collapsed": true
   },
   "outputs": [],
   "source": []
  }
 ],
 "metadata": {
  "kernelspec": {
   "display_name": "Python 3",
   "language": "python",
   "name": "python3"
  },
  "language_info": {
   "codemirror_mode": {
    "name": "ipython",
    "version": 3
   },
   "file_extension": ".py",
   "mimetype": "text/x-python",
   "name": "python",
   "nbconvert_exporter": "python",
   "pygments_lexer": "ipython3",
   "version": "3.6.2"
  }
 },
 "nbformat": 4,
 "nbformat_minor": 2
}
