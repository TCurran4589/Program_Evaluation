{
 "cells": [
  {
   "cell_type": "markdown",
   "metadata": {},
   "source": [
    "## Introduction\n",
    "\n",
    "This notebook will cover some technical aspects of Python with regards to common calculations needed in Program Evaluation.\n",
    "\n",
    "Specifically:\n",
    "\n",
    "- Label Encoding (making dummies)\n",
    "\n",
    "\n",
    "- Conditional Mean Calculations\n",
    "    - Especially in cases where you have missing values\n",
    "\n",
    "\n",
    "- Regressions using StatsModels\n",
    "    - Especially in cases where you have missing values\n",
    "\n",
    "\n",
    "- Numerical Types (float64)\n",
    "    - Essential for using StatsModels\n",
    "\n",
    "\n",
    "- T-test for means of two independent samples (SciPy)\n",
    "\n",
    "The hope is that this notebook will clear up syntax and nuances of using Python over STATA. Python gives you an unprecedented amount of fidelity with regards to calculations - the downside of this freedom is that you must be very careful and explicit about exactly what you are trying to calculate/achieve."
   ]
  },
  {
   "cell_type": "code",
   "execution_count": 1,
   "metadata": {
    "collapsed": true
   },
   "outputs": [],
   "source": [
    "import warnings\n",
    "warnings.filterwarnings(\"ignore\", category=FutureWarning)\n",
    "import pandas as pd\n",
    "import seaborn as sns\n",
    "import matplotlib.pyplot as plt\n",
    "import statsmodels.api as sm\n",
    "import numpy as np\n",
    "from sklearn.preprocessing import LabelEncoder\n",
    "plt.rcParams[\"figure.figsize\"] = (15, 25)\n",
    "plt.rcParams[\"xtick.labelsize\"] = 16\n",
    "plt.rcParams[\"ytick.labelsize\"] = 16\n",
    "plt.rcParams[\"axes.labelsize\"] = 20\n",
    "plt.rcParams['legend.fontsize'] = 20\n",
    "%matplotlib inline"
   ]
  },
  {
   "cell_type": "code",
   "execution_count": 2,
   "metadata": {},
   "outputs": [
    {
     "data": {
      "text/html": [
       "<div>\n",
       "<style>\n",
       "    .dataframe thead tr:only-child th {\n",
       "        text-align: right;\n",
       "    }\n",
       "\n",
       "    .dataframe thead th {\n",
       "        text-align: left;\n",
       "    }\n",
       "\n",
       "    .dataframe tbody tr th {\n",
       "        vertical-align: top;\n",
       "    }\n",
       "</style>\n",
       "<table border=\"1\" class=\"dataframe\">\n",
       "  <thead>\n",
       "    <tr style=\"text-align: right;\">\n",
       "      <th></th>\n",
       "      <th>Fiscal Year Released</th>\n",
       "      <th>Recidivism Reporting Year</th>\n",
       "      <th>Race - Ethnicity</th>\n",
       "      <th>Sex</th>\n",
       "      <th>Age At Release</th>\n",
       "      <th>Convicting Offense Classification</th>\n",
       "      <th>Convicting Offense Type</th>\n",
       "      <th>Convicting Offense Subtype</th>\n",
       "      <th>Release Type</th>\n",
       "      <th>Main Supervising District</th>\n",
       "      <th>Recidivism - Return to Prison</th>\n",
       "      <th>Recidivism Type</th>\n",
       "      <th>Days to Recidivism</th>\n",
       "      <th>New Conviction Offense Classification</th>\n",
       "      <th>New Conviction Offense Type</th>\n",
       "      <th>New Conviction Offense Sub Type</th>\n",
       "      <th>Part of Target Population</th>\n",
       "    </tr>\n",
       "  </thead>\n",
       "  <tbody>\n",
       "    <tr>\n",
       "      <th>0</th>\n",
       "      <td>2010</td>\n",
       "      <td>2013</td>\n",
       "      <td>White - Non-Hispanic</td>\n",
       "      <td>M</td>\n",
       "      <td>Under 25</td>\n",
       "      <td>D Felony</td>\n",
       "      <td>Violent</td>\n",
       "      <td>Assault</td>\n",
       "      <td>Parole</td>\n",
       "      <td>4JD</td>\n",
       "      <td>Yes</td>\n",
       "      <td>Tech</td>\n",
       "      <td>16.0</td>\n",
       "      <td>NaN</td>\n",
       "      <td>NaN</td>\n",
       "      <td>NaN</td>\n",
       "      <td>Yes</td>\n",
       "    </tr>\n",
       "    <tr>\n",
       "      <th>1</th>\n",
       "      <td>2010</td>\n",
       "      <td>2013</td>\n",
       "      <td>White - Non-Hispanic</td>\n",
       "      <td>M</td>\n",
       "      <td>55 and Older</td>\n",
       "      <td>D Felony</td>\n",
       "      <td>Public Order</td>\n",
       "      <td>OWI</td>\n",
       "      <td>Parole</td>\n",
       "      <td>7JD</td>\n",
       "      <td>Yes</td>\n",
       "      <td>Tech</td>\n",
       "      <td>19.0</td>\n",
       "      <td>NaN</td>\n",
       "      <td>NaN</td>\n",
       "      <td>NaN</td>\n",
       "      <td>Yes</td>\n",
       "    </tr>\n",
       "    <tr>\n",
       "      <th>2</th>\n",
       "      <td>2010</td>\n",
       "      <td>2013</td>\n",
       "      <td>White - Non-Hispanic</td>\n",
       "      <td>M</td>\n",
       "      <td>25-34</td>\n",
       "      <td>D Felony</td>\n",
       "      <td>Property</td>\n",
       "      <td>Burglary</td>\n",
       "      <td>Parole</td>\n",
       "      <td>5JD</td>\n",
       "      <td>Yes</td>\n",
       "      <td>Tech</td>\n",
       "      <td>22.0</td>\n",
       "      <td>NaN</td>\n",
       "      <td>NaN</td>\n",
       "      <td>NaN</td>\n",
       "      <td>Yes</td>\n",
       "    </tr>\n",
       "    <tr>\n",
       "      <th>3</th>\n",
       "      <td>2010</td>\n",
       "      <td>2013</td>\n",
       "      <td>White - Non-Hispanic</td>\n",
       "      <td>M</td>\n",
       "      <td>55 and Older</td>\n",
       "      <td>C Felony</td>\n",
       "      <td>Drug</td>\n",
       "      <td>Trafficking</td>\n",
       "      <td>Parole</td>\n",
       "      <td>8JD</td>\n",
       "      <td>Yes</td>\n",
       "      <td>Tech</td>\n",
       "      <td>25.0</td>\n",
       "      <td>NaN</td>\n",
       "      <td>NaN</td>\n",
       "      <td>NaN</td>\n",
       "      <td>Yes</td>\n",
       "    </tr>\n",
       "    <tr>\n",
       "      <th>4</th>\n",
       "      <td>2010</td>\n",
       "      <td>2013</td>\n",
       "      <td>Black - Non-Hispanic</td>\n",
       "      <td>M</td>\n",
       "      <td>25-34</td>\n",
       "      <td>D Felony</td>\n",
       "      <td>Drug</td>\n",
       "      <td>Trafficking</td>\n",
       "      <td>Parole</td>\n",
       "      <td>3JD</td>\n",
       "      <td>Yes</td>\n",
       "      <td>Tech</td>\n",
       "      <td>26.0</td>\n",
       "      <td>NaN</td>\n",
       "      <td>NaN</td>\n",
       "      <td>NaN</td>\n",
       "      <td>Yes</td>\n",
       "    </tr>\n",
       "  </tbody>\n",
       "</table>\n",
       "</div>"
      ],
      "text/plain": [
       "   Fiscal Year Released  Recidivism Reporting Year      Race - Ethnicity Sex  \\\n",
       "0                  2010                       2013  White - Non-Hispanic   M   \n",
       "1                  2010                       2013  White - Non-Hispanic   M   \n",
       "2                  2010                       2013  White - Non-Hispanic   M   \n",
       "3                  2010                       2013  White - Non-Hispanic   M   \n",
       "4                  2010                       2013  Black - Non-Hispanic   M   \n",
       "\n",
       "  Age At Release  Convicting Offense Classification Convicting Offense Type  \\\n",
       "0        Under 25                          D Felony                 Violent   \n",
       "1    55 and Older                          D Felony            Public Order   \n",
       "2           25-34                          D Felony                Property   \n",
       "3    55 and Older                          C Felony                    Drug   \n",
       "4           25-34                          D Felony                    Drug   \n",
       "\n",
       "  Convicting Offense Subtype Release Type Main Supervising District  \\\n",
       "0                    Assault       Parole                       4JD   \n",
       "1                        OWI       Parole                       7JD   \n",
       "2                   Burglary       Parole                       5JD   \n",
       "3                Trafficking       Parole                       8JD   \n",
       "4                Trafficking       Parole                       3JD   \n",
       "\n",
       "  Recidivism - Return to Prison Recidivism Type  Days to Recidivism  \\\n",
       "0                           Yes            Tech                16.0   \n",
       "1                           Yes            Tech                19.0   \n",
       "2                           Yes            Tech                22.0   \n",
       "3                           Yes            Tech                25.0   \n",
       "4                           Yes            Tech                26.0   \n",
       "\n",
       "  New Conviction Offense Classification New Conviction Offense Type  \\\n",
       "0                                   NaN                         NaN   \n",
       "1                                   NaN                         NaN   \n",
       "2                                   NaN                         NaN   \n",
       "3                                   NaN                         NaN   \n",
       "4                                   NaN                         NaN   \n",
       "\n",
       "  New Conviction Offense Sub Type Part of Target Population  \n",
       "0                             NaN                       Yes  \n",
       "1                             NaN                       Yes  \n",
       "2                             NaN                       Yes  \n",
       "3                             NaN                       Yes  \n",
       "4                             NaN                       Yes  "
      ]
     },
     "execution_count": 2,
     "metadata": {},
     "output_type": "execute_result"
    }
   ],
   "source": [
    "data = pd.read_csv(\"3-Year_Recidivism_for_Offenders_Released_from_Prison.csv\")\n",
    "data.head()"
   ]
  },
  {
   "cell_type": "markdown",
   "metadata": {},
   "source": [
    "In the snapshot of data below, we have two columns that need to be turned into dummy variables.\n",
    "\n",
    "There are various ways to achieve this using Pandas ([`pd.get_dummies`](https://pandas.pydata.org/pandas-docs/stable/generated/pandas.get_dummies.html)), but you can also use functions from sci-kit learn.\n",
    "\n",
    "Below, since we only have the binary case, im going to use `LabelEncoder` from sci-ket learn. Of course, you can also use one-hot encoding.\n",
    "\n",
    "For a discussion over the differences between Label Encoding and One-HotEncoding see [this](https://stackoverflow.com/questions/38413579/what-is-the-difference-between-sklearn-labelencoder-and-pd-get-dummies) and [this.](https://datascience.stackexchange.com/questions/9443/when-to-use-one-hot-encoding-vs-labelencoder-vs-dictvectorizor)\n",
    "\n",
    "Label encoder documentation: http://scikit-learn.org/stable/modules/generated/sklearn.preprocessing.LabelEncoder.html\n",
    "\n",
    "One Hot encoding documentation: http://scikit-learn.org/stable/modules/generated/sklearn.preprocessing.OneHotEncoder.html#sklearn.preprocessing.OneHotEncoder"
   ]
  },
  {
   "cell_type": "code",
   "execution_count": 3,
   "metadata": {},
   "outputs": [
    {
     "data": {
      "text/html": [
       "<div>\n",
       "<style>\n",
       "    .dataframe thead tr:only-child th {\n",
       "        text-align: right;\n",
       "    }\n",
       "\n",
       "    .dataframe thead th {\n",
       "        text-align: left;\n",
       "    }\n",
       "\n",
       "    .dataframe tbody tr th {\n",
       "        vertical-align: top;\n",
       "    }\n",
       "</style>\n",
       "<table border=\"1\" class=\"dataframe\">\n",
       "  <thead>\n",
       "    <tr style=\"text-align: right;\">\n",
       "      <th></th>\n",
       "      <th>Recidivism - Return to Prison</th>\n",
       "      <th>Part of Target Population</th>\n",
       "    </tr>\n",
       "  </thead>\n",
       "  <tbody>\n",
       "    <tr>\n",
       "      <th>21641</th>\n",
       "      <td>No</td>\n",
       "      <td>Yes</td>\n",
       "    </tr>\n",
       "    <tr>\n",
       "      <th>21642</th>\n",
       "      <td>Yes</td>\n",
       "      <td>Yes</td>\n",
       "    </tr>\n",
       "    <tr>\n",
       "      <th>21643</th>\n",
       "      <td>No</td>\n",
       "      <td>No</td>\n",
       "    </tr>\n",
       "    <tr>\n",
       "      <th>21644</th>\n",
       "      <td>No</td>\n",
       "      <td>No</td>\n",
       "    </tr>\n",
       "    <tr>\n",
       "      <th>21645</th>\n",
       "      <td>Yes</td>\n",
       "      <td>Yes</td>\n",
       "    </tr>\n",
       "  </tbody>\n",
       "</table>\n",
       "</div>"
      ],
      "text/plain": [
       "      Recidivism - Return to Prison Part of Target Population\n",
       "21641                            No                       Yes\n",
       "21642                           Yes                       Yes\n",
       "21643                            No                        No\n",
       "21644                            No                        No\n",
       "21645                           Yes                       Yes"
      ]
     },
     "execution_count": 3,
     "metadata": {},
     "output_type": "execute_result"
    }
   ],
   "source": [
    "data[[\"Recidivism - Return to Prison\", \"Part of Target Population\"]].tail()"
   ]
  },
  {
   "cell_type": "markdown",
   "metadata": {},
   "source": [
    "Below, you can see that we have successfully encoded \"Yes\" to 1 and \"No\" to 0."
   ]
  },
  {
   "cell_type": "code",
   "execution_count": 4,
   "metadata": {},
   "outputs": [
    {
     "data": {
      "text/html": [
       "<div>\n",
       "<style>\n",
       "    .dataframe thead tr:only-child th {\n",
       "        text-align: right;\n",
       "    }\n",
       "\n",
       "    .dataframe thead th {\n",
       "        text-align: left;\n",
       "    }\n",
       "\n",
       "    .dataframe tbody tr th {\n",
       "        vertical-align: top;\n",
       "    }\n",
       "</style>\n",
       "<table border=\"1\" class=\"dataframe\">\n",
       "  <thead>\n",
       "    <tr style=\"text-align: right;\">\n",
       "      <th></th>\n",
       "      <th>Recidivism - Return to Prison</th>\n",
       "      <th>Y</th>\n",
       "      <th>Part of Target Population</th>\n",
       "      <th>D</th>\n",
       "    </tr>\n",
       "  </thead>\n",
       "  <tbody>\n",
       "    <tr>\n",
       "      <th>21641</th>\n",
       "      <td>No</td>\n",
       "      <td>0</td>\n",
       "      <td>Yes</td>\n",
       "      <td>1</td>\n",
       "    </tr>\n",
       "    <tr>\n",
       "      <th>21642</th>\n",
       "      <td>Yes</td>\n",
       "      <td>1</td>\n",
       "      <td>Yes</td>\n",
       "      <td>1</td>\n",
       "    </tr>\n",
       "    <tr>\n",
       "      <th>21643</th>\n",
       "      <td>No</td>\n",
       "      <td>0</td>\n",
       "      <td>No</td>\n",
       "      <td>0</td>\n",
       "    </tr>\n",
       "    <tr>\n",
       "      <th>21644</th>\n",
       "      <td>No</td>\n",
       "      <td>0</td>\n",
       "      <td>No</td>\n",
       "      <td>0</td>\n",
       "    </tr>\n",
       "    <tr>\n",
       "      <th>21645</th>\n",
       "      <td>Yes</td>\n",
       "      <td>1</td>\n",
       "      <td>Yes</td>\n",
       "      <td>1</td>\n",
       "    </tr>\n",
       "  </tbody>\n",
       "</table>\n",
       "</div>"
      ],
      "text/plain": [
       "      Recidivism - Return to Prison  Y Part of Target Population  D\n",
       "21641                            No  0                       Yes  1\n",
       "21642                           Yes  1                       Yes  1\n",
       "21643                            No  0                        No  0\n",
       "21644                            No  0                        No  0\n",
       "21645                           Yes  1                       Yes  1"
      ]
     },
     "execution_count": 4,
     "metadata": {},
     "output_type": "execute_result"
    }
   ],
   "source": [
    "encoder = LabelEncoder()\n",
    "data['Y'] = encoder.fit_transform(data['Recidivism - Return to Prison'])\n",
    "data['D'] = encoder.fit_transform(data['Part of Target Population'])\n",
    "data[['Recidivism - Return to Prison', 'Y', 'Part of Target Population', 'D']].tail()"
   ]
  },
  {
   "cell_type": "markdown",
   "metadata": {},
   "source": [
    "It is also possible to apply a more sophisticated encoding function to a partiuclar column by utilising the `.apply` method in conjunction with lambda functions."
   ]
  },
  {
   "cell_type": "code",
   "execution_count": 5,
   "metadata": {
    "collapsed": true
   },
   "outputs": [],
   "source": [
    "def fancy_encoding(val):\n",
    "    if val == \"No\":\n",
    "        return 0\n",
    "    else:\n",
    "        return 1\n",
    "\n",
    "data['fancy_Y'] = data['Recidivism - Return to Prison'].apply(lambda x: fancy_encoding(x))"
   ]
  },
  {
   "cell_type": "code",
   "execution_count": 6,
   "metadata": {},
   "outputs": [
    {
     "data": {
      "text/html": [
       "<div>\n",
       "<style>\n",
       "    .dataframe thead tr:only-child th {\n",
       "        text-align: right;\n",
       "    }\n",
       "\n",
       "    .dataframe thead th {\n",
       "        text-align: left;\n",
       "    }\n",
       "\n",
       "    .dataframe tbody tr th {\n",
       "        vertical-align: top;\n",
       "    }\n",
       "</style>\n",
       "<table border=\"1\" class=\"dataframe\">\n",
       "  <thead>\n",
       "    <tr style=\"text-align: right;\">\n",
       "      <th></th>\n",
       "      <th>Recidivism - Return to Prison</th>\n",
       "      <th>Y</th>\n",
       "      <th>fancy_Y</th>\n",
       "    </tr>\n",
       "  </thead>\n",
       "  <tbody>\n",
       "    <tr>\n",
       "      <th>21641</th>\n",
       "      <td>No</td>\n",
       "      <td>0</td>\n",
       "      <td>0</td>\n",
       "    </tr>\n",
       "    <tr>\n",
       "      <th>21642</th>\n",
       "      <td>Yes</td>\n",
       "      <td>1</td>\n",
       "      <td>1</td>\n",
       "    </tr>\n",
       "    <tr>\n",
       "      <th>21643</th>\n",
       "      <td>No</td>\n",
       "      <td>0</td>\n",
       "      <td>0</td>\n",
       "    </tr>\n",
       "    <tr>\n",
       "      <th>21644</th>\n",
       "      <td>No</td>\n",
       "      <td>0</td>\n",
       "      <td>0</td>\n",
       "    </tr>\n",
       "    <tr>\n",
       "      <th>21645</th>\n",
       "      <td>Yes</td>\n",
       "      <td>1</td>\n",
       "      <td>1</td>\n",
       "    </tr>\n",
       "  </tbody>\n",
       "</table>\n",
       "</div>"
      ],
      "text/plain": [
       "      Recidivism - Return to Prison  Y  fancy_Y\n",
       "21641                            No  0        0\n",
       "21642                           Yes  1        1\n",
       "21643                            No  0        0\n",
       "21644                            No  0        0\n",
       "21645                           Yes  1        1"
      ]
     },
     "execution_count": 6,
     "metadata": {},
     "output_type": "execute_result"
    }
   ],
   "source": [
    "data[['Recidivism - Return to Prison', 'Y', 'fancy_Y']].tail()"
   ]
  },
  {
   "cell_type": "markdown",
   "metadata": {},
   "source": [
    "Now, suppose we wish to calcualte a condition expectation - how might we use the power of pandas to help with this?\n",
    "\n",
    "By using [`groupby`](https://pandas.pydata.org/pandas-docs/stable/generated/pandas.DataFrame.groupby.html)"
   ]
  },
  {
   "cell_type": "code",
   "execution_count": 7,
   "metadata": {},
   "outputs": [
    {
     "data": {
      "text/html": [
       "<div>\n",
       "<style>\n",
       "    .dataframe thead tr:only-child th {\n",
       "        text-align: right;\n",
       "    }\n",
       "\n",
       "    .dataframe thead th {\n",
       "        text-align: left;\n",
       "    }\n",
       "\n",
       "    .dataframe tbody tr th {\n",
       "        vertical-align: top;\n",
       "    }\n",
       "</style>\n",
       "<table border=\"1\" class=\"dataframe\">\n",
       "  <thead>\n",
       "    <tr style=\"text-align: right;\">\n",
       "      <th></th>\n",
       "      <th>D</th>\n",
       "    </tr>\n",
       "    <tr>\n",
       "      <th>Y</th>\n",
       "      <th></th>\n",
       "    </tr>\n",
       "  </thead>\n",
       "  <tbody>\n",
       "    <tr>\n",
       "      <th>0</th>\n",
       "      <td>7131</td>\n",
       "    </tr>\n",
       "    <tr>\n",
       "      <th>1</th>\n",
       "      <td>4337</td>\n",
       "    </tr>\n",
       "  </tbody>\n",
       "</table>\n",
       "</div>"
      ],
      "text/plain": [
       "      D\n",
       "Y      \n",
       "0  7131\n",
       "1  4337"
      ]
     },
     "execution_count": 7,
     "metadata": {},
     "output_type": "execute_result"
    }
   ],
   "source": [
    "subset = data[['Y','D']]\n",
    "subset[subset['D'] == 1].groupby('Y').count()"
   ]
  },
  {
   "cell_type": "markdown",
   "metadata": {},
   "source": [
    "$\\frac{7137}{11474} = 0.6220149904131079$\n",
    "\n",
    "\n",
    "$\\frac{4337}{11474} = 0.37798500958689213$\n",
    "\n",
    "\n",
    "$$E[Recidivist | Participant] = E[Y | D = 1] = 0 \\cdot 0.6220149904131079 + 1 \\cdot 0.37798500958689213 = 0.37798500958689213$$"
   ]
  },
  {
   "cell_type": "markdown",
   "metadata": {},
   "source": [
    "Now, suppose we need to calculate the mean of a certain feature.\n",
    "\n",
    "By default, you may reach for `np.mean` - however, this may not have the behaviour you expect if that feature has missing values."
   ]
  },
  {
   "cell_type": "code",
   "execution_count": 8,
   "metadata": {},
   "outputs": [
    {
     "data": {
      "text/html": [
       "<div>\n",
       "<style>\n",
       "    .dataframe thead tr:only-child th {\n",
       "        text-align: right;\n",
       "    }\n",
       "\n",
       "    .dataframe thead th {\n",
       "        text-align: left;\n",
       "    }\n",
       "\n",
       "    .dataframe tbody tr th {\n",
       "        vertical-align: top;\n",
       "    }\n",
       "</style>\n",
       "<table border=\"1\" class=\"dataframe\">\n",
       "  <thead>\n",
       "    <tr style=\"text-align: right;\">\n",
       "      <th></th>\n",
       "      <th>male</th>\n",
       "      <th>head_earnings</th>\n",
       "      <th>bmi_40</th>\n",
       "      <th>no_family_in_nbhd</th>\n",
       "      <th>anxiety</th>\n",
       "    </tr>\n",
       "  </thead>\n",
       "  <tbody>\n",
       "    <tr>\n",
       "      <th>0</th>\n",
       "      <td>1.0</td>\n",
       "      <td>-38480.976562</td>\n",
       "      <td>0=Not Obese3</td>\n",
       "      <td>0.0</td>\n",
       "      <td>1=Generalized Anxiety Disorder (past yr)</td>\n",
       "    </tr>\n",
       "    <tr>\n",
       "      <th>1</th>\n",
       "      <td>1.0</td>\n",
       "      <td>21206.250000</td>\n",
       "      <td>1=Obese3</td>\n",
       "      <td>1.0</td>\n",
       "      <td>1=Generalized Anxiety Disorder (past yr)</td>\n",
       "    </tr>\n",
       "    <tr>\n",
       "      <th>2</th>\n",
       "      <td>0.0</td>\n",
       "      <td>13893.000977</td>\n",
       "      <td>1=Obese3</td>\n",
       "      <td>1.0</td>\n",
       "      <td>0=No Generalized Anxiety Disorder (past yr)</td>\n",
       "    </tr>\n",
       "    <tr>\n",
       "      <th>3</th>\n",
       "      <td>0.0</td>\n",
       "      <td>15571.154297</td>\n",
       "      <td>0=Not Obese3</td>\n",
       "      <td>1.0</td>\n",
       "      <td>1=Generalized Anxiety Disorder (past yr)</td>\n",
       "    </tr>\n",
       "    <tr>\n",
       "      <th>4</th>\n",
       "      <td>0.0</td>\n",
       "      <td>11620.408203</td>\n",
       "      <td>0=Not Obese3</td>\n",
       "      <td>0.0</td>\n",
       "      <td>0=No Generalized Anxiety Disorder (past yr)</td>\n",
       "    </tr>\n",
       "  </tbody>\n",
       "</table>\n",
       "</div>"
      ],
      "text/plain": [
       "   male  head_earnings        bmi_40  no_family_in_nbhd  \\\n",
       "0   1.0  -38480.976562  0=Not Obese3                0.0   \n",
       "1   1.0   21206.250000      1=Obese3                1.0   \n",
       "2   0.0   13893.000977      1=Obese3                1.0   \n",
       "3   0.0   15571.154297  0=Not Obese3                1.0   \n",
       "4   0.0   11620.408203  0=Not Obese3                0.0   \n",
       "\n",
       "                                       anxiety  \n",
       "0     1=Generalized Anxiety Disorder (past yr)  \n",
       "1     1=Generalized Anxiety Disorder (past yr)  \n",
       "2  0=No Generalized Anxiety Disorder (past yr)  \n",
       "3     1=Generalized Anxiety Disorder (past yr)  \n",
       "4  0=No Generalized Anxiety Disorder (past yr)  "
      ]
     },
     "execution_count": 8,
     "metadata": {},
     "output_type": "execute_result"
    }
   ],
   "source": [
    "new_data = pd.read_stata(\"MTO_data.dta\") #reading in a stata file\n",
    "col_list = [\"male\", \"head_earnings\", \"bmi_40\",\"no_family_in_nbhd\", \"anxiety\"]\n",
    "new_data[col_list].head()"
   ]
  },
  {
   "cell_type": "code",
   "execution_count": 9,
   "metadata": {},
   "outputs": [
    {
     "data": {
      "text/plain": [
       "True"
      ]
     },
     "execution_count": 9,
     "metadata": {},
     "output_type": "execute_result"
    }
   ],
   "source": [
    "any(new_data['head_earnings'].isnull()) # we have missing data in this column!"
   ]
  },
  {
   "cell_type": "code",
   "execution_count": 10,
   "metadata": {},
   "outputs": [
    {
     "data": {
      "text/plain": [
       "12499.498046875"
      ]
     },
     "execution_count": 10,
     "metadata": {},
     "output_type": "execute_result"
    }
   ],
   "source": [
    "mean_1 = np.mean(new_data['head_earnings'])\n",
    "mean_1"
   ]
  },
  {
   "cell_type": "code",
   "execution_count": 11,
   "metadata": {},
   "outputs": [
    {
     "data": {
      "text/plain": [
       "12499.478"
      ]
     },
     "execution_count": 11,
     "metadata": {},
     "output_type": "execute_result"
    }
   ],
   "source": [
    "mean_2 = np.nanmean(new_data['head_earnings'])\n",
    "mean_2"
   ]
  },
  {
   "cell_type": "code",
   "execution_count": 12,
   "metadata": {},
   "outputs": [
    {
     "data": {
      "text/plain": [
       "False"
      ]
     },
     "execution_count": 12,
     "metadata": {},
     "output_type": "execute_result"
    }
   ],
   "source": [
    "mean_1 == mean_2"
   ]
  },
  {
   "cell_type": "code",
   "execution_count": 13,
   "metadata": {},
   "outputs": [
    {
     "data": {
      "text/plain": [
       "2986"
      ]
     },
     "execution_count": 13,
     "metadata": {},
     "output_type": "execute_result"
    }
   ],
   "source": [
    "new_data[\"head_earnings\"].notnull().sum() # The number of missing values in the head earnings column!"
   ]
  },
  {
   "cell_type": "markdown",
   "metadata": {},
   "source": [
    "Now, this might seem like a minute difference, however, precision in these types of calculations are paramount when running calculations related to p-values.\n",
    "\n",
    "The difference comes from the fact that [`np.mean`](https://docs.scipy.org/doc/numpy-1.13.0/reference/generated/numpy.mean.html) with case `NaN` values to 0 whereas [`np.nanmean`](https://docs.scipy.org/doc/numpy-dev/reference/generated/numpy.nanmean.html) will completly ignore `NaN` values from the calculation.\n",
    "\n",
    "There is also a [`np.nanstd`](https://docs.scipy.org/doc/numpy-dev/reference/generated/numpy.nanstd.html) function for calculating the standard deviation.\n",
    "\n",
    "When doing regressions, I highly recommend using the [StatsModels library](http://www.statsmodels.org/dev/generated/statsmodels.regression.linear_model.OLS.html) as this will spit out output that is almost identical to R/STATA. You can see example of this in my previous [notebook](https://github.com/igabr/Blog_Post_Notebooks/blob/master/Program_Evaluation_Introduction_Notebook.ipynb).\n",
    "\n",
    "An important thing to note is then when running regressions with missing data, STATA will automatically drop rows that contain `NaNs` - this is NOT the case with statsmodels.\n",
    "\n",
    "In fact, should you data contain `NaNs`, you will just see `NaNs` populating you output table.\n",
    "\n",
    "Rather, you must specify what to do with missing data.\n",
    "\n",
    "`model = sm.OLS(outcome, X, missing='drop')`\n",
    "\n",
    "Let now talk datatypes:"
   ]
  },
  {
   "cell_type": "code",
   "execution_count": 14,
   "metadata": {},
   "outputs": [
    {
     "data": {
      "text/plain": [
       "array([dtype('float32'), category], dtype=object)"
      ]
     },
     "execution_count": 14,
     "metadata": {},
     "output_type": "execute_result"
    }
   ],
   "source": [
    "new_data.dtypes.unique()"
   ]
  },
  {
   "cell_type": "markdown",
   "metadata": {},
   "source": [
    "From the above, we can see that our dataframe contains `float32` and `category` datatypes.\n",
    "\n",
    "Off the bat, this might seem great, but it is important to remember that when you start encoding various variables or doing transformations that the data type of your features may change.\n",
    "\n",
    "Before feeding in features to a regression, I like to ensure that all of my numeric columns are encoded to `float64` as this gives more numerical precision.\n",
    "\n",
    "You can change the type of a column as follows:"
   ]
  },
  {
   "cell_type": "code",
   "execution_count": 15,
   "metadata": {},
   "outputs": [
    {
     "data": {
      "text/plain": [
       "dtype('float32')"
      ]
     },
     "execution_count": 15,
     "metadata": {},
     "output_type": "execute_result"
    }
   ],
   "source": [
    "new_data['head_earnings'].dtype"
   ]
  },
  {
   "cell_type": "code",
   "execution_count": 16,
   "metadata": {},
   "outputs": [],
   "source": [
    "new_data['head_earnings'] = new_data['head_earnings'].astype('float64')"
   ]
  },
  {
   "cell_type": "code",
   "execution_count": 17,
   "metadata": {},
   "outputs": [
    {
     "data": {
      "text/plain": [
       "dtype('float64')"
      ]
     },
     "execution_count": 17,
     "metadata": {},
     "output_type": "execute_result"
    }
   ],
   "source": [
    "new_data['head_earnings'].dtype # ta-da!"
   ]
  },
  {
   "cell_type": "markdown",
   "metadata": {},
   "source": [
    "You can also use method chaining after to an `.apply` method to immeadiately cast the result of your transformation to a `float64`.\n",
    "\n",
    "e.g. `data[col_name] = data[col_to_be_transformed].apply(lambda x: fancy(x)).astype(\"float64\")` "
   ]
  },
  {
   "cell_type": "markdown",
   "metadata": {},
   "source": [
    "In the context of Program Evaluation and Causal Inference, we are more interested in looking at the predicted values of our regression on the data we train the regression on. This is opposed to Machine Learning in which we simply train a model and our interest lies in the predicted values of **test data** we feed it.\n",
    "\n",
    "That is to say, we are concerned here with **fitted values** of our model. You can obtain the fitted values of your regression by using a method:\n",
    "\n",
    "```{python}\n",
    "results = model.fit()\n",
    "data['fitted_values'] = results.fittedvalues\n",
    "```\n",
    "\n",
    "**fitted values** are simply the values that lie on the regression line. Accessing these values will be important when wishing to verify conditional mean calculations by way of bivariate regressions.\n",
    "\n",
    "Lastly, if is often the case that we need to run t-tests in Program Evaluation. While a majority of this can be handled via statsmodels output. Sometimes, we wish to run a t-test on 2 sample populations. In these calculations, it is important that we are careful with the calculation of $N$, standard deviations and the mean.\n",
    "\n",
    "If we manually and accurately calculate these with `np.nanmean`, `np.nanstd` and `df[c].notnull().sum()`, then we can make use of [`ttest_ind_from_stats`](https://docs.scipy.org/doc/scipy/reference/generated/scipy.stats.ttest_ind_from_stats.html)\n",
    "\n",
    "In the case that we have cleaner data where we can be sure there will be no tainting of our calculations, we can make use of [`ttest_ind`](https://docs.scipy.org/doc/scipy/reference/generated/scipy.stats.ttest_ind.html). Furthermore, this function does have an optional argument that can specify how to deal with `NaN` values.\n",
    "\n",
    "This function is significantly easier to use as we only need to provide the 2 sources of data as opposed to the 6 input parameters required from `ttest_ind_from_stats`.\n",
    "\n",
    "## Conclusion\n",
    "\n",
    "That's all for this notebook. I hope you find it to be a timesaving resource with regards to syntax and 'gotcha's' due to NaNs when running your own analysis.\n",
    "\n",
    "As always, feel free to reach out at: igabr@uchicago.edu or [@Gabr\\_Ibrahim](https://twitter.com/Gabr_Ibrahim)"
   ]
  },
  {
   "cell_type": "code",
   "execution_count": null,
   "metadata": {
    "collapsed": true
   },
   "outputs": [],
   "source": []
  }
 ],
 "metadata": {
  "kernelspec": {
   "display_name": "Python 3",
   "language": "python",
   "name": "python3"
  },
  "language_info": {
   "codemirror_mode": {
    "name": "ipython",
    "version": 3
   },
   "file_extension": ".py",
   "mimetype": "text/x-python",
   "name": "python",
   "nbconvert_exporter": "python",
   "pygments_lexer": "ipython3",
   "version": "3.6.2"
  }
 },
 "nbformat": 4,
 "nbformat_minor": 2
}
