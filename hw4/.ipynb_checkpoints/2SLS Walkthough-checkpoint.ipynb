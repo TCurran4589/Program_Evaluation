{
 "cells": [
  {
   "cell_type": "code",
   "execution_count": 1,
   "metadata": {
    "collapsed": true
   },
   "outputs": [],
   "source": [
    "import warnings\n",
    "warnings.filterwarnings(\"ignore\", category=FutureWarning)\n",
    "import pandas as pd\n",
    "import numpy as np\n",
    "import matplotlib.pyplot as plt\n",
    "%matplotlib inline\n",
    "import statsmodels.api as sm"
   ]
  },
  {
   "cell_type": "markdown",
   "metadata": {},
   "source": [
    "# Formulation\n",
    "\n",
    "## First Stage\n",
    "\n",
    "$ avexpr = \\beta_0+ \\beta_1 logem4 + \\epsilon $\n",
    "\n",
    "Recall that the **instrument** is the `logem4`"
   ]
  },
  {
   "cell_type": "code",
   "execution_count": 2,
   "metadata": {},
   "outputs": [
    {
     "name": "stdout",
     "output_type": "stream",
     "text": [
      "                            OLS Regression Results                            \n",
      "==============================================================================\n",
      "Dep. Variable:                 avexpr   R-squared:                       0.270\n",
      "Model:                            OLS   Adj. R-squared:                  0.258\n",
      "Method:                 Least Squares   F-statistic:                     22.95\n",
      "Date:                Sun, 04 Mar 2018   Prob (F-statistic):           1.08e-05\n",
      "Time:                        18:41:06   Log-Likelihood:                -104.83\n",
      "No. Observations:                  64   AIC:                             213.7\n",
      "Df Residuals:                      62   BIC:                             218.0\n",
      "Df Model:                           1                                         \n",
      "Covariance Type:            nonrobust                                         \n",
      "==============================================================================\n",
      "                 coef    std err          t      P>|t|      [0.025      0.975]\n",
      "------------------------------------------------------------------------------\n",
      "const          9.3414      0.611     15.296      0.000       8.121      10.562\n",
      "logem4        -0.6068      0.127     -4.790      0.000      -0.860      -0.354\n",
      "==============================================================================\n",
      "Omnibus:                        0.035   Durbin-Watson:                   2.003\n",
      "Prob(Omnibus):                  0.983   Jarque-Bera (JB):                0.172\n",
      "Skew:                           0.045   Prob(JB):                        0.918\n",
      "Kurtosis:                       2.763   Cond. No.                         19.4\n",
      "==============================================================================\n",
      "\n",
      "Warnings:\n",
      "[1] Standard Errors assume that the covariance matrix of the errors is correctly specified.\n"
     ]
    }
   ],
   "source": [
    "# Import and select the data\n",
    "df4 = pd.read_stata('https://github.com/QuantEcon/QuantEcon.lectures.code/raw/master/ols/maketable4.dta')\n",
    "df4 = df4[df4['baseco'] == 1] # to ensure we have no missing values.\n",
    "\n",
    "# Add a constant variable\n",
    "df4['const'] = 1 # broadcasting\n",
    "\n",
    "# Fit the first stage regression and print summary\n",
    "results_fs = sm.OLS(df4['avexpr'],# y-val\n",
    "                    df4[['const', 'logem4']],# x-val (endogenous)\n",
    "                    missing='drop').fit()\n",
    "print(results_fs.summary())"
   ]
  },
  {
   "cell_type": "markdown",
   "metadata": {},
   "source": [
    "# Second Stage"
   ]
  },
  {
   "cell_type": "code",
   "execution_count": 3,
   "metadata": {
    "collapsed": true
   },
   "outputs": [],
   "source": [
    "df4['predicted_avexpr'] = results_fs.predict() #same as fittedvalues."
   ]
  },
  {
   "cell_type": "code",
   "execution_count": 4,
   "metadata": {},
   "outputs": [
    {
     "data": {
      "text/plain": [
       "True"
      ]
     },
     "execution_count": 4,
     "metadata": {},
     "output_type": "execute_result"
    }
   ],
   "source": [
    "all(df4['predicted_avexpr'].values == results_fs.fittedvalues)"
   ]
  },
  {
   "cell_type": "code",
   "execution_count": 5,
   "metadata": {},
   "outputs": [
    {
     "name": "stdout",
     "output_type": "stream",
     "text": [
      "                            OLS Regression Results                            \n",
      "==============================================================================\n",
      "Dep. Variable:               logpgp95   R-squared:                       0.477\n",
      "Model:                            OLS   Adj. R-squared:                  0.469\n",
      "Method:                 Least Squares   F-statistic:                     56.60\n",
      "Date:                Sun, 04 Mar 2018   Prob (F-statistic):           2.66e-10\n",
      "Time:                        18:41:06   Log-Likelihood:                -72.268\n",
      "No. Observations:                  64   AIC:                             148.5\n",
      "Df Residuals:                      62   BIC:                             152.9\n",
      "Df Model:                           1                                         \n",
      "Covariance Type:            nonrobust                                         \n",
      "====================================================================================\n",
      "                       coef    std err          t      P>|t|      [0.025      0.975]\n",
      "------------------------------------------------------------------------------------\n",
      "const                1.9097      0.823      2.320      0.024       0.264       3.555\n",
      "predicted_avexpr     0.9443      0.126      7.523      0.000       0.693       1.195\n",
      "==============================================================================\n",
      "Omnibus:                       10.547   Durbin-Watson:                   2.137\n",
      "Prob(Omnibus):                  0.005   Jarque-Bera (JB):               11.010\n",
      "Skew:                          -0.790   Prob(JB):                      0.00407\n",
      "Kurtosis:                       4.277   Cond. No.                         58.1\n",
      "==============================================================================\n",
      "\n",
      "Warnings:\n",
      "[1] Standard Errors assume that the covariance matrix of the errors is correctly specified.\n"
     ]
    }
   ],
   "source": [
    "results_ss = sm.OLS(df4['logpgp95'],\n",
    "                    df4[['const', 'predicted_avexpr']]).fit()\n",
    "print(results_ss.summary())"
   ]
  },
  {
   "cell_type": "markdown",
   "metadata": {},
   "source": [
    "## Warning\n",
    "\n",
    "The second-stage regression results give us an unbiased and consistent estimate of the effect of institutions on economic outcomes\n",
    "\n",
    "The result suggests a stronger positive relationship than what the OLS results indicated\n",
    "\n",
    "Note that while our parameter estimates are correct, our standard errors are not and for this reason, computing 2SLS ‘manually’ (in stages with OLS) is not recommended\n",
    "\n",
    "\n",
    "## note, we install linearmodels package, which extends statsmodels.\n",
    "\n",
    "https://bashtage.github.io/linearmodels/doc/"
   ]
  },
  {
   "cell_type": "code",
   "execution_count": 6,
   "metadata": {
    "collapsed": true
   },
   "outputs": [],
   "source": [
    "from linearmodels.iv import IV2SLS"
   ]
  },
  {
   "cell_type": "code",
   "execution_count": 7,
   "metadata": {},
   "outputs": [
    {
     "name": "stdout",
     "output_type": "stream",
     "text": [
      "                          IV-2SLS Estimation Summary                          \n",
      "==============================================================================\n",
      "Dep. Variable:               logpgp95   R-squared:                      0.1870\n",
      "Estimator:                    IV-2SLS   Adj. R-squared:                 0.1739\n",
      "No. Observations:                  64   F-statistic:                    37.568\n",
      "Date:                Sun, Mar 04 2018   P-value (F-stat)                0.0000\n",
      "Time:                        18:41:06   Distribution:                  chi2(1)\n",
      "Cov. Estimator:            unadjusted                                         \n",
      "                                                                              \n",
      "                             Parameter Estimates                              \n",
      "==============================================================================\n",
      "            Parameter  Std. Err.     T-stat    P-value    Lower CI    Upper CI\n",
      "------------------------------------------------------------------------------\n",
      "const          1.9097     1.0106     1.8897     0.0588     -0.0710      3.8903\n",
      "avexpr         0.9443     0.1541     6.1293     0.0000      0.6423      1.2462\n",
      "==============================================================================\n",
      "\n",
      "Endogenous: avexpr\n",
      "Instruments: logem4\n",
      "Unadjusted Covariance (Homoskedastic)\n",
      "Debiased: False\n"
     ]
    }
   ],
   "source": [
    "iv = IV2SLS(dependent=df4['logpgp95'],\n",
    "            exog=df4['const'],\n",
    "            endog=df4['avexpr'],\n",
    "            instruments=df4['logem4']).fit(cov_type='unadjusted')\n",
    "\n",
    "print(iv.summary)"
   ]
  },
  {
   "cell_type": "markdown",
   "metadata": {},
   "source": [
    "## Notice how the estimate is identical, however, the standard error is now correct. Never manually calculate 2SLS."
   ]
  },
  {
   "cell_type": "code",
   "execution_count": 8,
   "metadata": {},
   "outputs": [
    {
     "data": {
      "text/plain": [
       "0.94427938515480037"
      ]
     },
     "execution_count": 8,
     "metadata": {},
     "output_type": "execute_result"
    }
   ],
   "source": [
    "iv.params[-1]"
   ]
  },
  {
   "cell_type": "markdown",
   "metadata": {},
   "source": [
    "## Here is how to do the same thing in statsmodels!\n",
    "\n",
    "http://www.statsmodels.org/stable/generated/statsmodels.sandbox.regression.gmm.IV2SLS.html?highlight=2sls#statsmodels.sandbox.regression.gmm.IV2SLS"
   ]
  },
  {
   "cell_type": "code",
   "execution_count": 9,
   "metadata": {
    "collapsed": true
   },
   "outputs": [],
   "source": [
    "from statsmodels.sandbox.regression.gmm import IV2SLS as IV"
   ]
  },
  {
   "cell_type": "code",
   "execution_count": 34,
   "metadata": {
    "collapsed": true
   },
   "outputs": [],
   "source": [
    "test = IV(endog=df4['logpgp95'].values, exog=df4[[\"const\", \"avexpr\"]].values, instrument=df4[[\"const\",'logem4']].values).fit()"
   ]
  },
  {
   "cell_type": "code",
   "execution_count": 35,
   "metadata": {},
   "outputs": [
    {
     "data": {
      "text/html": [
       "<table class=\"simpletable\">\n",
       "<caption>IV2SLS Regression Results</caption>\n",
       "<tr>\n",
       "  <th>Dep. Variable:</th>            <td>y</td>        <th>  R-squared:         </th> <td>   0.187</td>\n",
       "</tr>\n",
       "<tr>\n",
       "  <th>Model:</th>                 <td>IV2SLS</td>      <th>  Adj. R-squared:    </th> <td>   0.174</td>\n",
       "</tr>\n",
       "<tr>\n",
       "  <th>Method:</th>               <td>Two Stage</td>    <th>  F-statistic:       </th> <td>   36.39</td>\n",
       "</tr>\n",
       "<tr>\n",
       "  <th></th>                    <td>Least Squares</td>  <th>  Prob (F-statistic):</th> <td>9.80e-08</td>\n",
       "</tr>\n",
       "<tr>\n",
       "  <th>Date:</th>             <td>Sun, 04 Mar 2018</td> <th>                     </th>     <td> </td>   \n",
       "</tr>\n",
       "<tr>\n",
       "  <th>Time:</th>                 <td>18:49:08</td>     <th>                     </th>     <td> </td>   \n",
       "</tr>\n",
       "<tr>\n",
       "  <th>No. Observations:</th>      <td>    64</td>      <th>                     </th>     <td> </td>   \n",
       "</tr>\n",
       "<tr>\n",
       "  <th>Df Residuals:</th>          <td>    62</td>      <th>                     </th>     <td> </td>   \n",
       "</tr>\n",
       "<tr>\n",
       "  <th>Df Model:</th>              <td>     1</td>      <th>                     </th>     <td> </td>   \n",
       "</tr>\n",
       "</table>\n",
       "<table class=\"simpletable\">\n",
       "<tr>\n",
       "    <td></td>       <th>coef</th>     <th>std err</th>      <th>t</th>      <th>P>|t|</th>  <th>[0.025</th>    <th>0.975]</th>  \n",
       "</tr>\n",
       "<tr>\n",
       "  <th>const</th> <td>    1.9097</td> <td>    1.027</td> <td>    1.860</td> <td> 0.068</td> <td>   -0.143</td> <td>    3.962</td>\n",
       "</tr>\n",
       "<tr>\n",
       "  <th>x1</th>    <td>    0.9443</td> <td>    0.157</td> <td>    6.033</td> <td> 0.000</td> <td>    0.631</td> <td>    1.257</td>\n",
       "</tr>\n",
       "</table>\n",
       "<table class=\"simpletable\">\n",
       "<tr>\n",
       "  <th>Omnibus:</th>       <td> 1.738</td> <th>  Durbin-Watson:     </th> <td>   2.038</td>\n",
       "</tr>\n",
       "<tr>\n",
       "  <th>Prob(Omnibus):</th> <td> 0.419</td> <th>  Jarque-Bera (JB):  </th> <td>   1.491</td>\n",
       "</tr>\n",
       "<tr>\n",
       "  <th>Skew:</th>          <td>-0.372</td> <th>  Prob(JB):          </th> <td>   0.475</td>\n",
       "</tr>\n",
       "<tr>\n",
       "  <th>Kurtosis:</th>      <td> 2.922</td> <th>  Cond. No.          </th> <td>    31.2</td>\n",
       "</tr>\n",
       "</table>"
      ],
      "text/plain": [
       "<class 'statsmodels.iolib.summary.Summary'>\n",
       "\"\"\"\n",
       "                          IV2SLS Regression Results                           \n",
       "==============================================================================\n",
       "Dep. Variable:                      y   R-squared:                       0.187\n",
       "Model:                         IV2SLS   Adj. R-squared:                  0.174\n",
       "Method:                     Two Stage   F-statistic:                     36.39\n",
       "                        Least Squares   Prob (F-statistic):           9.80e-08\n",
       "Date:                Sun, 04 Mar 2018                                         \n",
       "Time:                        18:49:08                                         \n",
       "No. Observations:                  64                                         \n",
       "Df Residuals:                      62                                         \n",
       "Df Model:                           1                                         \n",
       "==============================================================================\n",
       "                 coef    std err          t      P>|t|      [0.025      0.975]\n",
       "------------------------------------------------------------------------------\n",
       "const          1.9097      1.027      1.860      0.068      -0.143       3.962\n",
       "x1             0.9443      0.157      6.033      0.000       0.631       1.257\n",
       "==============================================================================\n",
       "Omnibus:                        1.738   Durbin-Watson:                   2.038\n",
       "Prob(Omnibus):                  0.419   Jarque-Bera (JB):                1.491\n",
       "Skew:                          -0.372   Prob(JB):                        0.475\n",
       "Kurtosis:                       2.922   Cond. No.                         31.2\n",
       "==============================================================================\n",
       "\"\"\""
      ]
     },
     "execution_count": 35,
     "metadata": {},
     "output_type": "execute_result"
    }
   ],
   "source": [
    "test.summary()"
   ]
  },
  {
   "cell_type": "code",
   "execution_count": 38,
   "metadata": {},
   "outputs": [
    {
     "data": {
      "text/plain": [
       "0.94427938515483767"
      ]
     },
     "execution_count": 38,
     "metadata": {},
     "output_type": "execute_result"
    }
   ],
   "source": [
    "test.params[-1]"
   ]
  },
  {
   "cell_type": "code",
   "execution_count": null,
   "metadata": {
    "collapsed": true
   },
   "outputs": [],
   "source": []
  }
 ],
 "metadata": {
  "kernelspec": {
   "display_name": "Python 3",
   "language": "python",
   "name": "python3"
  },
  "language_info": {
   "codemirror_mode": {
    "name": "ipython",
    "version": 3
   },
   "file_extension": ".py",
   "mimetype": "text/x-python",
   "name": "python",
   "nbconvert_exporter": "python",
   "pygments_lexer": "ipython3",
   "version": "3.6.4"
  }
 },
 "nbformat": 4,
 "nbformat_minor": 2
}
