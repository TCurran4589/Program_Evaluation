{
 "cells": [
  {
   "cell_type": "code",
   "execution_count": 1,
   "metadata": {},
   "outputs": [
    {
     "data": {
      "text/html": [
       "<script>requirejs.config({paths: { 'plotly': ['https://cdn.plot.ly/plotly-latest.min']},});if(!window.Plotly) {{require(['plotly'],function(plotly) {window.Plotly=plotly;});}}</script>"
      ],
      "text/vnd.plotly.v1+html": [
       "<script>requirejs.config({paths: { 'plotly': ['https://cdn.plot.ly/plotly-latest.min']},});if(!window.Plotly) {{require(['plotly'],function(plotly) {window.Plotly=plotly;});}}</script>"
      ]
     },
     "metadata": {},
     "output_type": "display_data"
    }
   ],
   "source": [
    "import warnings\n",
    "warnings.filterwarnings(\"ignore\", category=FutureWarning)\n",
    "import pandas as pd\n",
    "import seaborn as sns\n",
    "import matplotlib.pyplot as plt\n",
    "plt.style.use('fivethirtyeight')\n",
    "import plotly.plotly as py\n",
    "from plotly.offline import download_plotlyjs, init_notebook_mode, plot, iplot\n",
    "import plotly.graph_objs as go\n",
    "from plotly.graph_objs import *\n",
    "init_notebook_mode(connected=True)\n",
    "import statsmodels.api as sm\n",
    "from statsmodels.iolib.summary2 import summary_col\n",
    "from linearmodels import IV2SLS\n",
    "import numpy as np\n",
    "from linearmodels.iv import IV2SLS as ivregress\n",
    "plt.rcParams[\"figure.figsize\"] = (20, 25)\n",
    "plt.rcParams[\"xtick.labelsize\"] = 16\n",
    "plt.rcParams[\"ytick.labelsize\"] = 16\n",
    "plt.rcParams[\"axes.labelsize\"] = 20\n",
    "plt.rcParams['legend.fontsize'] = 20\n",
    "%matplotlib inline"
   ]
  },
  {
   "cell_type": "markdown",
   "metadata": {},
   "source": [
    "# Question 1\n",
    "\n",
    "Let's get some conversion out of the way\n",
    "\n",
    "_We know that 1500g is 3 Pounds 5 Ounces._\n",
    "\n",
    "As such, 1 ounce is **approx** 28.34952g - for numerical purposes, lets just round this to 28.35g\n",
    "\n",
    "I constructed 10 bins as there was a range of about 10 ounces in our data.\n",
    "\n",
    "From the graph below, we can see that there is an **inverse relationship** between mortality and birth weight.\n",
    "\n",
    "That is to say, as birth weight increases, the mortality rate dereases.\n",
    "\n",
    "It is interesting, however, to see a kink occur at the cutoff point!"
   ]
  },
  {
   "cell_type": "code",
   "execution_count": 2,
   "metadata": {},
   "outputs": [],
   "source": [
    "birth_df = pd.read_stata(\"birthweight.dta\")"
   ]
  },
  {
   "cell_type": "code",
   "execution_count": 3,
   "metadata": {},
   "outputs": [
    {
     "data": {
      "text/html": [
       "<div>\n",
       "<style scoped>\n",
       "    .dataframe tbody tr th:only-of-type {\n",
       "        vertical-align: middle;\n",
       "    }\n",
       "\n",
       "    .dataframe tbody tr th {\n",
       "        vertical-align: top;\n",
       "    }\n",
       "\n",
       "    .dataframe thead th {\n",
       "        text-align: right;\n",
       "    }\n",
       "</style>\n",
       "<table border=\"1\" class=\"dataframe\">\n",
       "  <thead>\n",
       "    <tr style=\"text-align: right;\">\n",
       "      <th></th>\n",
       "      <th>bweight</th>\n",
       "      <th>treatment</th>\n",
       "    </tr>\n",
       "  </thead>\n",
       "  <tbody>\n",
       "    <tr>\n",
       "      <th>376403</th>\n",
       "      <td>1503</td>\n",
       "      <td>0</td>\n",
       "    </tr>\n",
       "    <tr>\n",
       "      <th>376404</th>\n",
       "      <td>1389</td>\n",
       "      <td>1</td>\n",
       "    </tr>\n",
       "    <tr>\n",
       "      <th>376405</th>\n",
       "      <td>1418</td>\n",
       "      <td>1</td>\n",
       "    </tr>\n",
       "    <tr>\n",
       "      <th>376406</th>\n",
       "      <td>1418</td>\n",
       "      <td>1</td>\n",
       "    </tr>\n",
       "    <tr>\n",
       "      <th>376407</th>\n",
       "      <td>1446</td>\n",
       "      <td>1</td>\n",
       "    </tr>\n",
       "  </tbody>\n",
       "</table>\n",
       "</div>"
      ],
      "text/plain": [
       "        bweight  treatment\n",
       "376403     1503          0\n",
       "376404     1389          1\n",
       "376405     1418          1\n",
       "376406     1418          1\n",
       "376407     1446          1"
      ]
     },
     "execution_count": 3,
     "metadata": {},
     "output_type": "execute_result"
    }
   ],
   "source": [
    "# encoding treatment status\n",
    "birth_df['treatment'] = birth_df['bweight'].apply(lambda x: 1 if x < 1500 else 0)\n",
    "birth_df[[\"bweight\",\"treatment\"]].tail()"
   ]
  },
  {
   "cell_type": "code",
   "execution_count": 4,
   "metadata": {
    "collapsed": true
   },
   "outputs": [],
   "source": [
    "# creation of 1 ounce bins.\n",
    "bins = [1350, 1386, 1414, 1443, 1471, 1500, 1528, 1556, 1585, 1613, 1651]\n",
    "labels = ['<1386', '<1414', '<1443', '<1471', '<1500', '<1528', '<1556', '<1585', '<1613', '<1651']\n",
    "birth_df[\"birth_bins_1_oz\"] = pd.cut(birth_df['bweight'], bins=bins, labels=labels, right=False)"
   ]
  },
  {
   "cell_type": "code",
   "execution_count": 5,
   "metadata": {
    "scrolled": false
   },
   "outputs": [
    {
     "data": {
      "text/html": [
       "<div>\n",
       "<style scoped>\n",
       "    .dataframe tbody tr th:only-of-type {\n",
       "        vertical-align: middle;\n",
       "    }\n",
       "\n",
       "    .dataframe tbody tr th {\n",
       "        vertical-align: top;\n",
       "    }\n",
       "\n",
       "    .dataframe thead th {\n",
       "        text-align: right;\n",
       "    }\n",
       "</style>\n",
       "<table border=\"1\" class=\"dataframe\">\n",
       "  <thead>\n",
       "    <tr style=\"text-align: right;\">\n",
       "      <th></th>\n",
       "      <th>bweight</th>\n",
       "      <th>birth_bins_1_oz</th>\n",
       "    </tr>\n",
       "  </thead>\n",
       "  <tbody>\n",
       "    <tr>\n",
       "      <th>0</th>\n",
       "      <td>1361</td>\n",
       "      <td>&lt;1386</td>\n",
       "    </tr>\n",
       "    <tr>\n",
       "      <th>1</th>\n",
       "      <td>1361</td>\n",
       "      <td>&lt;1386</td>\n",
       "    </tr>\n",
       "    <tr>\n",
       "      <th>2</th>\n",
       "      <td>1361</td>\n",
       "      <td>&lt;1386</td>\n",
       "    </tr>\n",
       "    <tr>\n",
       "      <th>3</th>\n",
       "      <td>1361</td>\n",
       "      <td>&lt;1386</td>\n",
       "    </tr>\n",
       "    <tr>\n",
       "      <th>4</th>\n",
       "      <td>1361</td>\n",
       "      <td>&lt;1386</td>\n",
       "    </tr>\n",
       "  </tbody>\n",
       "</table>\n",
       "</div>"
      ],
      "text/plain": [
       "   bweight birth_bins_1_oz\n",
       "0     1361           <1386\n",
       "1     1361           <1386\n",
       "2     1361           <1386\n",
       "3     1361           <1386\n",
       "4     1361           <1386"
      ]
     },
     "execution_count": 5,
     "metadata": {},
     "output_type": "execute_result"
    }
   ],
   "source": [
    "# Head of the Data\n",
    "birth_df[[\"bweight\",'birth_bins_1_oz']].head()"
   ]
  },
  {
   "cell_type": "code",
   "execution_count": 6,
   "metadata": {},
   "outputs": [
    {
     "data": {
      "text/html": [
       "<div>\n",
       "<style scoped>\n",
       "    .dataframe tbody tr th:only-of-type {\n",
       "        vertical-align: middle;\n",
       "    }\n",
       "\n",
       "    .dataframe tbody tr th {\n",
       "        vertical-align: top;\n",
       "    }\n",
       "\n",
       "    .dataframe thead th {\n",
       "        text-align: right;\n",
       "    }\n",
       "</style>\n",
       "<table border=\"1\" class=\"dataframe\">\n",
       "  <thead>\n",
       "    <tr style=\"text-align: right;\">\n",
       "      <th></th>\n",
       "      <th>bweight</th>\n",
       "      <th>birth_bins_1_oz</th>\n",
       "    </tr>\n",
       "  </thead>\n",
       "  <tbody>\n",
       "    <tr>\n",
       "      <th>376403</th>\n",
       "      <td>1503</td>\n",
       "      <td>&lt;1528</td>\n",
       "    </tr>\n",
       "    <tr>\n",
       "      <th>376404</th>\n",
       "      <td>1389</td>\n",
       "      <td>&lt;1414</td>\n",
       "    </tr>\n",
       "    <tr>\n",
       "      <th>376405</th>\n",
       "      <td>1418</td>\n",
       "      <td>&lt;1443</td>\n",
       "    </tr>\n",
       "    <tr>\n",
       "      <th>376406</th>\n",
       "      <td>1418</td>\n",
       "      <td>&lt;1443</td>\n",
       "    </tr>\n",
       "    <tr>\n",
       "      <th>376407</th>\n",
       "      <td>1446</td>\n",
       "      <td>&lt;1471</td>\n",
       "    </tr>\n",
       "  </tbody>\n",
       "</table>\n",
       "</div>"
      ],
      "text/plain": [
       "        bweight birth_bins_1_oz\n",
       "376403     1503           <1528\n",
       "376404     1389           <1414\n",
       "376405     1418           <1443\n",
       "376406     1418           <1443\n",
       "376407     1446           <1471"
      ]
     },
     "execution_count": 6,
     "metadata": {},
     "output_type": "execute_result"
    }
   ],
   "source": [
    "# Tail of the Data\n",
    "birth_df[[\"bweight\",'birth_bins_1_oz']].tail()"
   ]
  },
  {
   "cell_type": "code",
   "execution_count": 7,
   "metadata": {},
   "outputs": [
    {
     "data": {
      "application/vnd.plotly.v1+json": {
       "data": [
        {
         "line": {
          "color": "rgb(205, 12, 24)",
          "width": 4
         },
         "name": "Mortality Rate",
         "type": "scatter",
         "x": [
          "<1386",
          "<1414",
          "<1443",
          "<1471",
          "<1500",
          "<1528",
          "<1556",
          "<1585",
          "<1613",
          "<1651"
         ],
         "y": [
          null,
          null,
          null,
          null,
          null,
          0.061654008911806744,
          0.053963043662808796,
          0.0508643806698237,
          0.052189547312940246,
          0.04534911176854591
         ]
        },
        {
         "line": {
          "color": "rgb(22, 96, 167)",
          "width": 4
         },
         "name": "Cut-Off = 1500g",
         "type": "scatter",
         "x": [
          "<1500",
          "<1500"
         ],
         "y": [
          0.045,
          0.077
         ]
        },
        {
         "line": {
          "color": "rgb(205, 12, 24)",
          "width": 4
         },
         "name": "Mortality Rate",
         "type": "scatter",
         "x": [
          "<1386",
          "<1414",
          "<1443",
          "<1471",
          "<1500",
          "<1528",
          "<1556",
          "<1585",
          "<1613",
          "<1651"
         ],
         "y": [
          0.0762346602813529,
          0.06921059895114547,
          0.06342380224260959,
          0.06116584564860427,
          0.05681712568543015,
          null,
          null,
          null,
          null,
          null
         ]
        }
       ],
       "layout": {
        "title": "One-Year Mortality Rate By Birth Weight - 1 Oz Bin",
        "xaxis": {
         "title": "Weight (grams)"
        },
        "yaxis": {
         "title": "Average Mortality Rate"
        }
       }
      },
      "text/html": [
       "<div id=\"1dae2dbb-6754-466e-ae40-c7b6548a0b6d\" style=\"height: 525px; width: 100%;\" class=\"plotly-graph-div\"></div><script type=\"text/javascript\">require([\"plotly\"], function(Plotly) { window.PLOTLYENV=window.PLOTLYENV || {};window.PLOTLYENV.BASE_URL=\"https://plot.ly\";Plotly.newPlot(\"1dae2dbb-6754-466e-ae40-c7b6548a0b6d\", [{\"type\": \"scatter\", \"x\": [\"<1386\", \"<1414\", \"<1443\", \"<1471\", \"<1500\", \"<1528\", \"<1556\", \"<1585\", \"<1613\", \"<1651\"], \"y\": [null, null, null, null, null, 0.061654008911806744, 0.053963043662808796, 0.0508643806698237, 0.052189547312940246, 0.04534911176854591], \"name\": \"Mortality Rate\", \"line\": {\"color\": \"rgb(205, 12, 24)\", \"width\": 4}}, {\"type\": \"scatter\", \"x\": [\"<1500\", \"<1500\"], \"y\": [0.045, 0.077], \"name\": \"Cut-Off = 1500g\", \"line\": {\"color\": \"rgb(22, 96, 167)\", \"width\": 4}}, {\"type\": \"scatter\", \"x\": [\"<1386\", \"<1414\", \"<1443\", \"<1471\", \"<1500\", \"<1528\", \"<1556\", \"<1585\", \"<1613\", \"<1651\"], \"y\": [0.0762346602813529, 0.06921059895114547, 0.06342380224260959, 0.06116584564860427, 0.05681712568543015, null, null, null, null, null], \"name\": \"Mortality Rate\", \"line\": {\"color\": \"rgb(205, 12, 24)\", \"width\": 4}}], {\"title\": \"One-Year Mortality Rate By Birth Weight - 1 Oz Bin\", \"xaxis\": {\"title\": \"Weight (grams)\"}, \"yaxis\": {\"title\": \"Average Mortality Rate\"}}, {\"showLink\": true, \"linkText\": \"Export to plot.ly\"})});</script>"
      ],
      "text/vnd.plotly.v1+html": [
       "<div id=\"1dae2dbb-6754-466e-ae40-c7b6548a0b6d\" style=\"height: 525px; width: 100%;\" class=\"plotly-graph-div\"></div><script type=\"text/javascript\">require([\"plotly\"], function(Plotly) { window.PLOTLYENV=window.PLOTLYENV || {};window.PLOTLYENV.BASE_URL=\"https://plot.ly\";Plotly.newPlot(\"1dae2dbb-6754-466e-ae40-c7b6548a0b6d\", [{\"type\": \"scatter\", \"x\": [\"<1386\", \"<1414\", \"<1443\", \"<1471\", \"<1500\", \"<1528\", \"<1556\", \"<1585\", \"<1613\", \"<1651\"], \"y\": [null, null, null, null, null, 0.061654008911806744, 0.053963043662808796, 0.0508643806698237, 0.052189547312940246, 0.04534911176854591], \"name\": \"Mortality Rate\", \"line\": {\"color\": \"rgb(205, 12, 24)\", \"width\": 4}}, {\"type\": \"scatter\", \"x\": [\"<1500\", \"<1500\"], \"y\": [0.045, 0.077], \"name\": \"Cut-Off = 1500g\", \"line\": {\"color\": \"rgb(22, 96, 167)\", \"width\": 4}}, {\"type\": \"scatter\", \"x\": [\"<1386\", \"<1414\", \"<1443\", \"<1471\", \"<1500\", \"<1528\", \"<1556\", \"<1585\", \"<1613\", \"<1651\"], \"y\": [0.0762346602813529, 0.06921059895114547, 0.06342380224260959, 0.06116584564860427, 0.05681712568543015, null, null, null, null, null], \"name\": \"Mortality Rate\", \"line\": {\"color\": \"rgb(205, 12, 24)\", \"width\": 4}}], {\"title\": \"One-Year Mortality Rate By Birth Weight - 1 Oz Bin\", \"xaxis\": {\"title\": \"Weight (grams)\"}, \"yaxis\": {\"title\": \"Average Mortality Rate\"}}, {\"showLink\": true, \"linkText\": \"Export to plot.ly\"})});</script>"
      ]
     },
     "metadata": {},
     "output_type": "display_data"
    }
   ],
   "source": [
    "# Plot Mortality vs Birthweight\n",
    "trace_0_data = birth_df[birth_df['bweight'] >= 1500].groupby(\"birth_bins_1_oz\").mean()[\"agedth5\"].values\n",
    "ounces_0 = list(birth_df[birth_df['bweight'] >= 1500].groupby(\"birth_bins_1_oz\").mean()[\"agedth5\"].index)\n",
    "\n",
    "trace_1_data = birth_df[birth_df['bweight'] < 1500].groupby(\"birth_bins_1_oz\").mean()[\"agedth5\"].values\n",
    "ounces_1 = list(birth_df[birth_df['bweight'] < 1500].groupby(\"birth_bins_1_oz\").mean()[\"agedth5\"].index)\n",
    "\n",
    "trace0 = go.Scatter(\n",
    "    x = ounces_0,\n",
    "    y = trace_0_data,\n",
    "    name = 'Mortality Rate',\n",
    "    line = dict(\n",
    "        color = ('rgb(205, 12, 24)'),\n",
    "        width = 4)\n",
    ")\n",
    "\n",
    "trace1 = go.Scatter(\n",
    "x = [\"<1500\",\"<1500\"],\n",
    "y = [0.045, 0.077],\n",
    "name = \"Cut-Off = 1500g\",\n",
    "    line = dict(\n",
    "        color = ('rgb(22, 96, 167)'),\n",
    "        width = 4,))\n",
    "\n",
    "trace2 = go.Scatter(\n",
    "    x = ounces_1,\n",
    "    y = trace_1_data,\n",
    "    name = 'Mortality Rate',\n",
    "    line = dict(\n",
    "        color = ('rgb(205, 12, 24)'),\n",
    "        width = 4)\n",
    ")\n",
    "\n",
    "traces = [trace0, trace1, trace2]\n",
    "\n",
    "layout = dict(title = f'One-Year Mortality Rate By Birth Weight - 1 Oz Bin',\n",
    "              xaxis = dict(title = 'Weight (grams)'),\n",
    "              yaxis = dict(title = f'Average Mortality Rate'))\n",
    "\n",
    "fig = dict(data=traces, layout=layout)\n",
    "\n",
    "iplot(fig, filename='styled-line')"
   ]
  },
  {
   "cell_type": "markdown",
   "metadata": {},
   "source": [
    "# Question 2\n",
    "\n",
    "Windening the window to 3 ounces results in us only have 4 windows.\n",
    "\n",
    "This smoothes out our plot as we are hiding the variability of our data in bigger intervals.\n",
    "\n",
    "We still see an **inverse relationship** - however, this plot is significantly more linear!"
   ]
  },
  {
   "cell_type": "code",
   "execution_count": 8,
   "metadata": {
    "collapsed": true
   },
   "outputs": [],
   "source": [
    "# creation of 3 ounce bins.\n",
    "bins = [1350, 1416, 1500, 1585, 1651]\n",
    "labels = ['<1416', '<1500',  '<1585', '<1651']\n",
    "birth_df[\"birth_bins_3_oz\"] = pd.cut(birth_df['bweight'], bins=bins, labels=labels, right=False)"
   ]
  },
  {
   "cell_type": "code",
   "execution_count": 9,
   "metadata": {
    "scrolled": false
   },
   "outputs": [
    {
     "data": {
      "application/vnd.plotly.v1+json": {
       "data": [
        {
         "line": {
          "color": "rgb(205, 12, 24)",
          "width": 4
         },
         "name": "Mortality Rate",
         "type": "scatter",
         "x": [
          "<1416",
          "<1500",
          "<1585",
          "<1651"
         ],
         "y": [
          null,
          null,
          0.05552622647912817,
          0.047815699961811384
         ]
        },
        {
         "line": {
          "color": "rgb(22, 96, 167)",
          "width": 4
         },
         "name": "Cut-Off = 1500g",
         "type": "scatter",
         "x": [
          "<1500",
          "<1500"
         ],
         "y": [
          0.045,
          0.077
         ]
        },
        {
         "line": {
          "color": "rgb(205, 12, 24)",
          "width": 4
         },
         "name": "Mortality Rate",
         "type": "scatter",
         "x": [
          "<1416",
          "<1500",
          "<1585",
          "<1651"
         ],
         "y": [
          0.07287725020186507,
          0.06039842659560969,
          null,
          null
         ]
        }
       ],
       "layout": {
        "title": "One-Year Mortality Rate By Birth Weight - 3 Oz Bin",
        "xaxis": {
         "title": "Weight (grams)"
        },
        "yaxis": {
         "title": "Average Mortality Rate"
        }
       }
      },
      "text/html": [
       "<div id=\"5dabe206-f8c9-4fc6-98b2-deaef785c611\" style=\"height: 525px; width: 100%;\" class=\"plotly-graph-div\"></div><script type=\"text/javascript\">require([\"plotly\"], function(Plotly) { window.PLOTLYENV=window.PLOTLYENV || {};window.PLOTLYENV.BASE_URL=\"https://plot.ly\";Plotly.newPlot(\"5dabe206-f8c9-4fc6-98b2-deaef785c611\", [{\"type\": \"scatter\", \"x\": [\"<1416\", \"<1500\", \"<1585\", \"<1651\"], \"y\": [null, null, 0.05552622647912817, 0.047815699961811384], \"name\": \"Mortality Rate\", \"line\": {\"color\": \"rgb(205, 12, 24)\", \"width\": 4}}, {\"type\": \"scatter\", \"x\": [\"<1500\", \"<1500\"], \"y\": [0.045, 0.077], \"name\": \"Cut-Off = 1500g\", \"line\": {\"color\": \"rgb(22, 96, 167)\", \"width\": 4}}, {\"type\": \"scatter\", \"x\": [\"<1416\", \"<1500\", \"<1585\", \"<1651\"], \"y\": [0.07287725020186507, 0.06039842659560969, null, null], \"name\": \"Mortality Rate\", \"line\": {\"color\": \"rgb(205, 12, 24)\", \"width\": 4}}], {\"title\": \"One-Year Mortality Rate By Birth Weight - 3 Oz Bin\", \"xaxis\": {\"title\": \"Weight (grams)\"}, \"yaxis\": {\"title\": \"Average Mortality Rate\"}}, {\"showLink\": true, \"linkText\": \"Export to plot.ly\"})});</script>"
      ],
      "text/vnd.plotly.v1+html": [
       "<div id=\"5dabe206-f8c9-4fc6-98b2-deaef785c611\" style=\"height: 525px; width: 100%;\" class=\"plotly-graph-div\"></div><script type=\"text/javascript\">require([\"plotly\"], function(Plotly) { window.PLOTLYENV=window.PLOTLYENV || {};window.PLOTLYENV.BASE_URL=\"https://plot.ly\";Plotly.newPlot(\"5dabe206-f8c9-4fc6-98b2-deaef785c611\", [{\"type\": \"scatter\", \"x\": [\"<1416\", \"<1500\", \"<1585\", \"<1651\"], \"y\": [null, null, 0.05552622647912817, 0.047815699961811384], \"name\": \"Mortality Rate\", \"line\": {\"color\": \"rgb(205, 12, 24)\", \"width\": 4}}, {\"type\": \"scatter\", \"x\": [\"<1500\", \"<1500\"], \"y\": [0.045, 0.077], \"name\": \"Cut-Off = 1500g\", \"line\": {\"color\": \"rgb(22, 96, 167)\", \"width\": 4}}, {\"type\": \"scatter\", \"x\": [\"<1416\", \"<1500\", \"<1585\", \"<1651\"], \"y\": [0.07287725020186507, 0.06039842659560969, null, null], \"name\": \"Mortality Rate\", \"line\": {\"color\": \"rgb(205, 12, 24)\", \"width\": 4}}], {\"title\": \"One-Year Mortality Rate By Birth Weight - 3 Oz Bin\", \"xaxis\": {\"title\": \"Weight (grams)\"}, \"yaxis\": {\"title\": \"Average Mortality Rate\"}}, {\"showLink\": true, \"linkText\": \"Export to plot.ly\"})});</script>"
      ]
     },
     "metadata": {},
     "output_type": "display_data"
    }
   ],
   "source": [
    "# Plot Mortality vs Birthweight\n",
    "trace_0_data = birth_df[birth_df['bweight'] >= 1500].groupby(\"birth_bins_3_oz\").mean()[\"agedth5\"].values\n",
    "ounces_0 = list(birth_df[birth_df['bweight'] >= 1500].groupby(\"birth_bins_3_oz\").mean()[\"agedth5\"].index)\n",
    "\n",
    "trace_1_data = birth_df[birth_df['bweight'] < 1500].groupby(\"birth_bins_3_oz\").mean()[\"agedth5\"].values\n",
    "ounces_1 = list(birth_df[birth_df['bweight'] < 1500].groupby(\"birth_bins_3_oz\").mean()[\"agedth5\"].index)\n",
    "\n",
    "trace0 = go.Scatter(\n",
    "    x = ounces_0,\n",
    "    y = trace_0_data,\n",
    "    name = 'Mortality Rate',\n",
    "    line = dict(\n",
    "        color = ('rgb(205, 12, 24)'),\n",
    "        width = 4)\n",
    ")\n",
    "\n",
    "trace1 = go.Scatter(\n",
    "x = [\"<1500\",\"<1500\"],\n",
    "y = [0.045, 0.077],\n",
    "name = \"Cut-Off = 1500g\",\n",
    "    line = dict(\n",
    "        color = ('rgb(22, 96, 167)'),\n",
    "        width = 4,))\n",
    "\n",
    "trace2 = go.Scatter(\n",
    "    x = ounces_1,\n",
    "    y = trace_1_data,\n",
    "    name = 'Mortality Rate',\n",
    "    line = dict(\n",
    "        color = ('rgb(205, 12, 24)'),\n",
    "        width = 4)\n",
    ")\n",
    "\n",
    "traces = [trace0, trace1, trace2]\n",
    "\n",
    "layout = dict(title = f'One-Year Mortality Rate By Birth Weight - 3 Oz Bin',\n",
    "              xaxis = dict(title = 'Weight (grams)'),\n",
    "              yaxis = dict(title = f'Average Mortality Rate'))\n",
    "\n",
    "fig = dict(data=traces, layout=layout)\n",
    "\n",
    "iplot(fig, filename='styled-line')"
   ]
  },
  {
   "cell_type": "markdown",
   "metadata": {},
   "source": [
    "# Question 3\n",
    "\n",
    "By looking at the data around the cutoff point, it seems that mothers in both the treatment and control groups exhibit almost identical behaviours. In this manner, there is no evidence to demonstrate the birth weight is maniputable by the mothers.\n",
    "\n",
    "However, more broadly and perhaps outside the scope of this assignment, behaviours like smoking or drinking during a pregnancy can cause major changes in birthweight - in this manner, birthweight would a vector for manipulation."
   ]
  },
  {
   "cell_type": "markdown",
   "metadata": {},
   "source": [
    "# Question 4\n",
    "\n",
    "I selected gestation and prenatal visits as pre-treatment covariates. The plots below show that these two covariates violate the **continuity restriction**.\n",
    "\n",
    "Additional covariates should have little impact on estimates if we have speciﬁed the functional form correctly. Furthermore, the addition of covariates can help improve precision by reducing the standard errors.\n",
    "\n",
    "In this instance, both of these covariates would need to be included in our regressions in order to control for them.\n"
   ]
  },
  {
   "cell_type": "code",
   "execution_count": 10,
   "metadata": {},
   "outputs": [
    {
     "data": {
      "application/vnd.plotly.v1+json": {
       "data": [
        {
         "line": {
          "color": "rgb(205, 12, 24)",
          "width": 4
         },
         "name": "Gestation (Weeks)",
         "type": "scatter",
         "x": [
          "<1386",
          "<1414",
          "<1443",
          "<1471",
          "<1500",
          "<1528",
          "<1556",
          "<1585",
          "<1613",
          "<1651"
         ],
         "y": [
          null,
          null,
          null,
          null,
          null,
          32.13523099030788,
          32.34931908717537,
          32.456587848321234,
          32.62016293279022,
          32.85919997597525
         ]
        },
        {
         "line": {
          "color": "rgb(22, 96, 167)",
          "width": 4
         },
         "name": "Cut-Off = 1500g",
         "type": "scatter",
         "x": [
          "<1500",
          "<1500"
         ],
         "y": [
          30,
          33
         ]
        },
        {
         "line": {
          "color": "rgb(205, 12, 24)",
          "width": 4
         },
         "name": "Gestation (Weeks)",
         "type": "scatter",
         "x": [
          "<1386",
          "<1414",
          "<1443",
          "<1471",
          "<1500",
          "<1528",
          "<1556",
          "<1585",
          "<1613",
          "<1651"
         ],
         "y": [
          31.21498263601786,
          31.399396795475965,
          31.54901140286641,
          31.74574987955124,
          31.89865776338864,
          null,
          null,
          null,
          null,
          null
         ]
        }
       ],
       "layout": {
        "title": "Gestation By Birth Weight - 1 Oz Bin",
        "xaxis": {
         "title": "Weight (grams)"
        },
        "yaxis": {
         "title": "Average Gestation (Weeks)"
        }
       }
      },
      "text/html": [
       "<div id=\"74d38f25-ec70-4231-8a62-d1437f82df93\" style=\"height: 525px; width: 100%;\" class=\"plotly-graph-div\"></div><script type=\"text/javascript\">require([\"plotly\"], function(Plotly) { window.PLOTLYENV=window.PLOTLYENV || {};window.PLOTLYENV.BASE_URL=\"https://plot.ly\";Plotly.newPlot(\"74d38f25-ec70-4231-8a62-d1437f82df93\", [{\"type\": \"scatter\", \"x\": [\"<1386\", \"<1414\", \"<1443\", \"<1471\", \"<1500\", \"<1528\", \"<1556\", \"<1585\", \"<1613\", \"<1651\"], \"y\": [null, null, null, null, null, 32.13523099030788, 32.34931908717537, 32.456587848321234, 32.62016293279022, 32.85919997597525], \"name\": \"Gestation (Weeks)\", \"line\": {\"color\": \"rgb(205, 12, 24)\", \"width\": 4}}, {\"type\": \"scatter\", \"x\": [\"<1500\", \"<1500\"], \"y\": [30, 33], \"name\": \"Cut-Off = 1500g\", \"line\": {\"color\": \"rgb(22, 96, 167)\", \"width\": 4}}, {\"type\": \"scatter\", \"x\": [\"<1386\", \"<1414\", \"<1443\", \"<1471\", \"<1500\", \"<1528\", \"<1556\", \"<1585\", \"<1613\", \"<1651\"], \"y\": [31.21498263601786, 31.399396795475965, 31.54901140286641, 31.74574987955124, 31.89865776338864, null, null, null, null, null], \"name\": \"Gestation (Weeks)\", \"line\": {\"color\": \"rgb(205, 12, 24)\", \"width\": 4}}], {\"title\": \"Gestation By Birth Weight - 1 Oz Bin\", \"xaxis\": {\"title\": \"Weight (grams)\"}, \"yaxis\": {\"title\": \"Average Gestation (Weeks)\"}}, {\"showLink\": true, \"linkText\": \"Export to plot.ly\"})});</script>"
      ],
      "text/vnd.plotly.v1+html": [
       "<div id=\"74d38f25-ec70-4231-8a62-d1437f82df93\" style=\"height: 525px; width: 100%;\" class=\"plotly-graph-div\"></div><script type=\"text/javascript\">require([\"plotly\"], function(Plotly) { window.PLOTLYENV=window.PLOTLYENV || {};window.PLOTLYENV.BASE_URL=\"https://plot.ly\";Plotly.newPlot(\"74d38f25-ec70-4231-8a62-d1437f82df93\", [{\"type\": \"scatter\", \"x\": [\"<1386\", \"<1414\", \"<1443\", \"<1471\", \"<1500\", \"<1528\", \"<1556\", \"<1585\", \"<1613\", \"<1651\"], \"y\": [null, null, null, null, null, 32.13523099030788, 32.34931908717537, 32.456587848321234, 32.62016293279022, 32.85919997597525], \"name\": \"Gestation (Weeks)\", \"line\": {\"color\": \"rgb(205, 12, 24)\", \"width\": 4}}, {\"type\": \"scatter\", \"x\": [\"<1500\", \"<1500\"], \"y\": [30, 33], \"name\": \"Cut-Off = 1500g\", \"line\": {\"color\": \"rgb(22, 96, 167)\", \"width\": 4}}, {\"type\": \"scatter\", \"x\": [\"<1386\", \"<1414\", \"<1443\", \"<1471\", \"<1500\", \"<1528\", \"<1556\", \"<1585\", \"<1613\", \"<1651\"], \"y\": [31.21498263601786, 31.399396795475965, 31.54901140286641, 31.74574987955124, 31.89865776338864, null, null, null, null, null], \"name\": \"Gestation (Weeks)\", \"line\": {\"color\": \"rgb(205, 12, 24)\", \"width\": 4}}], {\"title\": \"Gestation By Birth Weight - 1 Oz Bin\", \"xaxis\": {\"title\": \"Weight (grams)\"}, \"yaxis\": {\"title\": \"Average Gestation (Weeks)\"}}, {\"showLink\": true, \"linkText\": \"Export to plot.ly\"})});</script>"
      ]
     },
     "metadata": {},
     "output_type": "display_data"
    }
   ],
   "source": [
    "# Plot Mothers Education vs Birthweight\n",
    "trace_0_data = birth_df[birth_df['bweight'] >= 1500].groupby(\"birth_bins_1_oz\").mean()[\"gest\"].values\n",
    "ounces_0 = list(birth_df[birth_df['bweight'] >= 1500].groupby(\"birth_bins_1_oz\").mean()[\"gest\"].index)\n",
    "\n",
    "trace_1_data = birth_df[birth_df['bweight'] < 1500].groupby(\"birth_bins_1_oz\").mean()[\"gest\"].values\n",
    "ounces_1 = list(birth_df[birth_df['bweight'] < 1500].groupby(\"birth_bins_1_oz\").mean()[\"gest\"].index)\n",
    "\n",
    "trace0 = go.Scatter(\n",
    "    x = ounces_0,\n",
    "    y = trace_0_data,\n",
    "    name = 'Gestation (Weeks)',\n",
    "    line = dict(\n",
    "        color = ('rgb(205, 12, 24)'),\n",
    "        width = 4)\n",
    ")\n",
    "\n",
    "trace1 = go.Scatter(\n",
    "x = [\"<1500\",\"<1500\"],\n",
    "y = [30, 33],\n",
    "name = \"Cut-Off = 1500g\",\n",
    "    line = dict(\n",
    "        color = ('rgb(22, 96, 167)'),\n",
    "        width = 4,))\n",
    "\n",
    "trace2 = go.Scatter(\n",
    "    x = ounces_1,\n",
    "    y = trace_1_data,\n",
    "    name = 'Gestation (Weeks)',\n",
    "    line = dict(\n",
    "        color = ('rgb(205, 12, 24)'),\n",
    "        width = 4)\n",
    ")\n",
    "\n",
    "traces = [trace0, trace1, trace2]\n",
    "\n",
    "layout = dict(title = f'Gestation By Birth Weight - 1 Oz Bin',\n",
    "              xaxis = dict(title = 'Weight (grams)'),\n",
    "              yaxis = dict(title = f'Average Gestation (Weeks)'))\n",
    "\n",
    "fig = dict(data=traces, layout=layout)\n",
    "\n",
    "iplot(fig, filename='styled-line')"
   ]
  },
  {
   "cell_type": "code",
   "execution_count": 11,
   "metadata": {},
   "outputs": [
    {
     "data": {
      "application/vnd.plotly.v1+json": {
       "data": [
        {
         "line": {
          "color": "rgb(205, 12, 24)",
          "width": 4
         },
         "name": "Average Prenatal Visits",
         "type": "scatter",
         "x": [
          "<1386",
          "<1414",
          "<1443",
          "<1471",
          "<1500",
          "<1528",
          "<1556",
          "<1585",
          "<1613",
          "<1651"
         ],
         "y": [
          null,
          null,
          null,
          null,
          null,
          8.9150314582944,
          9.076392805665225,
          9.107787454247129,
          9.07861678066327,
          9.244081918112295
         ]
        },
        {
         "line": {
          "color": "rgb(22, 96, 167)",
          "width": 4
         },
         "name": "Cut-Off = 1500g",
         "type": "scatter",
         "x": [
          "<1500",
          "<1500"
         ],
         "y": [
          8,
          10
         ]
        },
        {
         "line": {
          "color": "rgb(205, 12, 24)",
          "width": 4
         },
         "name": "Average Prenatal Visits",
         "type": "scatter",
         "x": [
          "<1386",
          "<1414",
          "<1443",
          "<1471",
          "<1500",
          "<1528",
          "<1556",
          "<1585",
          "<1613",
          "<1651"
         ],
         "y": [
          8.3925468755241,
          8.64038806768267,
          8.740576027107158,
          8.822467823167319,
          8.910050388124745,
          null,
          null,
          null,
          null,
          null
         ]
        }
       ],
       "layout": {
        "title": "Prenatal Visits By Birth Weight - 1 Oz Bin",
        "xaxis": {
         "title": "Weight (grams)"
        },
        "yaxis": {
         "title": "Average Visits"
        }
       }
      },
      "text/html": [
       "<div id=\"30e9ae47-e9e0-4aaf-8bbf-7de46a1d95e5\" style=\"height: 525px; width: 100%;\" class=\"plotly-graph-div\"></div><script type=\"text/javascript\">require([\"plotly\"], function(Plotly) { window.PLOTLYENV=window.PLOTLYENV || {};window.PLOTLYENV.BASE_URL=\"https://plot.ly\";Plotly.newPlot(\"30e9ae47-e9e0-4aaf-8bbf-7de46a1d95e5\", [{\"type\": \"scatter\", \"x\": [\"<1386\", \"<1414\", \"<1443\", \"<1471\", \"<1500\", \"<1528\", \"<1556\", \"<1585\", \"<1613\", \"<1651\"], \"y\": [null, null, null, null, null, 8.9150314582944, 9.076392805665225, 9.107787454247129, 9.07861678066327, 9.244081918112295], \"name\": \"Average Prenatal Visits\", \"line\": {\"color\": \"rgb(205, 12, 24)\", \"width\": 4}}, {\"type\": \"scatter\", \"x\": [\"<1500\", \"<1500\"], \"y\": [8, 10], \"name\": \"Cut-Off = 1500g\", \"line\": {\"color\": \"rgb(22, 96, 167)\", \"width\": 4}}, {\"type\": \"scatter\", \"x\": [\"<1386\", \"<1414\", \"<1443\", \"<1471\", \"<1500\", \"<1528\", \"<1556\", \"<1585\", \"<1613\", \"<1651\"], \"y\": [8.3925468755241, 8.64038806768267, 8.740576027107158, 8.822467823167319, 8.910050388124745, null, null, null, null, null], \"name\": \"Average Prenatal Visits\", \"line\": {\"color\": \"rgb(205, 12, 24)\", \"width\": 4}}], {\"title\": \"Prenatal Visits By Birth Weight - 1 Oz Bin\", \"xaxis\": {\"title\": \"Weight (grams)\"}, \"yaxis\": {\"title\": \"Average Visits\"}}, {\"showLink\": true, \"linkText\": \"Export to plot.ly\"})});</script>"
      ],
      "text/vnd.plotly.v1+html": [
       "<div id=\"30e9ae47-e9e0-4aaf-8bbf-7de46a1d95e5\" style=\"height: 525px; width: 100%;\" class=\"plotly-graph-div\"></div><script type=\"text/javascript\">require([\"plotly\"], function(Plotly) { window.PLOTLYENV=window.PLOTLYENV || {};window.PLOTLYENV.BASE_URL=\"https://plot.ly\";Plotly.newPlot(\"30e9ae47-e9e0-4aaf-8bbf-7de46a1d95e5\", [{\"type\": \"scatter\", \"x\": [\"<1386\", \"<1414\", \"<1443\", \"<1471\", \"<1500\", \"<1528\", \"<1556\", \"<1585\", \"<1613\", \"<1651\"], \"y\": [null, null, null, null, null, 8.9150314582944, 9.076392805665225, 9.107787454247129, 9.07861678066327, 9.244081918112295], \"name\": \"Average Prenatal Visits\", \"line\": {\"color\": \"rgb(205, 12, 24)\", \"width\": 4}}, {\"type\": \"scatter\", \"x\": [\"<1500\", \"<1500\"], \"y\": [8, 10], \"name\": \"Cut-Off = 1500g\", \"line\": {\"color\": \"rgb(22, 96, 167)\", \"width\": 4}}, {\"type\": \"scatter\", \"x\": [\"<1386\", \"<1414\", \"<1443\", \"<1471\", \"<1500\", \"<1528\", \"<1556\", \"<1585\", \"<1613\", \"<1651\"], \"y\": [8.3925468755241, 8.64038806768267, 8.740576027107158, 8.822467823167319, 8.910050388124745, null, null, null, null, null], \"name\": \"Average Prenatal Visits\", \"line\": {\"color\": \"rgb(205, 12, 24)\", \"width\": 4}}], {\"title\": \"Prenatal Visits By Birth Weight - 1 Oz Bin\", \"xaxis\": {\"title\": \"Weight (grams)\"}, \"yaxis\": {\"title\": \"Average Visits\"}}, {\"showLink\": true, \"linkText\": \"Export to plot.ly\"})});</script>"
      ]
     },
     "metadata": {},
     "output_type": "display_data"
    }
   ],
   "source": [
    "# Plot Mothers Education vs Birthweight\n",
    "trace_0_data = birth_df[birth_df['bweight'] >= 1500].groupby(\"birth_bins_1_oz\").mean()[\"nprenatal\"].values\n",
    "ounces_0 = list(birth_df[birth_df['bweight'] >= 1500].groupby(\"birth_bins_1_oz\").mean()[\"nprenatal\"].index)\n",
    "\n",
    "trace_1_data = birth_df[birth_df['bweight'] < 1500].groupby(\"birth_bins_1_oz\").mean()[\"nprenatal\"].values\n",
    "ounces_1 = list(birth_df[birth_df['bweight'] < 1500].groupby(\"birth_bins_1_oz\").mean()[\"nprenatal\"].index)\n",
    "\n",
    "trace0 = go.Scatter(\n",
    "    x = ounces_0,\n",
    "    y = trace_0_data,\n",
    "    name = 'Average Prenatal Visits',\n",
    "    line = dict(\n",
    "        color = ('rgb(205, 12, 24)'),\n",
    "        width = 4)\n",
    ")\n",
    "\n",
    "trace1 = go.Scatter(\n",
    "x = [\"<1500\",\"<1500\"],\n",
    "y = [8, 10],\n",
    "name = \"Cut-Off = 1500g\",\n",
    "    line = dict(\n",
    "        color = ('rgb(22, 96, 167)'),\n",
    "        width = 4,))\n",
    "\n",
    "trace2 = go.Scatter(\n",
    "    x = ounces_1,\n",
    "    y = trace_1_data,\n",
    "    name = 'Average Prenatal Visits',\n",
    "    line = dict(\n",
    "        color = ('rgb(205, 12, 24)'),\n",
    "        width = 4)\n",
    ")\n",
    "\n",
    "traces = [trace0, trace1, trace2]\n",
    "\n",
    "layout = dict(title = f'Prenatal Visits By Birth Weight - 1 Oz Bin',\n",
    "              xaxis = dict(title = 'Weight (grams)'),\n",
    "              yaxis = dict(title = f'Average Visits'))\n",
    "\n",
    "fig = dict(data=traces, layout=layout)\n",
    "\n",
    "iplot(fig, filename='styled-line')"
   ]
  },
  {
   "cell_type": "markdown",
   "metadata": {
    "collapsed": true
   },
   "source": [
    "# Question 5\n",
    "\n",
    "The regression is of the following form:\n",
    "\n",
    "$Y_i = \\alpha_0 + \\alpha_1 Treatment + \\alpha_2 BirthWeight + \\epsilon$\n",
    "\n",
    "- $\\alpha_1$ represents the effect of the treatment\n",
    "\n",
    "\n",
    "- $\\alpha_2$ represents the slope for **both** of the lines in the RDD.\n",
    "\n",
    "From the regression out below we see that $\\alpha_1 = -0.0071$ and $\\alpha_2 = -0.0001$"
   ]
  },
  {
   "cell_type": "code",
   "execution_count": 12,
   "metadata": {},
   "outputs": [
    {
     "name": "stdout",
     "output_type": "stream",
     "text": [
      "                  Results: Ordinary least squares\n",
      "====================================================================\n",
      "Model:              OLS              Adj. R-squared:     0.002      \n",
      "Dependent Variable: agedth5          AIC:                -30565.6421\n",
      "Date:               2018-03-07 14:10 BIC:                -30533.1268\n",
      "No. Observations:   376408           Log-Likelihood:     15286.     \n",
      "Df Model:           2                F-statistic:        290.2      \n",
      "Df Residuals:       376405           Prob (F-statistic): 1.13e-126  \n",
      "R-squared:          0.002            Scale:              0.053983   \n",
      "----------------------------------------------------------------------\n",
      "             Coef.    Std.Err.      t       P>|t|     [0.025    0.975]\n",
      "----------------------------------------------------------------------\n",
      "const        0.2637     0.0133    19.8477   0.0000    0.2377    0.2898\n",
      "treatment   -0.0071     0.0015    -4.6814   0.0000   -0.0101   -0.0041\n",
      "bweight     -0.0001     0.0000   -15.9791   0.0000   -0.0002   -0.0001\n",
      "--------------------------------------------------------------------\n",
      "Omnibus:            283685.063     Durbin-Watson:        0.004      \n",
      "Prob(Omnibus):      0.000          Jarque-Bera (JB):     3339214.129\n",
      "Skew:               3.799          Prob(JB):             0.000      \n",
      "Kurtosis:           15.458         Condition No.:        53398      \n",
      "====================================================================\n",
      "* The condition number is large (5e+04). This might indicate\n",
      "strong multicollinearity or other numerical problems.\n"
     ]
    }
   ],
   "source": [
    "birth_df['const'] = 1\n",
    "\n",
    "FEATURES = ['const', \"treatment\", \"bweight\"]\n",
    "\n",
    "model_1 = sm.OLS(birth_df['agedth5'], birth_df[FEATURES], missing=\"drop\")\n",
    "results_1 = model_1.fit()\n",
    "print(results_1.summary2())"
   ]
  },
  {
   "cell_type": "markdown",
   "metadata": {
    "collapsed": true
   },
   "source": [
    "# Question 6\n",
    "\n",
    "The regression is of the following form:\n",
    "\n",
    "$Y_i = \\alpha_0 + \\alpha_1 Treatment + \\alpha_2 Treatment(BirthWeight-1500) + \\alpha_3(1-Treatment)(BirthWeight - 1500) + \\epsilon$\n",
    "\n",
    "- $\\alpha_1$ represents the effect of the treatment\n",
    "\n",
    "\n",
    "- $\\alpha_2$ represents the slope of the regression line for those in the treatment group.\n",
    "\n",
    "\n",
    "- $\\alpha_3$ represents the slope of the regression line for those in the control group\n",
    "\n",
    "**Note:** \n",
    "\n",
    "- `treatment` $=\\alpha_1$\n",
    "\n",
    "\n",
    "- `treat_bweight_1500` $=\\alpha_2$\n",
    "\n",
    "\n",
    "- `no_treat_bweight_1500` $=\\alpha_3$"
   ]
  },
  {
   "cell_type": "code",
   "execution_count": 13,
   "metadata": {},
   "outputs": [
    {
     "name": "stdout",
     "output_type": "stream",
     "text": [
      "                   Results: Ordinary least squares\n",
      "=====================================================================\n",
      "Model:                OLS              Adj. R-squared:     0.000     \n",
      "Dependent Variable:   agedth5          AIC:                -8121.4335\n",
      "Date:                 2018-03-07 14:10 BIC:                -8082.9455\n",
      "No. Observations:     111525           Log-Likelihood:     4064.7    \n",
      "Df Model:             3                F-statistic:        16.55     \n",
      "Df Residuals:         111521           Prob (F-statistic): 9.53e-11  \n",
      "R-squared:            0.000            Scale:              0.054436  \n",
      "---------------------------------------------------------------------\n",
      "                       Coef.  Std.Err.    t    P>|t|   [0.025  0.975]\n",
      "---------------------------------------------------------------------\n",
      "const                  0.0651   0.0014 45.5202 0.0000  0.0623  0.0679\n",
      "treatment             -0.0168   0.0036 -4.6053 0.0000 -0.0240 -0.0097\n",
      "treat_bweight_1500    -0.0003   0.0001 -2.9432 0.0032 -0.0006 -0.0001\n",
      "no_treat_bweight_1500 -0.0004   0.0001 -6.3984 0.0000 -0.0005 -0.0003\n",
      "---------------------------------------------------------------------\n",
      "Omnibus:             83817.088      Durbin-Watson:         0.006     \n",
      "Prob(Omnibus):       0.000          Jarque-Bera (JB):      975573.948\n",
      "Skew:                3.787          Prob(JB):              0.000     \n",
      "Kurtosis:            15.352         Condition No.:         104       \n",
      "=====================================================================\n",
      "\n"
     ]
    }
   ],
   "source": [
    "birth_df['bweight_1500'] = birth_df['bweight'] - 1500\n",
    "birth_df['treat_bweight_1500'] = birth_df['bweight_1500'] * birth_df['treatment']\n",
    "birth_df['no_treatment'] = 1 - birth_df['treatment']\n",
    "birth_df['no_treat_bweight_1500'] = birth_df['bweight_1500'] * birth_df['no_treatment']\n",
    "\n",
    "FEATURES = [\"const\",\"treatment\",\"treat_bweight_1500\", \"no_treat_bweight_1500\"]\n",
    "\n",
    "caliper_50 = birth_df[(birth_df['bweight'] >= 1450) & (birth_df['bweight'] <= 1550)]\n",
    "\n",
    "model_2 = sm.OLS(caliper_50['agedth5'], caliper_50[FEATURES], missing=\"drop\")\n",
    "results_2 = model_2.fit()\n",
    "print(results_2.summary2())"
   ]
  },
  {
   "cell_type": "markdown",
   "metadata": {},
   "source": [
    "# Question 7\n",
    "\n",
    "Please see the comparison table below.\n",
    "\n",
    "The wider the caliper, the larger the treatment effect (less negative) becomes.\n",
    "\n",
    "This is because the wider our caliper, the more opportunity for confoudning variables to influence our estimate.\n",
    "\n",
    "In general, we would like our caliper to be as small as possible so as to ensure that we are really looking at datapoints close to the cut off point. After all, this is the entire intuition behind the RDD design.\n",
    "\n",
    "While the 30g caliper provides the smallest, window of observation, I would say that this should be the caliper of choice.\n",
    "\n",
    "However, the 100g caliper has a lower standard error - although, not much smaller than 30g."
   ]
  },
  {
   "cell_type": "code",
   "execution_count": 14,
   "metadata": {},
   "outputs": [
    {
     "name": "stdout",
     "output_type": "stream",
     "text": [
      "                     OLS Regressions\n",
      "==========================================================\n",
      "                      30g Caliper 50g Caliper 100g Caliper\n",
      "----------------------------------------------------------\n",
      "const                 0.0674***   0.0651***   0.0604***   \n",
      "                      (0.0016)    (0.0014)    (0.0011)    \n",
      "treatment             -0.0214***  -0.0168***  -0.0076***  \n",
      "                      (0.0052)    (0.0036)    (0.0020)    \n",
      "treat_bweight_1500    -0.0005**   -0.0003***  -0.0002***  \n",
      "                      (0.0002)    (0.0001)    (0.0000)    \n",
      "no_treat_bweight_1500 -0.0009***  -0.0004***  -0.0001***  \n",
      "                      (0.0001)    (0.0001)    (0.0000)    \n",
      "==========================================================\n",
      "Standard errors in parentheses.\n",
      "* p<.1, ** p<.05, ***p<.01\n"
     ]
    }
   ],
   "source": [
    "caliper_30 = birth_df[(birth_df['bweight'] >= 1470) & (birth_df['bweight'] <= 1530)]\n",
    "\n",
    "model_3 = sm.OLS(caliper_30['agedth5'], caliper_30[FEATURES], missing=\"drop\")\n",
    "results_3 = model_3.fit()\n",
    "\n",
    "caliper_100 = birth_df[(birth_df['bweight'] >= 1400) & (birth_df['bweight'] <= 1600)]\n",
    "\n",
    "model_4 = sm.OLS(caliper_100['agedth5'], caliper_100[FEATURES], missing=\"drop\")\n",
    "results_4 = model_4.fit()\n",
    "\n",
    "results_table = summary_col(results=[results_3,results_2,results_4],\n",
    "                            float_format='%0.4f',\n",
    "                            stars = True,\n",
    "                            model_names=['30g Caliper',\n",
    "                                         '50g Caliper',\n",
    "                                         '100g Caliper'])\n",
    "results_table.add_title('OLS Regressions')\n",
    "\n",
    "print(results_table)"
   ]
  },
  {
   "cell_type": "markdown",
   "metadata": {},
   "source": [
    "# Part II\n",
    "\n",
    "# Question 1\n",
    "\n",
    "We have the following:\n",
    "\n",
    "- 798 Never Takers ->  $Z=1, D=0$\n",
    "\n",
    "\n",
    "- 581 compliers -> $Z = 1, D=1$\n",
    "\n",
    "\n",
    "- 1097 never-takers/compliers -> $Z = 0, D=0$\n",
    "\n",
    "\n",
    "- No Defiers observed\n",
    "\n",
    "\n",
    "- No Always Takers Observed"
   ]
  },
  {
   "cell_type": "code",
   "execution_count": 15,
   "metadata": {},
   "outputs": [
    {
     "data": {
      "text/html": [
       "<div>\n",
       "<style scoped>\n",
       "    .dataframe tbody tr th:only-of-type {\n",
       "        vertical-align: middle;\n",
       "    }\n",
       "\n",
       "    .dataframe tbody tr th {\n",
       "        vertical-align: top;\n",
       "    }\n",
       "\n",
       "    .dataframe thead th {\n",
       "        text-align: right;\n",
       "    }\n",
       "</style>\n",
       "<table border=\"1\" class=\"dataframe\">\n",
       "  <thead>\n",
       "    <tr style=\"text-align: right;\">\n",
       "      <th>treated</th>\n",
       "      <th>0.0</th>\n",
       "      <th>1.0</th>\n",
       "    </tr>\n",
       "    <tr>\n",
       "      <th>assignment</th>\n",
       "      <th></th>\n",
       "      <th></th>\n",
       "    </tr>\n",
       "  </thead>\n",
       "  <tbody>\n",
       "    <tr>\n",
       "      <th>0.0</th>\n",
       "      <td>1097</td>\n",
       "      <td>0</td>\n",
       "    </tr>\n",
       "    <tr>\n",
       "      <th>1.0</th>\n",
       "      <td>798</td>\n",
       "      <td>581</td>\n",
       "    </tr>\n",
       "  </tbody>\n",
       "</table>\n",
       "</div>"
      ],
      "text/plain": [
       "treated      0.0  1.0\n",
       "assignment           \n",
       "0.0         1097    0\n",
       "1.0          798  581"
      ]
     },
     "execution_count": 15,
     "metadata": {},
     "output_type": "execute_result"
    }
   ],
   "source": [
    "mto_df = pd.read_stata(\"MTO_DT_subset.dta\")\n",
    "pd.crosstab(index=mto_df[\"assignment\"],  # Make a crosstab\n",
    "                              columns=mto_df[\"treated\"])"
   ]
  },
  {
   "cell_type": "markdown",
   "metadata": {},
   "source": [
    "# Question 2\n",
    "\n",
    "I would not interpret my estimate as a causal effect as there seems to be some selection on non-observables.\n",
    "\n",
    "Through treatment alone, we do not see a statistically significant impact on outcome."
   ]
  },
  {
   "cell_type": "code",
   "execution_count": 16,
   "metadata": {
    "collapsed": true
   },
   "outputs": [],
   "source": [
    "def encode(x):\n",
    "    if x[0] == \"0\":\n",
    "        return 0\n",
    "    else:\n",
    "        return 1"
   ]
  },
  {
   "cell_type": "code",
   "execution_count": 17,
   "metadata": {},
   "outputs": [
    {
     "name": "stdout",
     "output_type": "stream",
     "text": [
      "                 Results: Ordinary least squares\n",
      "==================================================================\n",
      "Model:              OLS              Adj. R-squared:     -0.000   \n",
      "Dependent Variable: diabetes         AIC:                3402.4611\n",
      "Date:               2018-03-07 14:10 BIC:                3414.0899\n",
      "No. Observations:   2476             Log-Likelihood:     -1699.2  \n",
      "Df Model:           1                F-statistic:        0.2960   \n",
      "Df Residuals:       2474             Prob (F-statistic): 0.586    \n",
      "R-squared:          0.000            Scale:              0.23119  \n",
      "--------------------------------------------------------------------\n",
      "             Coef.    Std.Err.      t      P>|t|     [0.025   0.975]\n",
      "--------------------------------------------------------------------\n",
      "const        0.3594     0.0110   32.5354   0.0000    0.3377   0.3810\n",
      "treated      0.0124     0.0228    0.5441   0.5864   -0.0323   0.0571\n",
      "------------------------------------------------------------------\n",
      "Omnibus:             118.537       Durbin-Watson:          1.953  \n",
      "Prob(Omnibus):       0.000         Jarque-Bera (JB):       423.605\n",
      "Skew:                0.573         Prob(JB):               0.000  \n",
      "Kurtosis:            1.329         Condition No.:          3      \n",
      "==================================================================\n",
      "\n"
     ]
    }
   ],
   "source": [
    "mto_df['diabetes'] = mto_df['diabetes'].apply(lambda x: encode(x)).astype(\"float64\")\n",
    "mto_df['const'] = 1\n",
    "\n",
    "FEATURES = ['const', \"treated\"]\n",
    "\n",
    "model_1 = sm.OLS(mto_df['diabetes'], mto_df[FEATURES], missing=\"drop\")\n",
    "results_1 = model_1.fit()\n",
    "print(results_1.summary2())"
   ]
  },
  {
   "cell_type": "markdown",
   "metadata": {},
   "source": [
    "# Question 3\n",
    "\n",
    "Here are the 3 rules that should hold for IV Estimates:\n",
    "\n",
    "- The instrument Z should be independent of U. Where U is the error term.\n",
    "\n",
    "\n",
    "- The instrument Z should not affect Y when X is held constant **(exclusion restriction)**.\n",
    "\n",
    "\n",
    "- The instrument Z should **not** be independent of X.\n",
    "\n",
    "I would say that by looking at the table below, we have selected a suitable instrument.\n",
    "\n",
    "This is because Z (assignment) was randomly assigned, in addition to Z (assignment) having no direct effect on outcomes (diabetes)."
   ]
  },
  {
   "cell_type": "code",
   "execution_count": 18,
   "metadata": {},
   "outputs": [
    {
     "data": {
      "text/html": [
       "<div>\n",
       "<style scoped>\n",
       "    .dataframe tbody tr th:only-of-type {\n",
       "        vertical-align: middle;\n",
       "    }\n",
       "\n",
       "    .dataframe tbody tr th {\n",
       "        vertical-align: top;\n",
       "    }\n",
       "\n",
       "    .dataframe thead th {\n",
       "        text-align: right;\n",
       "    }\n",
       "</style>\n",
       "<table border=\"1\" class=\"dataframe\">\n",
       "  <thead>\n",
       "    <tr style=\"text-align: right;\">\n",
       "      <th></th>\n",
       "      <th>diabetes</th>\n",
       "      <th>assignment</th>\n",
       "      <th>treated</th>\n",
       "    </tr>\n",
       "  </thead>\n",
       "  <tbody>\n",
       "    <tr>\n",
       "      <th>diabetes</th>\n",
       "      <td>1.000000</td>\n",
       "      <td>-0.011132</td>\n",
       "      <td>0.010938</td>\n",
       "    </tr>\n",
       "    <tr>\n",
       "      <th>assignment</th>\n",
       "      <td>-0.011132</td>\n",
       "      <td>1.000000</td>\n",
       "      <td>0.493861</td>\n",
       "    </tr>\n",
       "    <tr>\n",
       "      <th>treated</th>\n",
       "      <td>0.010938</td>\n",
       "      <td>0.493861</td>\n",
       "      <td>1.000000</td>\n",
       "    </tr>\n",
       "  </tbody>\n",
       "</table>\n",
       "</div>"
      ],
      "text/plain": [
       "            diabetes  assignment   treated\n",
       "diabetes    1.000000   -0.011132  0.010938\n",
       "assignment -0.011132    1.000000  0.493861\n",
       "treated     0.010938    0.493861  1.000000"
      ]
     },
     "execution_count": 18,
     "metadata": {},
     "output_type": "execute_result"
    }
   ],
   "source": [
    "#correlation of outcome, instrument and endogenous regressor\n",
    "mto_df[[\"diabetes\", \"assignment\", \"treated\"]].corr()"
   ]
  },
  {
   "cell_type": "markdown",
   "metadata": {},
   "source": [
    "# Question 4\n",
    "\n",
    "The exclusion restriction is as follows:\n",
    "\n",
    "- The instrument (assignment) should not affect Y (diabetes) when X (treated) is held constant.\n",
    "\n",
    "A violation of this condition would be is assignment was bases on having diabetes.\n",
    "\n",
    "The regression below shows a coefficient very close to 0 in addition to be statistically **insignificant**. This regression confirms that assignment is a suitable IV."
   ]
  },
  {
   "cell_type": "code",
   "execution_count": 19,
   "metadata": {},
   "outputs": [
    {
     "name": "stdout",
     "output_type": "stream",
     "text": [
      "                 Results: Ordinary least squares\n",
      "==================================================================\n",
      "Model:              OLS              Adj. R-squared:     -0.000   \n",
      "Dependent Variable: diabetes         AIC:                3402.4505\n",
      "Date:               2018-03-07 14:10 BIC:                3414.0793\n",
      "No. Observations:   2476             Log-Likelihood:     -1699.2  \n",
      "Df Model:           1                F-statistic:        0.3066   \n",
      "Df Residuals:       2474             Prob (F-statistic): 0.580    \n",
      "R-squared:          0.000            Scale:              0.23119  \n",
      "-------------------------------------------------------------------\n",
      "                 Coef.   Std.Err.     t     P>|t|    [0.025  0.975]\n",
      "-------------------------------------------------------------------\n",
      "const            0.3683    0.0145  25.3684  0.0000   0.3398  0.3967\n",
      "assignment      -0.0108    0.0195  -0.5537  0.5798  -0.0489  0.0274\n",
      "------------------------------------------------------------------\n",
      "Omnibus:             118.535       Durbin-Watson:          1.953  \n",
      "Prob(Omnibus):       0.000         Jarque-Bera (JB):       423.599\n",
      "Skew:                0.573         Prob(JB):               0.000  \n",
      "Kurtosis:            1.329         Condition No.:          3      \n",
      "==================================================================\n",
      "\n"
     ]
    }
   ],
   "source": [
    "FEATURES = ['const', \"assignment\"]\n",
    "\n",
    "model_2 = sm.OLS(mto_df['diabetes'], mto_df[FEATURES], missing=\"drop\")\n",
    "results_2 = model_2.fit()\n",
    "print(results_2.summary2())"
   ]
  },
  {
   "cell_type": "markdown",
   "metadata": {},
   "source": [
    "# Question 5\n",
    "\n",
    "The wald estimate is approx $-0.026$.\n",
    "\n",
    "This has a different sign compared to the regression we ran in Question 2.\n",
    "\n",
    "In this our estimate the the ratio of the mean difference between assignment and no-assingment to the mean difference between treated and not treated."
   ]
  },
  {
   "cell_type": "code",
   "execution_count": 20,
   "metadata": {},
   "outputs": [
    {
     "data": {
      "text/plain": [
       "-0.025566519234902902"
      ]
     },
     "execution_count": 20,
     "metadata": {},
     "output_type": "execute_result"
    }
   ],
   "source": [
    "Y_Bar_Z_1 = mto_df[mto_df['assignment'] == 1]['diabetes'].mean()\n",
    "\n",
    "Y_Bar_Z_0 = mto_df[mto_df['assignment'] == 0]['diabetes'].mean()\n",
    "\n",
    "D_Bar_Z_1 = mto_df[mto_df['assignment'] == 1][\"treated\"].mean()\n",
    "\n",
    "D_Bar_Z_0 = mto_df[mto_df['assignment'] == 0]['treated'].mean()\n",
    "\n",
    "wald_estimate = (Y_Bar_Z_1 - Y_Bar_Z_0)/(D_Bar_Z_1 - D_Bar_Z_0)\n",
    "\n",
    "wald_estimate"
   ]
  },
  {
   "cell_type": "code",
   "execution_count": 21,
   "metadata": {},
   "outputs": [
    {
     "data": {
      "text/html": [
       "<div>\n",
       "<style scoped>\n",
       "    .dataframe tbody tr th:only-of-type {\n",
       "        vertical-align: middle;\n",
       "    }\n",
       "\n",
       "    .dataframe tbody tr th {\n",
       "        vertical-align: top;\n",
       "    }\n",
       "\n",
       "    .dataframe thead th {\n",
       "        text-align: right;\n",
       "    }\n",
       "</style>\n",
       "<table border=\"1\" class=\"dataframe\">\n",
       "  <thead>\n",
       "    <tr style=\"text-align: right;\">\n",
       "      <th></th>\n",
       "      <th>diabetes</th>\n",
       "      <th>treated</th>\n",
       "    </tr>\n",
       "    <tr>\n",
       "      <th>assignment</th>\n",
       "      <th></th>\n",
       "      <th></th>\n",
       "    </tr>\n",
       "  </thead>\n",
       "  <tbody>\n",
       "    <tr>\n",
       "      <th>0.0</th>\n",
       "      <td>0.368277</td>\n",
       "      <td>0.00000</td>\n",
       "    </tr>\n",
       "    <tr>\n",
       "      <th>1.0</th>\n",
       "      <td>0.357505</td>\n",
       "      <td>0.42132</td>\n",
       "    </tr>\n",
       "  </tbody>\n",
       "</table>\n",
       "</div>"
      ],
      "text/plain": [
       "            diabetes  treated\n",
       "assignment                   \n",
       "0.0         0.368277  0.00000\n",
       "1.0         0.357505  0.42132"
      ]
     },
     "execution_count": 21,
     "metadata": {},
     "output_type": "execute_result"
    }
   ],
   "source": [
    "# Mean values grouped by assignment.\n",
    "mto_df.groupby(\"assignment\").mean()[['diabetes','treated']]"
   ]
  },
  {
   "cell_type": "markdown",
   "metadata": {},
   "source": [
    "# Question 6\n",
    "\n",
    "In order to select the appropriate covariates, I ran individual regressions on `treated`. I have ommitted to the regression outputs for brevity. I have only included the outputs for the 2 covariates I chose.\n",
    "\n",
    "I chose 2 co-variates that have a statistically significant relationship with `treated`.\n",
    "\n",
    "These covariates are:\n",
    "\n",
    "- `hispanic`\n",
    "\n",
    "- `absence_mental_probs_z`\n",
    "\n",
    "\n",
    "These are the two covariates that I will be including in 2SLS.\n",
    "\n",
    "We can see that the instrument is strong in stage 1 as these is statistical significance!\n",
    "\n",
    "Using Manual 2SLS, I obtained an estimate of $-0.0273$.\n",
    "\n",
    "This is essentially the same as the manual calculation of the WALD LATE estimate in question 5.\n",
    "\n",
    "**Note:** that while our parameter estimates are correct, our standard errors are not and for this reason, computing 2SLS \"manually\" (in stages with OLS) is not recommended. We will remedy this in Question 7."
   ]
  },
  {
   "cell_type": "code",
   "execution_count": 22,
   "metadata": {
    "collapsed": true
   },
   "outputs": [],
   "source": [
    "# need to encode categorical columns with 1's and 0's\n",
    "for col in mto_df.select_dtypes(include=['category']).columns:\n",
    "    mto_df[col] = mto_df[col].apply(lambda x: encode(x)).astype(\"float64\")"
   ]
  },
  {
   "cell_type": "code",
   "execution_count": 23,
   "metadata": {
    "scrolled": true
   },
   "outputs": [
    {
     "name": "stdout",
     "output_type": "stream",
     "text": [
      "                 Results: Ordinary least squares\n",
      "==================================================================\n",
      "Model:              OLS              Adj. R-squared:     0.003    \n",
      "Dependent Variable: treated          AIC:                2770.7845\n",
      "Date:               2018-03-07 14:10 BIC:                2782.4133\n",
      "No. Observations:   2476             Log-Likelihood:     -1383.4  \n",
      "Df Model:           1                F-statistic:        8.330    \n",
      "Df Residuals:       2474             Prob (F-statistic): 0.00393  \n",
      "R-squared:          0.003            Scale:              0.17913  \n",
      "--------------------------------------------------------------------\n",
      "            Coef.    Std.Err.      t      P>|t|     [0.025    0.975]\n",
      "--------------------------------------------------------------------\n",
      "const       0.2534     0.0107   23.6956   0.0000    0.2324    0.2743\n",
      "hispanic   -0.0509     0.0176   -2.8862   0.0039   -0.0855   -0.0163\n",
      "------------------------------------------------------------------\n",
      "Omnibus:             436.537       Durbin-Watson:          1.515  \n",
      "Prob(Omnibus):       0.000         Jarque-Bera (JB):       659.445\n",
      "Skew:                1.246         Prob(JB):               0.000  \n",
      "Kurtosis:            2.570         Condition No.:          2      \n",
      "==================================================================\n",
      "\n",
      "\n",
      "                  Results: Ordinary least squares\n",
      "===================================================================\n",
      "Model:               OLS              Adj. R-squared:     0.002    \n",
      "Dependent Variable:  treated          AIC:                2772.4380\n",
      "Date:                2018-03-07 14:10 BIC:                2784.0668\n",
      "No. Observations:    2476             Log-Likelihood:     -1384.2  \n",
      "Df Model:            1                F-statistic:        6.673    \n",
      "Df Residuals:        2474             Prob (F-statistic): 0.00985  \n",
      "R-squared:           0.003            Scale:              0.17925  \n",
      "-------------------------------------------------------------------\n",
      "                       Coef.  Std.Err.    t    P>|t|  [0.025 0.975]\n",
      "-------------------------------------------------------------------\n",
      "const                  0.2336   0.0085 27.4203 0.0000 0.2169 0.2503\n",
      "absence_mental_probs_z 0.0222   0.0086  2.5832 0.0098 0.0054 0.0391\n",
      "-------------------------------------------------------------------\n",
      "Omnibus:              437.118       Durbin-Watson:          1.515  \n",
      "Prob(Omnibus):        0.000         Jarque-Bera (JB):       660.820\n",
      "Skew:                 1.247         Prob(JB):               0.000  \n",
      "Kurtosis:             2.570         Condition No.:          1      \n",
      "===================================================================\n",
      "\n",
      "\n"
     ]
    }
   ],
   "source": [
    "# 2 individual regressions\n",
    "\n",
    "model = sm.OLS(mto_df['treated'], mto_df[[\"const\",\"hispanic\"]], missing=\"drop\")\n",
    "results = model.fit()\n",
    "print(results.summary2())\n",
    "print()\n",
    "\n",
    "model = sm.OLS(mto_df['treated'], mto_df[[\"const\",\"absence_mental_probs_z\"]], missing=\"drop\")\n",
    "results = model.fit()\n",
    "print(results.summary2())\n",
    "print()"
   ]
  },
  {
   "cell_type": "code",
   "execution_count": 24,
   "metadata": {},
   "outputs": [
    {
     "name": "stdout",
     "output_type": "stream",
     "text": [
      "                            OLS Regression Results                            \n",
      "==============================================================================\n",
      "Dep. Variable:                treated   R-squared:                       0.244\n",
      "Model:                            OLS   Adj. R-squared:                  0.244\n",
      "Method:                 Least Squares   F-statistic:                     798.0\n",
      "Date:                Wed, 07 Mar 2018   Prob (F-statistic):          2.06e-152\n",
      "Time:                        14:10:43   Log-Likelihood:                -1041.4\n",
      "No. Observations:                2476   AIC:                             2087.\n",
      "Df Residuals:                    2474   BIC:                             2098.\n",
      "Df Model:                           1                                         \n",
      "Covariance Type:            nonrobust                                         \n",
      "==============================================================================\n",
      "                 coef    std err          t      P>|t|      [0.025      0.975]\n",
      "------------------------------------------------------------------------------\n",
      "const       3.026e-15      0.011   2.72e-13      1.000      -0.022       0.022\n",
      "assignment     0.4213      0.015     28.250      0.000       0.392       0.451\n",
      "==============================================================================\n",
      "Omnibus:                      691.513   Durbin-Watson:                   1.996\n",
      "Prob(Omnibus):                  0.000   Jarque-Bera (JB):              183.038\n",
      "Skew:                           0.427   Prob(JB):                     1.79e-40\n",
      "Kurtosis:                       1.978   Cond. No.                         2.77\n",
      "==============================================================================\n",
      "\n",
      "Warnings:\n",
      "[1] Standard Errors assume that the covariance matrix of the errors is correctly specified.\n"
     ]
    }
   ],
   "source": [
    "# Stage 1: regress treated on the instrumental variable.\n",
    "\n",
    "results_fs = sm.OLS(mto_df['treated'],\n",
    "                    mto_df[['const', 'assignment']],\n",
    "                    missing='drop').fit()\n",
    "print(results_fs.summary())"
   ]
  },
  {
   "cell_type": "code",
   "execution_count": 25,
   "metadata": {
    "collapsed": true
   },
   "outputs": [],
   "source": [
    "# store the predicted values\n",
    "mto_df['predicted_treated'] = results_fs.predict()"
   ]
  },
  {
   "cell_type": "code",
   "execution_count": 26,
   "metadata": {},
   "outputs": [
    {
     "name": "stdout",
     "output_type": "stream",
     "text": [
      "                   Results: Ordinary least squares\n",
      "=====================================================================\n",
      "Model:               OLS               Adj. R-squared:      -0.000   \n",
      "Dependent Variable:  diabetes          AIC:                 3404.6784\n",
      "Date:                2018-03-07 14:10  BIC:                 3427.9360\n",
      "No. Observations:    2476              Log-Likelihood:      -1698.3  \n",
      "Df Model:            3                 F-statistic:         0.6921   \n",
      "Df Residuals:        2472              Prob (F-statistic):  0.557    \n",
      "R-squared:           0.001             Scale:               0.23121  \n",
      "---------------------------------------------------------------------\n",
      "                        Coef.  Std.Err.    t    P>|t|   [0.025 0.975]\n",
      "---------------------------------------------------------------------\n",
      "const                   0.3651   0.0165 22.0805 0.0000  0.3327 0.3975\n",
      "predicted_treated      -0.0273   0.0463 -0.5893 0.5557 -0.1180 0.0635\n",
      "hispanic                0.0081   0.0201  0.4034 0.6867 -0.0313 0.0475\n",
      "absence_mental_probs_z  0.0122   0.0098  1.2459 0.2129 -0.0070 0.0314\n",
      "---------------------------------------------------------------------\n",
      "Omnibus:              118.433        Durbin-Watson:           1.953  \n",
      "Prob(Omnibus):        0.000          Jarque-Bera (JB):        422.509\n",
      "Skew:                 0.573          Prob(JB):                0.000  \n",
      "Kurtosis:             1.332          Condition No.:           5      \n",
      "=====================================================================\n",
      "\n"
     ]
    }
   ],
   "source": [
    "# Second Stage - our estimate is essentially identical to the previous WALD estimate\n",
    "results_ss = sm.OLS(mto_df['diabetes'],\n",
    "                    mto_df[['const', 'predicted_treated','hispanic', 'absence_mental_probs_z']],\n",
    "                   missing='drop').fit()\n",
    "print(results_ss.summary2())"
   ]
  },
  {
   "cell_type": "markdown",
   "metadata": {},
   "source": [
    "# Question 7\n",
    "\n",
    "We will now recreate the same estimate as above, this time without manual calculation.\n",
    "\n",
    "Once more, from the output below, we see identical estimate to that in question 6 and question 5.\n",
    "\n",
    "The standard errors are a bit different as prevously mentioned."
   ]
  },
  {
   "cell_type": "code",
   "execution_count": 27,
   "metadata": {},
   "outputs": [
    {
     "name": "stdout",
     "output_type": "stream",
     "text": [
      "                          IV-2SLS Estimation Summary                          \n",
      "==============================================================================\n",
      "Dep. Variable:               diabetes   R-squared:                     -0.0004\n",
      "Estimator:                    IV-2SLS   Adj. R-squared:                -0.0016\n",
      "No. Observations:                2476   F-statistic:                    2.0773\n",
      "Date:                Wed, Mar 07 2018   P-value (F-stat)                0.5565\n",
      "Time:                        14:10:43   Distribution:                  chi2(3)\n",
      "Cov. Estimator:            unadjusted                                         \n",
      "                                                                              \n",
      "                                   Parameter Estimates                                    \n",
      "==========================================================================================\n",
      "                        Parameter  Std. Err.     T-stat    P-value    Lower CI    Upper CI\n",
      "------------------------------------------------------------------------------------------\n",
      "const                      0.3654     0.0169     21.594     0.0000      0.3323      0.3986\n",
      "hispanic                   0.0073     0.0202     0.3590     0.7196     -0.0324      0.0469\n",
      "absence_mental_probs_z     0.0126     0.0098     1.2771     0.2016     -0.0067      0.0319\n",
      "treated                   -0.0275     0.0466    -0.5895     0.5556     -0.1187      0.0638\n",
      "==========================================================================================\n",
      "\n",
      "Endogenous: treated\n",
      "Instruments: assignment\n",
      "Unadjusted Covariance (Homoskedastic)\n",
      "Debiased: False\n"
     ]
    }
   ],
   "source": [
    "iv = ivregress(dependent=mto_df['diabetes'],\n",
    "            exog=mto_df[['const', \"hispanic\", \"absence_mental_probs_z\"]],\n",
    "            endog=mto_df['treated'],\n",
    "            instruments=mto_df['assignment']).fit(cov_type='unadjusted')\n",
    "\n",
    "print(iv.summary)"
   ]
  },
  {
   "cell_type": "code",
   "execution_count": null,
   "metadata": {
    "collapsed": true
   },
   "outputs": [],
   "source": []
  },
  {
   "cell_type": "code",
   "execution_count": null,
   "metadata": {
    "collapsed": true
   },
   "outputs": [],
   "source": []
  },
  {
   "cell_type": "code",
   "execution_count": null,
   "metadata": {
    "collapsed": true
   },
   "outputs": [],
   "source": []
  }
 ],
 "metadata": {
  "kernelspec": {
   "display_name": "Python 3",
   "language": "python",
   "name": "python3"
  },
  "language_info": {
   "codemirror_mode": {
    "name": "ipython",
    "version": 3
   },
   "file_extension": ".py",
   "mimetype": "text/x-python",
   "name": "python",
   "nbconvert_exporter": "python",
   "pygments_lexer": "ipython3",
   "version": "3.6.2"
  }
 },
 "nbformat": 4,
 "nbformat_minor": 2
}
